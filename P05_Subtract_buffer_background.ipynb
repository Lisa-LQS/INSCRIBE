{
 "cells": [
  {
   "cell_type": "markdown",
   "id": "29afe7ec-3d49-410a-8d34-d7eea8a45dcb",
   "metadata": {},
   "source": [
    "## This script subtracts the Buffer only noise from intersected beds "
   ]
  },
  {
   "cell_type": "code",
   "execution_count": 1,
   "id": "e82b840d-a94e-4b79-b93d-fa9c8d1c1798",
   "metadata": {},
   "outputs": [
    {
     "name": "stdout",
     "output_type": "stream",
     "text": [
      "/tscc/lustre/ddn/scratch/q2liang/isSTAMP_publication_scripts/example_analysis_notebooks\n"
     ]
    }
   ],
   "source": [
    "import os\n",
    "cwd = os.getcwd()\n",
    "main_dir = cwd\n",
    "\n",
    "print(main_dir)"
   ]
  },
  {
   "cell_type": "code",
   "execution_count": 2,
   "id": "c7c0006a-bb0a-4866-8393-358ae878d327",
   "metadata": {},
   "outputs": [
    {
     "name": "stdout",
     "output_type": "stream",
     "text": [
      "7\n",
      "['Buffer_Only_PFA', 'Enzyme Only PFA_cleaned', 'Enzyme_Only_PFA', 'RBFOX2 INSCRIBE PFA_cleaned', 'RBFOX2_INSCRIBE_PFA', 'TDP43 INSCRIBE PFA_cleaned', 'TDP43_INSCRIBE_PFA']\n"
     ]
    }
   ],
   "source": [
    "import pybedtools\n",
    "from glob import glob\n",
    "\n",
    "confident_peaks_dir = main_dir + '/confident_clusters/'\n",
    "\n",
    "all_sample=sorted(glob(os.path.join(confident_peaks_dir, '*_confident_clusters.bed')))\n",
    "\n",
    "print(len(all_sample))\n",
    "\n",
    "sample_ids = [i.split('/')[-1].split('_confident_clusters.bed')[0] for i in all_sample]\n",
    "print(sample_ids)\n"
   ]
  },
  {
   "cell_type": "code",
   "execution_count": 3,
   "id": "76a613d8-3bab-4dfd-b155-dc7d213b8870",
   "metadata": {},
   "outputs": [
    {
     "name": "stdout",
     "output_type": "stream",
     "text": [
      "Enzyme Only PFA\n",
      "\t 2431 2491\n",
      "\t\t 1678\n",
      "RBFOX2 INSCRIBE PFA\n",
      "\t 3727 2491\n",
      "\t\t 2970\n",
      "TDP43 INSCRIBE PFA\n",
      "\t 3301 2491\n",
      "\t\t 2540\n"
     ]
    }
   ],
   "source": [
    "background = 'Buffer Only PFA'\n",
    "foreground_lst = ['Enzyme Only PFA', 'RBFOX2 INSCRIBE PFA', 'TDP43 INSCRIBE PFA']\n",
    "\n",
    "for foreground in foreground_lst:\n",
    "\n",
    "    bed1 = confident_peaks_dir +  foreground.replace(' ', '_') + '_confident_clusters.bed'\n",
    "    bed2 = confident_peaks_dir +  background.replace(' ', '_') + '_confident_clusters.bed'\n",
    "\n",
    "    bed_file_name = confident_peaks_dir + '/' + foreground + '_cleaned_confident_clusters.bed'\n",
    "    print(foreground)\n",
    "\n",
    "    foreground_bed = pybedtools.example_bedtool(bed1)\n",
    "    background_bed = pybedtools.example_bedtool(bed2)\n",
    "    print('\\t', len(foreground_bed), len(background_bed))\n",
    "\n",
    "    subtracted_bed = foreground_bed.subtract(background_bed, s=True, f=.75, output = bed_file_name)\n",
    "    print('\\t\\t', len(subtracted_bed))\n",
    "\n",
    "    "
   ]
  }
 ],
 "metadata": {
  "kernelspec": {
   "display_name": "py3",
   "language": "python",
   "name": "py3"
  },
  "language_info": {
   "codemirror_mode": {
    "name": "ipython",
    "version": 3
   },
   "file_extension": ".py",
   "mimetype": "text/x-python",
   "name": "python",
   "nbconvert_exporter": "python",
   "pygments_lexer": "ipython3",
   "version": "3.6.13"
  }
 },
 "nbformat": 4,
 "nbformat_minor": 5
}
