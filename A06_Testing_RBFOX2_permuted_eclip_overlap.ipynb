{
 "cells": [
  {
   "cell_type": "markdown",
   "id": "1f90737f-88fe-4e88-94ff-8968c6b833a1",
   "metadata": {},
   "source": [
    "## This script outputs the actual vs permuted eclip overlap fraction of the edit clusters"
   ]
  },
  {
   "cell_type": "code",
   "execution_count": 1,
   "id": "9904adf8-b16e-460a-8e09-9e943b499a13",
   "metadata": {},
   "outputs": [
    {
     "name": "stdout",
     "output_type": "stream",
     "text": [
      "/tscc/lustre/ddn/scratch/q2liang/isSTAMP_publication_scripts/example_analysis_notebooks\n"
     ]
    }
   ],
   "source": [
    "import os\n",
    "cwd = os.getcwd()\n",
    "\n",
    "main_dir = cwd\n",
    "print(main_dir)"
   ]
  },
  {
   "cell_type": "code",
   "execution_count": 2,
   "id": "ef6f0c5a-e151-4a44-92b9-1d1eafe35a9a",
   "metadata": {},
   "outputs": [
    {
     "data": {
      "text/plain": [
       "120"
      ]
     },
     "execution_count": 2,
     "metadata": {},
     "output_type": "execute_result"
    }
   ],
   "source": [
    "import pandas as pd\n",
    "from glob import glob\n",
    "import pybedtools\n",
    "\n",
    "shuffled_dir = main_dir + '/shuffled_confident_clusters/'\n",
    "shuffled_dir_invivo = main_dir + '/../in_vivo_shuffled_confident_peaks/'\n",
    "shuffled_peak_with_sequence_filepaths = glob(shuffled_dir + '*/*with_sequence.bed') + glob(shuffled_dir_invivo + '*/*with_sequence.bed')\n",
    "len(shuffled_peak_with_sequence_filepaths)"
   ]
  },
  {
   "cell_type": "code",
   "execution_count": 3,
   "id": "5ad512e0-92fe-47d9-b666-8b82bd796458",
   "metadata": {},
   "outputs": [
    {
     "data": {
      "text/plain": [
       "60"
      ]
     },
     "execution_count": 3,
     "metadata": {},
     "output_type": "execute_result"
    }
   ],
   "source": [
    "rbfox2_to_plot_together_label = [ 'RBFOX2_INSCRIBE_PFA', 'Enzyme_Only_PFA', 'RBFOX2_ct_FOX2-APOBEC1_cleaned']\n",
    "rbfox2_shuffles = [f for f in shuffled_peak_with_sequence_filepaths if f.split('/')[-1].split('_shuffle')[0] in rbfox2_to_plot_together_label]\n",
    "len(rbfox2_shuffles)"
   ]
  },
  {
   "cell_type": "markdown",
   "id": "18a2e41d-6559-4de4-82eb-66b3f2230a94",
   "metadata": {},
   "source": [
    "### Load eCLIP file"
   ]
  },
  {
   "cell_type": "code",
   "execution_count": 4,
   "id": "ae2d37dc-ae89-42b1-94de-0b8a493229f3",
   "metadata": {},
   "outputs": [
    {
     "name": "stdout",
     "output_type": "stream",
     "text": [
      "/tscc/lustre/ddn/scratch/q2liang/reference/HEK293T_RBFOX2_reproducible_peaks.bed.hg38.v40.annotated\n",
      "\tBefore filter: 7892\n",
      "\tAfter filter:  7892\n"
     ]
    }
   ],
   "source": [
    "import pybedtools\n",
    "def load_eclip(filepath, l2fc_threshold=2, l10p_threshold=3):\n",
    "    print(filepath)\n",
    "    eclip_df = pd.read_csv(filepath,\n",
    "                               sep='\\t'\n",
    "                               )\n",
    "\n",
    "    total_columns = len(eclip_df.columns)\n",
    "    \n",
    "    eclip_df.columns=['chrom', 'start', 'end', 'l2fc', 'l10p', 'strand'] + [i for i in range(total_columns - 6)]\n",
    "    print('\\tBefore filter:', len(eclip_df))\n",
    "\n",
    "    if 'region' in eclip_df.columns:\n",
    "        eclip_df = eclip_df[~eclip_df.region.isin([\n",
    "            'distintron500', 'proxintron500', 'distnoncoding_intron500', 'proxnoncoding_intron500', 'intergenic'\n",
    "        ])]\n",
    "        \n",
    "    eclip_df = eclip_df[(eclip_df.l2fc > l2fc_threshold) & (eclip_df.l10p > l10p_threshold)]\n",
    "    \n",
    "    eclip_df['chrom'] = [i.split('chr')[1] for i in eclip_df.chrom]\n",
    "    print('\\tAfter filter: ', len(eclip_df))\n",
    "    eclip_bed = pybedtools.BedTool.from_dataframe(eclip_df)\n",
    "\n",
    "    return eclip_bed\n",
    "\n",
    "\n",
    "# overall_path = '/projects/ps-yeolab3/ekofman/Hugo/Full_RBFOX2_and_SLBP/reference/hg38_eCLIPs'\n",
    "q2liang_ref_path = '/tscc/lustre/ddn/scratch/q2liang/reference'\n",
    "\n",
    "rbfox2_HEK_path = '{}/HEK293T_RBFOX2_reproducible_peaks.bed.hg38.v40.annotated'.format(q2liang_ref_path)\n",
    "\n",
    "eclips = {\n",
    "    'rbfox2_HEK': load_eclip(rbfox2_HEK_path)\n",
    "}"
   ]
  },
  {
   "cell_type": "markdown",
   "id": "ffe46f2e-334e-44e1-9c97-1b5888d800b9",
   "metadata": {},
   "source": [
    "### format conversion"
   ]
  },
  {
   "cell_type": "code",
   "execution_count": 5,
   "id": "645e1892-d4e0-4fec-a7bd-dd8e998e1dca",
   "metadata": {},
   "outputs": [],
   "source": [
    "conversion = {\n",
    "    'chr1' : '1', \n",
    "    'chr10': '10', \n",
    "    'chr11': '11', \n",
    "    'chr12': '12', \n",
    "    'chr13': '13', \n",
    "    'chr14': '14', \n",
    "    'chr15': '15',\n",
    "    'chr16': '16',\n",
    "    'chr17': '17', \n",
    "    'chr18': '18', \n",
    "    'chr19': '19', \n",
    "    'chr2' : '2', \n",
    "    'chr20': '20', \n",
    "    'chr21': '21',\n",
    "    'chr22': '22', \n",
    "    'chr3' : '3', \n",
    "    'chr4' : '4', \n",
    "    'chr5' : '5',\n",
    "    'chr6' : '6', \n",
    "    'chr7' : '7', \n",
    "    'chr8' : '8', \n",
    "    'chr9' : '9',\n",
    "    'chrM' : 'M',\n",
    "    'chrX' : 'X', \n",
    "    'chrY' : 'Y'\n",
    "}\n",
    "\n",
    "\n",
    "def change(c):\n",
    "    return conversion.get(c)\n",
    "\n"
   ]
  },
  {
   "cell_type": "markdown",
   "id": "0c58cf7e-77ef-4729-9d49-e0ced7b87938",
   "metadata": {},
   "source": [
    "### Calculate actual overlaps "
   ]
  },
  {
   "cell_type": "code",
   "execution_count": 6,
   "id": "c2bf73a7-4acd-41fc-a485-ebe7010249fa",
   "metadata": {},
   "outputs": [
    {
     "data": {
      "text/plain": [
       "['/tscc/lustre/ddn/scratch/q2liang/isSTAMP_publication_scripts/example_analysis_notebooks/confident_clusters/Enzyme_Only_PFA_cleaned_confident_clusters.bed',\n",
       " '/tscc/lustre/ddn/scratch/q2liang/isSTAMP_publication_scripts/example_analysis_notebooks/confident_clusters/RBFOX2_INSCRIBE_PFA_cleaned_confident_clusters.bed',\n",
       " '/tscc/lustre/ddn/scratch/q2liang/isSTAMP_publication_scripts/example_analysis_notebooks/../in_vivo_confident_peaks/RBFOX2_ct_FOX2-APOBEC1_cleaned.bed']"
      ]
     },
     "execution_count": 6,
     "metadata": {},
     "output_type": "execute_result"
    }
   ],
   "source": [
    "peak_filepaths = sorted(glob(main_dir + '/confident_clusters/*_cleaned_confident*.bed')) \n",
    "\n",
    "actual_rbfox2 = []\n",
    "\n",
    "for peak_filepath in peak_filepaths:    \n",
    "    file_id = peak_filepath.split('/')[-1].split('_cleaned_confident')[0]\n",
    "    # print('\\t', file_id)\n",
    "    if file_id in rbfox2_to_plot_together_label:  \n",
    "        actual_rbfox2.append(peak_filepath)\n",
    "    \n",
    "peak_filepaths_invivo = sorted(glob(main_dir + '/../in_vivo_confident_peaks/*.bed')) \n",
    "for peak_filepath in peak_filepaths_invivo:    \n",
    "    file_id = peak_filepath.split('/')[-1].split('.bed')[0]\n",
    "    # print('\\t', file_id)\n",
    "    if file_id in rbfox2_to_plot_together_label:  \n",
    "        actual_rbfox2.append(peak_filepath)\n",
    "\n",
    "actual_rbfox2"
   ]
  },
  {
   "cell_type": "code",
   "execution_count": 8,
   "id": "97ea0f30-61f5-4a66-b0d4-fc65d761b3b7",
   "metadata": {
    "scrolled": true,
    "tags": []
   },
   "outputs": [
    {
     "name": "stdout",
     "output_type": "stream",
     "text": [
      "/tscc/lustre/ddn/scratch/q2liang/isSTAMP_publication_scripts/example_analysis_notebooks/confident_clusters/Enzyme_Only_PFA_cleaned_confident_clusters.bed\n",
      "1678\n",
      "\n",
      "/tscc/lustre/ddn/scratch/q2liang/isSTAMP_publication_scripts/example_analysis_notebooks/confident_clusters/RBFOX2_INSCRIBE_PFA_cleaned_confident_clusters.bed\n",
      "2970\n",
      "\n",
      "/tscc/lustre/ddn/scratch/q2liang/isSTAMP_publication_scripts/example_analysis_notebooks/../in_vivo_confident_peaks/RBFOX2_ct_FOX2-APOBEC1_cleaned.bed\n",
      "1893\n",
      "\n"
     ]
    }
   ],
   "source": [
    "from collections import defaultdict\n",
    "\n",
    "def calculate_bed_intersection_fraction(stamp_bed, eclip_bed):\n",
    "    intersection = stamp_bed.intersect(eclip_bed, s=True, u=True)\n",
    "    fraction_overlapped_by_eclip = len(intersection)/len(stamp_bed)\n",
    "    return fraction_overlapped_by_eclip\n",
    "rbfox2_actual_intersection_values = defaultdict(lambda:{})\n",
    "\n",
    "for rbfox2_file in actual_rbfox2:\n",
    "    print(rbfox2_file)\n",
    "    if 'in_vivo' in rbfox2_file:\n",
    "        rbfox2_label = rbfox2_file.split('/')[-1].split('.bed')[0]\n",
    "        \n",
    "    if 'in_vivo' not in rbfox2_file:\n",
    "        rbfox2_label = rbfox2_file.split('/')[-1].split('_cleaned_confident')[0]\n",
    "\n",
    "    rbfox2_df = pd.read_csv(rbfox2_file, sep='\\t', names = ['chrom', 'start', 'end', 'score1', 'score2', 'strand', 'region'])\n",
    "    rbfox2_df['chrom'] = rbfox2_df.chrom.astype(str).apply(change)\n",
    "    print(len(rbfox2_df))\n",
    "    print()\n",
    "    rbfox2_bed = pybedtools.BedTool.from_dataframe(rbfox2_df)\n",
    "\n",
    "\n",
    "    for eclip_comparison in ['rbfox2_HEK']:\n",
    "        rbfox2_actual_intersection_values[rbfox2_label][eclip_comparison] = calculate_bed_intersection_fraction(rbfox2_bed, \n",
    "                                                                                                                eclips.get(eclip_comparison))"
   ]
  },
  {
   "cell_type": "code",
   "execution_count": 9,
   "id": "9a8d949e-47ca-4595-8ff6-e91a5944d362",
   "metadata": {},
   "outputs": [
    {
     "data": {
      "text/html": [
       "<div>\n",
       "<style scoped>\n",
       "    .dataframe tbody tr th:only-of-type {\n",
       "        vertical-align: middle;\n",
       "    }\n",
       "\n",
       "    .dataframe tbody tr th {\n",
       "        vertical-align: top;\n",
       "    }\n",
       "\n",
       "    .dataframe thead th {\n",
       "        text-align: right;\n",
       "    }\n",
       "</style>\n",
       "<table border=\"1\" class=\"dataframe\">\n",
       "  <thead>\n",
       "    <tr style=\"text-align: right;\">\n",
       "      <th></th>\n",
       "      <th>rbfox2_HEK</th>\n",
       "    </tr>\n",
       "  </thead>\n",
       "  <tbody>\n",
       "    <tr>\n",
       "      <th>Enzyme_Only_PFA</th>\n",
       "      <td>0.009535</td>\n",
       "    </tr>\n",
       "    <tr>\n",
       "      <th>RBFOX2_INSCRIBE_PFA</th>\n",
       "      <td>0.087542</td>\n",
       "    </tr>\n",
       "    <tr>\n",
       "      <th>RBFOX2_ct_FOX2-APOBEC1_cleaned</th>\n",
       "      <td>0.011094</td>\n",
       "    </tr>\n",
       "  </tbody>\n",
       "</table>\n",
       "</div>"
      ],
      "text/plain": [
       "                                rbfox2_HEK\n",
       "Enzyme_Only_PFA                   0.009535\n",
       "RBFOX2_INSCRIBE_PFA               0.087542\n",
       "RBFOX2_ct_FOX2-APOBEC1_cleaned    0.011094"
      ]
     },
     "execution_count": 9,
     "metadata": {},
     "output_type": "execute_result"
    }
   ],
   "source": [
    "actual_rbfox2_intersection_df = pd.DataFrame(rbfox2_actual_intersection_values)\n",
    "actual_rbfox2_intersection_df.transpose()"
   ]
  },
  {
   "cell_type": "markdown",
   "id": "4a686991-2f7c-4e37-8408-e478f4167448",
   "metadata": {},
   "source": [
    "### Calculate the overlaps of the shuffled peaks"
   ]
  },
  {
   "cell_type": "code",
   "execution_count": 10,
   "id": "08e87103-ec3c-4f1c-9ae8-fc3ebb7e5c3b",
   "metadata": {
    "scrolled": true,
    "tags": []
   },
   "outputs": [
    {
     "name": "stdout",
     "output_type": "stream",
     "text": [
      "Enzyme_Only_PFA\n",
      "\n",
      "1492\n",
      "Enzyme_Only_PFA\n",
      "\n",
      "1492\n",
      "Enzyme_Only_PFA\n",
      "\n",
      "1492\n",
      "Enzyme_Only_PFA\n",
      "\n",
      "1492\n",
      "Enzyme_Only_PFA\n",
      "\n",
      "1492\n",
      "Enzyme_Only_PFA\n",
      "\n",
      "1492\n",
      "Enzyme_Only_PFA\n",
      "\n",
      "1492\n",
      "Enzyme_Only_PFA\n",
      "\n",
      "1492\n",
      "Enzyme_Only_PFA\n",
      "\n",
      "1492\n",
      "Enzyme_Only_PFA\n",
      "\n",
      "1492\n",
      "Enzyme_Only_PFA\n",
      "\n",
      "1492\n",
      "Enzyme_Only_PFA\n",
      "\n",
      "1492\n",
      "Enzyme_Only_PFA\n",
      "\n",
      "1492\n",
      "Enzyme_Only_PFA\n",
      "\n",
      "1492\n",
      "Enzyme_Only_PFA\n",
      "\n",
      "1492\n",
      "Enzyme_Only_PFA\n",
      "\n",
      "1492\n",
      "Enzyme_Only_PFA\n",
      "\n",
      "1492\n",
      "Enzyme_Only_PFA\n",
      "\n",
      "1492\n",
      "Enzyme_Only_PFA\n",
      "\n",
      "1492\n",
      "Enzyme_Only_PFA\n",
      "\n",
      "1492\n",
      "RBFOX2_INSCRIBE_PFA\n",
      "\n",
      "2709\n",
      "RBFOX2_INSCRIBE_PFA\n",
      "\n",
      "2709\n",
      "RBFOX2_INSCRIBE_PFA\n",
      "\n",
      "2709\n",
      "RBFOX2_INSCRIBE_PFA\n",
      "\n",
      "2709\n",
      "RBFOX2_INSCRIBE_PFA\n",
      "\n",
      "2709\n",
      "RBFOX2_INSCRIBE_PFA\n",
      "\n",
      "2709\n",
      "RBFOX2_INSCRIBE_PFA\n",
      "\n",
      "2709\n",
      "RBFOX2_INSCRIBE_PFA\n",
      "\n",
      "2709\n",
      "RBFOX2_INSCRIBE_PFA\n",
      "\n",
      "2709\n",
      "RBFOX2_INSCRIBE_PFA\n",
      "\n",
      "2709\n",
      "RBFOX2_INSCRIBE_PFA\n",
      "\n",
      "2709\n",
      "RBFOX2_INSCRIBE_PFA\n",
      "\n",
      "2709\n",
      "RBFOX2_INSCRIBE_PFA\n",
      "\n",
      "2709\n",
      "RBFOX2_INSCRIBE_PFA\n",
      "\n",
      "2709\n",
      "RBFOX2_INSCRIBE_PFA\n",
      "\n",
      "2709\n",
      "RBFOX2_INSCRIBE_PFA\n",
      "\n",
      "2709\n",
      "RBFOX2_INSCRIBE_PFA\n",
      "\n",
      "2709\n",
      "RBFOX2_INSCRIBE_PFA\n",
      "\n",
      "2709\n",
      "RBFOX2_INSCRIBE_PFA\n",
      "\n",
      "2709\n",
      "RBFOX2_INSCRIBE_PFA\n",
      "\n",
      "2709\n",
      "RBFOX2_ct_FOX2-APOBEC1_cleaned\n",
      "1895\n",
      "\n",
      "RBFOX2_ct_FOX2-APOBEC1_cleaned\n",
      "1895\n",
      "\n",
      "RBFOX2_ct_FOX2-APOBEC1_cleaned\n",
      "1895\n",
      "\n",
      "RBFOX2_ct_FOX2-APOBEC1_cleaned\n",
      "1895\n",
      "\n",
      "RBFOX2_ct_FOX2-APOBEC1_cleaned\n",
      "1895\n",
      "\n",
      "RBFOX2_ct_FOX2-APOBEC1_cleaned\n",
      "1895\n",
      "\n",
      "RBFOX2_ct_FOX2-APOBEC1_cleaned\n",
      "1895\n",
      "\n",
      "RBFOX2_ct_FOX2-APOBEC1_cleaned\n",
      "1895\n",
      "\n",
      "RBFOX2_ct_FOX2-APOBEC1_cleaned\n",
      "1895\n",
      "\n",
      "RBFOX2_ct_FOX2-APOBEC1_cleaned\n",
      "1895\n",
      "\n",
      "RBFOX2_ct_FOX2-APOBEC1_cleaned\n",
      "1895\n",
      "\n",
      "RBFOX2_ct_FOX2-APOBEC1_cleaned\n",
      "1895\n",
      "\n",
      "RBFOX2_ct_FOX2-APOBEC1_cleaned\n",
      "1895\n",
      "\n",
      "RBFOX2_ct_FOX2-APOBEC1_cleaned\n",
      "1895\n",
      "\n",
      "RBFOX2_ct_FOX2-APOBEC1_cleaned\n",
      "1895\n",
      "\n",
      "RBFOX2_ct_FOX2-APOBEC1_cleaned\n",
      "1895\n",
      "\n",
      "RBFOX2_ct_FOX2-APOBEC1_cleaned\n",
      "1895\n",
      "\n",
      "RBFOX2_ct_FOX2-APOBEC1_cleaned\n",
      "1895\n",
      "\n",
      "RBFOX2_ct_FOX2-APOBEC1_cleaned\n",
      "1895\n",
      "\n",
      "RBFOX2_ct_FOX2-APOBEC1_cleaned\n",
      "1895\n",
      "\n"
     ]
    }
   ],
   "source": [
    "from collections import defaultdict \n",
    "\n",
    "overlaps_for_rbfox2_shuffles = defaultdict(lambda:defaultdict(lambda:[]))\n",
    "\n",
    "for shuffle in rbfox2_shuffles:\n",
    "    if 'in_vivo' in shuffle:\n",
    "        rbfox2_label = shuffle.split('/')[-2]\n",
    "        print(rbfox2_label)\n",
    "        stamp_shuffle_bed = pybedtools.BedTool.from_dataframe(pd.read_csv(shuffle, sep='\\t')[['chrom', 'start', 'end', 'strand', 'strand', 'strand']])\n",
    "        print(len(stamp_shuffle_bed))\n",
    "        print()\n",
    "\n",
    "    if 'in_vivo' not in shuffle:\n",
    "        rbfox2_label = shuffle.split('/')[-2]\n",
    "        print(rbfox2_label)\n",
    "        shuffle_df = pd.read_csv(shuffle, sep='\\t', header = 0)[['chrom', 'start', 'end', 'strand', 'strand', 'strand']]\n",
    "        shuffle_df['chrom'] = shuffle_df.chrom.astype(str).apply(change)\n",
    "        print()\n",
    "        stamp_shuffle_bed = pybedtools.BedTool.from_dataframe(shuffle_df)\n",
    "        print(len(stamp_shuffle_bed))\n",
    "\n",
    "    \n",
    "    for eclip_comparison in ['rbfox2_HEK']:\n",
    "        overlaps_for_rbfox2_shuffles[rbfox2_label][eclip_comparison].append(calculate_bed_intersection_fraction(stamp_shuffle_bed,\n",
    "                                                                                                           eclips.get(eclip_comparison)))"
   ]
  },
  {
   "cell_type": "code",
   "execution_count": 11,
   "id": "21f464dc-8293-46e4-85e2-89420f672a4f",
   "metadata": {},
   "outputs": [
    {
     "data": {
      "text/html": [
       "<div>\n",
       "<style scoped>\n",
       "    .dataframe tbody tr th:only-of-type {\n",
       "        vertical-align: middle;\n",
       "    }\n",
       "\n",
       "    .dataframe tbody tr th {\n",
       "        vertical-align: top;\n",
       "    }\n",
       "\n",
       "    .dataframe thead th {\n",
       "        text-align: right;\n",
       "    }\n",
       "</style>\n",
       "<table border=\"1\" class=\"dataframe\">\n",
       "  <thead>\n",
       "    <tr style=\"text-align: right;\">\n",
       "      <th></th>\n",
       "      <th>rbfox2_HEK</th>\n",
       "    </tr>\n",
       "  </thead>\n",
       "  <tbody>\n",
       "    <tr>\n",
       "      <th>Enzyme_Only_PFA</th>\n",
       "      <td>[0.006032171581769437, 0.006702412868632708, 0...</td>\n",
       "    </tr>\n",
       "    <tr>\n",
       "      <th>RBFOX2_INSCRIBE_PFA</th>\n",
       "      <td>[0.03617571059431524, 0.03949796973052787, 0.0...</td>\n",
       "    </tr>\n",
       "    <tr>\n",
       "      <th>RBFOX2_ct_FOX2-APOBEC1_cleaned</th>\n",
       "      <td>[0.005804749340369393, 0.0036939313984168864, ...</td>\n",
       "    </tr>\n",
       "  </tbody>\n",
       "</table>\n",
       "</div>"
      ],
      "text/plain": [
       "                                                                       rbfox2_HEK\n",
       "Enzyme_Only_PFA                 [0.006032171581769437, 0.006702412868632708, 0...\n",
       "RBFOX2_INSCRIBE_PFA             [0.03617571059431524, 0.03949796973052787, 0.0...\n",
       "RBFOX2_ct_FOX2-APOBEC1_cleaned  [0.005804749340369393, 0.0036939313984168864, ..."
      ]
     },
     "execution_count": 11,
     "metadata": {},
     "output_type": "execute_result"
    }
   ],
   "source": [
    "calculate_bed_intersection_fraction_df = pd.DataFrame(overlaps_for_rbfox2_shuffles)\n",
    "calculate_bed_intersection_fraction_df.transpose()"
   ]
  },
  {
   "cell_type": "markdown",
   "id": "7de4b548-3c25-449f-a5ef-6db1c451ed2c",
   "metadata": {},
   "source": [
    "### Plotting"
   ]
  },
  {
   "cell_type": "code",
   "execution_count": 12,
   "id": "3577c1db-f3c6-4298-ac98-27ba4f729928",
   "metadata": {},
   "outputs": [
    {
     "name": "stdout",
     "output_type": "stream",
     "text": [
      "RBFOX2_INSCRIBE_PFA\n",
      "Enzyme_Only_PFA\n",
      "RBFOX2_ct_FOX2-APOBEC1_cleaned\n"
     ]
    }
   ],
   "source": [
    "\n",
    "values_list_rbfox2_HEK = []\n",
    "labels_list_rbfox2_HEK = []\n",
    "\n",
    "\n",
    "for label in rbfox2_to_plot_together_label:\n",
    "    print(label)\n",
    "    if label in overlaps_for_rbfox2_shuffles.keys():\n",
    "        df_for_label = pd.DataFrame(overlaps_for_rbfox2_shuffles.get(label))\n",
    "        values_list_rbfox2_HEK.append(df_for_label['rbfox2_HEK'].tolist())\n",
    "\n",
    "        labels_list_rbfox2_HEK.append(label)\n",
    "\n",
    "    else:\n",
    "        print('{} not present'.format(label))\n",
    "        \n",
    "for k,v in rbfox2_actual_intersection_values.items():\n",
    "    rbfox2_actual_intersection_values[k] = v\n",
    "        "
   ]
  },
  {
   "cell_type": "code",
   "execution_count": 13,
   "id": "c3ea4a47-9fec-452c-abd5-dfce25e07dd3",
   "metadata": {},
   "outputs": [
    {
     "data": {
      "text/plain": [
       "CompletedProcess(args=['mkdir', '/tscc/lustre/ddn/scratch/q2liang/isSTAMP_publication_scripts/example_analysis_notebooks/figures_actual_vs_shuffle/'], returncode=1)"
      ]
     },
     "execution_count": 13,
     "metadata": {},
     "output_type": "execute_result"
    }
   ],
   "source": [
    "import subprocess\n",
    "figures_directory = main_dir + '/figures_actual_vs_shuffle/'\n",
    "subprocess.run([\"mkdir\",figures_directory])\n"
   ]
  },
  {
   "cell_type": "code",
   "execution_count": 14,
   "id": "3767c1e6-ad5e-4e11-9ce9-0e1cc9f30d4f",
   "metadata": {},
   "outputs": [
    {
     "name": "stdout",
     "output_type": "stream",
     "text": [
      "['RBFOX2 INSCRIBE\\n(PFA-fixed)', 'INSCRIBE Enzyme-Only\\n(PFA-fixed)', 'RBFOX2 in cell STAMP']\n"
     ]
    }
   ],
   "source": [
    "label_to_legend_dict = {\n",
    "'RBFOX2_INSCRIBE_PFA':'RBFOX2 INSCRIBE\\n(PFA-fixed)',\n",
    "'Enzyme_Only_PFA':'INSCRIBE Enzyme-Only\\n(PFA-fixed)',\n",
    "'RBFOX2_ct_FOX2-APOBEC1_cleaned': 'RBFOX2 in cell STAMP'\n",
    "}\n",
    "\n",
    "\n",
    "legends = [label_to_legend_dict.get(i) for i in rbfox2_to_plot_together_label]\n",
    "\n",
    "print(legends)"
   ]
  },
  {
   "cell_type": "code",
   "execution_count": 15,
   "id": "30e3c11e-cf4a-4d06-b3eb-21fcfce0220f",
   "metadata": {},
   "outputs": [
    {
     "name": "stdout",
     "output_type": "stream",
     "text": [
      "/tscc/lustre/ddn/scratch/q2liang/isSTAMP_publication_scripts/example_analysis_notebooks/figures_actual_vs_shuffle//RBFOX2_eCLIP\n",
      "RBFOX2_INSCRIBE_PFA\n",
      "0.08754208754208755\n",
      "0.03935031376891842\n",
      "2.2246858832224685\n",
      "Enzyme_Only_PFA\n",
      "0.009535160905840286\n",
      "0.006434316353887399\n",
      "1.481922924116011\n",
      "RBFOX2_ct_FOX2-APOBEC1_cleaned\n",
      "0.011093502377179081\n",
      "0.005303430079155674\n",
      "2.0917599009705827\n",
      "[2.2246858832224685, 1.481922924116011, 2.0917599009705827]\n"
     ]
    },
    {
     "data": {
      "image/png": "[encoded data removed]",
      "text/plain": [
       "<Figure size 432x216 with 1 Axes>"
      ]
     },
     "metadata": {},
     "output_type": "display_data"
    },
    {
     "data": {
      "image/png": "[encoded data removed]",
      "text/plain": [
       "<Figure size 288x216 with 1 Axes>"
      ]
     },
     "metadata": {},
     "output_type": "display_data"
    }
   ],
   "source": [
    "import seaborn as sns\n",
    "from matplotlib import pyplot as plt\n",
    "import numpy as np\n",
    "plt.rcParams['pdf.fonttype'] = 42\n",
    "\n",
    "plot_group = 'RBFOX2_FM-fix-compare'\n",
    "\n",
    "for labels, values, category, title in zip(\n",
    "    [labels_list_rbfox2_HEK], \n",
    "    [values_list_rbfox2_HEK],\n",
    "    ['rbfox2_HEK'],\n",
    "    ['RBFOX2 eCLIP'],\n",
    "):\n",
    "        \n",
    "        filename = title.replace('-', '_').replace(' ', '_').replace(',', '')\n",
    "        filename = '{}/{}'.format(figures_directory, filename)\n",
    "        print(filename)\n",
    "        \n",
    "        custom_params = {\"axes.spines.right\": False, \"axes.spines.top\": False}\n",
    "        sns.set_theme(style=\"whitegrid\", rc=custom_params, font_scale=1.3)\n",
    "\n",
    "        plt.figure(figsize=(6, 3))\n",
    "\n",
    "        tick_labels = legends\n",
    "        range_array= [i for i in range(len(legends))]\n",
    "\n",
    "        a = sns.boxplot(data = values, orient = 'h', palette='pastel', showfliers = False, width= 0.6)\n",
    "        a.set_yticklabels(legends, ha='right', fontsize = 15)\n",
    "        a.yaxis.grid(True)\n",
    "        a.xaxis.grid(True)\n",
    "\n",
    "        # a.set(ylim=(0, 0.05))\n",
    "\n",
    "        b = plt.scatter([rbfox2_actual_intersection_values.get(l).get(category) for l in rbfox2_to_plot_together_label], range_array, marker = 'd', s = 120, color = 'rebeccapurple')\n",
    "        # b = sns.scatterplot(data = [rbfox2_actual_intersection_values.get(l).get(category) for l in rbfox2_to_plot_together_label], orient='h', marker = 'd', s = 200, color = 'rebeccapurple')\n",
    "\n",
    "        plt.xlabel(\"Fraction\", labelpad=10, fontsize = 15 )\n",
    "        plt.title(\"Fraction of STAMP edit clusters overlapping {}\\n(actual vs permuted)\".format(title), pad=20, fontsize = 18)\n",
    "        # c = plt.yticks(range_array, tick_labels)\n",
    "        \n",
    "        # plt.savefig('{}-box-color-{}.png'.format(filename,plot_group), bbox_inches='tight', dpi = 300)\n",
    "        # plt.savefig('{}-box-color-{}.svg'.format(filename,plot_group), bbox_inches='tight')\n",
    "        # plt.savefig('{}-box-color-{}.pdf'.format(filename,plot_group), bbox_inches='tight')\n",
    "\n",
    "        motif_odds_ratios = {}\n",
    "        for label, peak_set in zip(labels, values):\n",
    "            permuted_val = np.mean(peak_set)\n",
    "            actual_val = rbfox2_actual_intersection_values.get(label).get(category)\n",
    "            print(label)\n",
    "            print(actual_val)\n",
    "            print(permuted_val)\n",
    "            print(actual_val/permuted_val)\n",
    "            motif_odds_ratios[label] = actual_val/permuted_val\n",
    "            \n",
    "\n",
    "        ordered_motif_ors = []\n",
    "        for o in rbfox2_to_plot_together_label:\n",
    "            ordered_motif_ors.append(motif_odds_ratios.get(o))\n",
    "        print(ordered_motif_ors)\n",
    "        \n",
    "        plt.figure(figsize=(4, 3))\n",
    "        plt.barh(legends, ordered_motif_ors, color='lightblue', edgecolor = 'black', height = 0.75)\n",
    "    \n",
    "        min_val = np.min(ordered_motif_ors)\n",
    "        max_val = np.max(ordered_motif_ors)\n",
    "\n",
    "        plt.gca().invert_yaxis()\n",
    "\n",
    "        plt.xlim(1, max_val + 0.1)\n",
    "        plt.title(\"Enrichment\\n\" , pad=20, fontsize = 18)\n",
    "        plt.xlabel(\"Enrichment\", labelpad=10, fontsize = 15)\n",
    "\n",
    "\n",
    "        \n",
    "        # plt.savefig('{}-enrich-color-{}.png'.format(filename,plot_group), bbox_inches='tight', dpi = 300)\n",
    "        # plt.savefig('{}-enrich-color-{}.svg'.format(filename,plot_group), bbox_inches='tight')\n",
    "        # plt.savefig('{}-enrich-color-{}.pdf'.format(filename,plot_group), bbox_inches='tight')\n"
   ]
  },
  {
   "cell_type": "code",
   "execution_count": 16,
   "id": "6d7eabec-8d95-4d30-8883-8d4734829140",
   "metadata": {},
   "outputs": [
    {
     "data": {
      "text/plain": [
       "{'RBFOX2_INSCRIBE_PFA': 2.2246858832224685,\n",
       " 'Enzyme_Only_PFA': 1.481922924116011,\n",
       " 'RBFOX2_ct_FOX2-APOBEC1_cleaned': 2.0917599009705827}"
      ]
     },
     "execution_count": 16,
     "metadata": {},
     "output_type": "execute_result"
    }
   ],
   "source": [
    "motif_odds_ratios"
   ]
  },
  {
   "cell_type": "code",
   "execution_count": 17,
   "id": "0330f626-8a1d-48c7-9dfb-04aa4e29bbd1",
   "metadata": {},
   "outputs": [
    {
     "name": "stdout",
     "output_type": "stream",
     "text": [
      "Enzyme_Only_PFA\n",
      "1.9144427992842377\n",
      "RBFOX2_INSCRIBE_PFA\n",
      "19.583706482532257\n",
      "RBFOX2_ct_FOX2-APOBEC1_cleaned\n",
      "5.453807090186958\n"
     ]
    }
   ],
   "source": [
    "import numpy as np\n",
    "from scipy import stats\n",
    "\n",
    "actual_dict =  list(actual_rbfox2_intersection_df.transpose().to_dict().items())[0][1]\n",
    "\n",
    "shuffle_dict = list(calculate_bed_intersection_fraction_df.transpose().to_dict().items())[0][1]\n",
    "\n",
    "\n",
    "\n",
    "for k,v in shuffle_dict.items():\n",
    "    print(k)\n",
    "    mean = np.mean(v)\n",
    "    std = np.std(v)\n",
    "    zscore = (actual_dict.get(k) - mean) / std \n",
    "    print(zscore)\n"
   ]
  }
 ],
 "metadata": {
  "kernelspec": {
   "display_name": "py3",
   "language": "python",
   "name": "py3"
  },
  "language_info": {
   "codemirror_mode": {
    "name": "ipython",
    "version": 3
   },
   "file_extension": ".py",
   "mimetype": "text/x-python",
   "name": "python",
   "nbconvert_exporter": "python",
   "pygments_lexer": "ipython3",
   "version": "3.6.13"
  }
 },
 "nbformat": 4,
 "nbformat_minor": 5
}
