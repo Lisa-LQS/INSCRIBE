{
 "cells": [
  {
   "cell_type": "markdown",
   "id": "b96b9a6f-951d-4bee-ac01-64580e1fc32c",
   "metadata": {},
   "source": [
    "## This script makes intersected .bed files for replicates as \"confident editing clusters\""
   ]
  },
  {
   "cell_type": "code",
   "execution_count": 1,
   "id": "462f5d17-4b1a-46c1-9345-77d9f7237259",
   "metadata": {},
   "outputs": [
    {
     "name": "stdout",
     "output_type": "stream",
     "text": [
      "/tscc/lustre/ddn/scratch/q2liang/isSTAMP_publication_scripts/example_analysis_notebooks\n"
     ]
    }
   ],
   "source": [
    "import os\n",
    "cwd = os.getcwd()\n",
    "main_dir = cwd\n",
    "print(main_dir)"
   ]
  },
  {
   "cell_type": "code",
   "execution_count": 2,
   "id": "c7c0006a-bb0a-4866-8393-358ae878d327",
   "metadata": {},
   "outputs": [],
   "source": [
    "import pybedtools\n",
    "import os\n",
    "from glob import glob\n",
    "\n",
    "peakcaller_bed_dir = main_dir + '/flare_filtered/peak_calling/'\n",
    "all_sample=sorted(glob(os.path.join(peakcaller_bed_dir, '*/*merged_sorted_peaks.fdr_0.1.d_15.merged.bed')))\n",
    "\n",
    "sample_ids = [i.split('/')[-1].split('_merge')[0] for i in all_sample]"
   ]
  },
  {
   "cell_type": "code",
   "execution_count": 3,
   "id": "96fd6f3e-c886-4f00-8abe-567529ee64d4",
   "metadata": {},
   "outputs": [
    {
     "name": "stdout",
     "output_type": "stream",
     "text": [
      "['RBFOX2 INSCRIBE PFA', 'TDP43 INSCRIBE PFA', 'Enzyme Only PFA', 'Buffer Only PFA']\n",
      "{'isSTAMP10_01': 'RBFOX2 INSCRIBE PFA rep1', 'isSTAMP10_02': 'RBFOX2 INSCRIBE PFA rep2', 'isSTAMP10_03': 'RBFOX2 INSCRIBE PFA rep3', 'isSTAMP10_07': 'TDP43 INSCRIBE PFA rep1', 'isSTAMP10_08': 'TDP43 INSCRIBE PFA rep2', 'isSTAMP10_09': 'TDP43 INSCRIBE PFA rep3', 'isSTAMP10_13': 'Enzyme Only PFA rep1', 'isSTAMP10_14': 'Enzyme Only PFA rep2', 'isSTAMP10_15': 'Enzyme Only PFA rep3', 'isSTAMP10_16': 'Buffer Only PFA rep1', 'isSTAMP10_17': 'Buffer Only PFA rep2', 'isSTAMP10_18': 'Buffer Only PFA rep3'}\n"
     ]
    }
   ],
   "source": [
    "import pandas as pd\n",
    "\n",
    "sample_id_to_label = pd.read_csv(main_dir + '/sample_id_to_label-pub.txt', sep = '\\t', header = None, index_col = 0).to_dict().get(1)\n",
    "unique_sample_lst = []\n",
    "\n",
    "for sample in sample_id_to_label: \n",
    "    unique_sample =  sample_id_to_label.get(sample).split(' rep')[0]\n",
    "    unique_sample_lst.append(unique_sample) if unique_sample not in unique_sample_lst else unique_sample_lst\n",
    "\n",
    "print(unique_sample_lst)\n",
    "print(sample_id_to_label)"
   ]
  },
  {
   "cell_type": "code",
   "execution_count": 5,
   "id": "5a6e42cb-dabe-49f5-8578-9dc7a7eb1a86",
   "metadata": {},
   "outputs": [
    {
     "name": "stdout",
     "output_type": "stream",
     "text": [
      "Sample name: RBFOX2 INSCRIBE PFA\n",
      "  Cluster counts in 3 replicates:\n",
      "\t 144721 146234 183136\n",
      "\t  Cluster counts after rep1 x rep2:\n",
      "\t   14123\n",
      "\t\t  Cluster counts after rep1 x rep2 x rep3:\n",
      "\t\t   3727\n",
      "Sample name: TDP43 INSCRIBE PFA\n",
      "  Cluster counts in 3 replicates:\n",
      "\t 151547 127868 163817\n",
      "\t  Cluster counts after rep1 x rep2:\n",
      "\t   13084\n",
      "\t\t  Cluster counts after rep1 x rep2 x rep3:\n",
      "\t\t   3301\n",
      "Sample name: Enzyme Only PFA\n",
      "  Cluster counts in 3 replicates:\n",
      "\t 119019 130855 96054\n",
      "\t  Cluster counts after rep1 x rep2:\n",
      "\t   11340\n",
      "\t\t  Cluster counts after rep1 x rep2 x rep3:\n",
      "\t\t   2431\n",
      "Sample name: Buffer Only PFA\n",
      "  Cluster counts in 3 replicates:\n",
      "\t 123733 106364 119226\n",
      "\t  Cluster counts after rep1 x rep2:\n",
      "\t   9989\n",
      "\t\t  Cluster counts after rep1 x rep2 x rep3:\n",
      "\t\t   2491\n"
     ]
    }
   ],
   "source": [
    "# For 3 replicates\n",
    "import subprocess\n",
    "\n",
    "confident_peaks_dir = main_dir + '/confident_clusters/'\n",
    "subprocess.run([\"mkdir\", confident_peaks_dir])\n",
    "\n",
    "for unique_sample in unique_sample_lst:\n",
    "    if 'PFA' in unique_sample:\n",
    "\n",
    "        for bed in all_sample:\n",
    "            bed_id = bed.split('/')[-1].split('_merge')[0]\n",
    "            # print(bed_id)\n",
    "            # print(sample_id_to_label.get(bed_id))\n",
    "            if unique_sample + ' rep1' in sample_id_to_label.get(bed_id):\n",
    "                bed1 = bed\n",
    "            if unique_sample + ' rep2' in sample_id_to_label.get(bed_id):\n",
    "                bed2 = bed\n",
    "            if unique_sample + ' rep3' in sample_id_to_label.get(bed_id):\n",
    "                bed3 = bed\n",
    "\n",
    "        bed_file_name = confident_peaks_dir + '/' + unique_sample.replace(' ', '_') + '_confident_clusters.bed'\n",
    "        print('Sample name: ' + unique_sample)\n",
    "\n",
    "        rep1 = pybedtools.example_bedtool(bed1)\n",
    "        rep2 = pybedtools.example_bedtool(bed2)\n",
    "        rep3 = pybedtools.example_bedtool(bed3)\n",
    "\n",
    "        print('  Cluster counts in 3 replicates:')\n",
    "        print('\\t', len(rep1), len(rep2), len(rep3))\n",
    "\n",
    "        rep1_rep2 = rep1.intersect(rep2, wa=True, u=True, s=True)\n",
    "        rep1_rep2_rep3 = rep3.intersect(rep1_rep2, wa=True, u=True, s=True, output = bed_file_name)\n",
    "\n",
    "        print('\\t  Cluster counts after rep1 x rep2:')\n",
    "        print('\\t  ', len(rep1_rep2))\n",
    "        print('\\t\\t  Cluster counts after rep1 x rep2 x rep3:')\n",
    "        print('\\t\\t  ', len(rep1_rep2_rep3))\n",
    "\n",
    "\n"
   ]
  }
 ],
 "metadata": {
  "kernelspec": {
   "display_name": "py3",
   "language": "python",
   "name": "py3"
  },
  "language_info": {
   "codemirror_mode": {
    "name": "ipython",
    "version": 3
   },
   "file_extension": ".py",
   "mimetype": "text/x-python",
   "name": "python",
   "nbconvert_exporter": "python",
   "pygments_lexer": "ipython3",
   "version": "3.6.13"
  }
 },
 "nbformat": 4,
 "nbformat_minor": 5
}
