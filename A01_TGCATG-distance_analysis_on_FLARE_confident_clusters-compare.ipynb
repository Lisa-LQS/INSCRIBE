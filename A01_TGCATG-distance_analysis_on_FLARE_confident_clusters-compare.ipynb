{
 "cells": [
  {
   "cell_type": "markdown",
   "id": "8958cc41-5a73-4104-976a-a88bec7426d0",
   "metadata": {},
   "source": [
    "## This script plots the distribution of the closest distance between the cluster center to the UGCAUG motif, on FLARE confident clusters"
   ]
  },
  {
   "cell_type": "markdown",
   "id": "60795e65-d917-4f62-aaec-cc38b06f415f",
   "metadata": {},
   "source": [
    "## MeOH samples compared with PFA samples"
   ]
  },
  {
   "cell_type": "code",
   "execution_count": 1,
   "id": "672389c2-ce54-47a0-a20a-03233364e00d",
   "metadata": {},
   "outputs": [
    {
     "name": "stdout",
     "output_type": "stream",
     "text": [
      "/tscc/lustre/ddn/scratch/q2liang/isSTAMP_publication_scripts/example_analysis_notebooks\n"
     ]
    }
   ],
   "source": [
    "import os\n",
    "cwd = os.getcwd()\n",
    "main_dir = cwd\n",
    "print(main_dir)"
   ]
  },
  {
   "cell_type": "code",
   "execution_count": 2,
   "id": "af17cbe6-473b-45bf-b346-ceb560771f96",
   "metadata": {},
   "outputs": [
    {
     "data": {
      "text/plain": [
       "CompletedProcess(args=['mkdir', '/tscc/lustre/ddn/scratch/q2liang/isSTAMP_publication_scripts/example_analysis_notebooks/figures_density_plot/'], returncode=1)"
      ]
     },
     "execution_count": 2,
     "metadata": {},
     "output_type": "execute_result"
    }
   ],
   "source": [
    "import pandas as pd\n",
    "from glob import glob\n",
    "import pybedtools\n",
    "import subprocess\n",
    "\n",
    "figure_dir = main_dir + \"/figures_density_plot/\"\n",
    "subprocess.run([\"mkdir\", figure_dir])"
   ]
  },
  {
   "cell_type": "code",
   "execution_count": 3,
   "id": "a825c6b8-5ceb-41e8-a4e5-b9c71e14d42f",
   "metadata": {},
   "outputs": [
    {
     "name": "stdout",
     "output_type": "stream",
     "text": [
      "9\n"
     ]
    }
   ],
   "source": [
    "peak_filepaths = sorted(glob(main_dir + '/confident_clusters/*bed'))\n",
    "print(len(peak_filepaths))"
   ]
  },
  {
   "cell_type": "code",
   "execution_count": 4,
   "id": "7098e43b-05f8-44e3-8143-91d03450d343",
   "metadata": {},
   "outputs": [],
   "source": [
    "from pyfaidx import Fasta\n",
    "import re\n",
    "fasta = '/tscc/projects/ps-yeolab3/ekofman/ReferenceData/hg38/cellranger-GRCh38-3.0.0/fasta/genome.fa'\n",
    "FA = Fasta(fasta, rebuild=False)\n",
    "import math\n",
    "\n",
    "def get_sequence(r): \n",
    "    chrom = r.chrom.split('chr')[-1]\n",
    "    if chrom == 'M':\n",
    "        return\n",
    "    start = r.start\n",
    "    end = r.end\n",
    "    strand = r.strand\n",
    "    \n",
    "    sequence = FA[chrom][start:end].seq\n",
    "    sequence = sequence.upper()\n",
    "        \n",
    "    return sequence\n",
    "\n",
    "def get_extended_sequence(r): \n",
    "    chrom = r.chrom.split('chr')[-1]\n",
    "    if chrom == 'M':\n",
    "        return\n",
    "    \n",
    "    midpoint = r.start + (int((r.end - r.start)/2))\n",
    "    start = midpoint - 400\n",
    "    end = midpoint + 400\n",
    "    strand = r.strand\n",
    "    \n",
    "    sequence = FA[chrom][start:end].seq\n",
    "    sequence = sequence.upper()\n",
    "        \n",
    "    return sequence\n",
    "\n",
    "complement = {'A': 'T', 'C': 'G', 'G': 'C', 'T': 'A'}\n",
    "def reverse_complement(seq):\n",
    "    return \"\".join(complement.get(base, base) for base in reversed(seq))\n",
    "\n",
    "def reverse(seq):\n",
    "    return seq[::-1]\n",
    "\n",
    "def motif_present(sequence, motif, strand):\n",
    "    if sequence == None:\n",
    "        return\n",
    "    if strand == '+':\n",
    "        return motif in sequence\n",
    "    elif strand == '-':\n",
    "        return reverse_complement(motif) in sequence\n",
    "\n",
    "def motif_distance_from_center(sequence, motif, strand):\n",
    "    # print(sequence)\n",
    "    if strand == '+':\n",
    "        search_term = motif\n",
    "    elif strand == '-':\n",
    "        search_term = reverse_complement(motif)\n",
    "    else:\n",
    "        search_term = motif\n",
    "    if sequence == None:\n",
    "        return\n",
    "    if search_term in sequence:\n",
    "        closest_position_in_first_half = 1000\n",
    "        closest_position_in_second_half = 1000\n",
    "        \n",
    "        midpoint = math.ceil(len(sequence)/2)\n",
    "        #print('\\tmidpoint is {}'.format(midpoint))\n",
    "        start_of_second_half = midpoint-len(motif)\n",
    "\n",
    "        sequence_first_half = sequence[0:midpoint]\n",
    "        sequence_second_half = sequence[start_of_second_half:]\n",
    "\n",
    "        #print('\\tSplit:', sequence_first_half, sequence_second_half)\n",
    "        if search_term in sequence_first_half:\n",
    "            flipped_sequence = reverse(sequence_first_half)\n",
    "            flipped_search_term = reverse(search_term)\n",
    "            \n",
    "            #print('searching for {} in {}'.format(flipped_search_term, flipped_sequence))\n",
    "            closest_position_in_first_half = - flipped_sequence.index(flipped_search_term) - math.floor(len(motif)/2)\n",
    "            \n",
    "        if search_term in sequence_second_half:\n",
    "            closest_position_in_second_half = sequence_second_half.index(search_term) - math.floor(len(motif)/2)\n",
    "\n",
    "        #print([closest_position_in_first_half, closest_position_in_second_half])\n",
    "        if min(abs(closest_position_in_second_half), abs(closest_position_in_first_half)) == abs(closest_position_in_second_half):\n",
    "            return closest_position_in_second_half\n",
    "        else:\n",
    "            return closest_position_in_first_half\n",
    "    else:\n",
    "        return None\n",
    "    \n",
    "motifs = ['TGCATG', 'AGCATG']\n",
    "\n",
    "def add_sequence_presences(r, window_size=70):\n",
    "    extended_sequence = r['extended_sequence(+)']\n",
    "    strand = r.strand\n",
    "\n",
    "    distance_tgcatg = motif_distance_from_center(extended_sequence, 'TGCATG', strand)\n",
    "    distance_agcatg = motif_distance_from_center(extended_sequence, 'AGCATG', strand)\n",
    "\n",
    "\n",
    "    sequence = r['sequence(+)']\n",
    "\n",
    "    presence_map = {motif: motif_present(sequence, motif, strand) for motif in motifs}\n",
    "    return presence_map.get(motifs[0]), presence_map.get(motifs[1]), distance_tgcatg, distance_agcatg\n",
    "\n",
    "def calculate_fractions(p_df):\n",
    "    fractions_dict = {}\n",
    "    counts_dict = {}\n",
    "    \n",
    "    for motif in motifs + ['any_motif']:\n",
    "        motif_present_count = p_df[motif].sum()\n",
    "        motif_present_fraction = motif_present_count/len(p_df)\n",
    "        fractions_dict[motif] = motif_present_fraction\n",
    "        counts_dict[motif] = motif_present_count\n",
    "    \n",
    "    return fractions_dict, counts_dict"
   ]
  },
  {
   "cell_type": "code",
   "execution_count": null,
   "id": "c1d3d4e8-97cd-4644-83ec-e28ddb2401d8",
   "metadata": {
    "scrolled": true,
    "tags": []
   },
   "outputs": [],
   "source": [
    "stamp_file_dfs = {}\n",
    "all_file_ids = []\n",
    "peak_counts_lst = []\n",
    "\n",
    "for peak_filepath in peak_filepaths:    \n",
    "    print(peak_filepath)\n",
    "    file_id = peak_filepath.split('/')[-1].split('_cleaned')[0]    \n",
    "    if 'bed' in file_id:\n",
    "        continue\n",
    "    print('\\t', file_id)\n",
    "    all_file_ids.append(file_id)\n",
    "    df = pd.read_csv(peak_filepath, sep='\\t', index_col=False, names =['chrom','start', 'end','score', 'edits', 'strand'])\n",
    "    # df = df[df['chrom'].isin(common_chroms)]\n",
    "    print(len(df))\n",
    "    peak_counts_lst.append(len(df))\n",
    "    stamp_file_dfs[file_id] = df"
   ]
  },
  {
   "cell_type": "code",
   "execution_count": 6,
   "id": "b118598c-64b2-4a7b-904a-0eadbd88c191",
   "metadata": {},
   "outputs": [
    {
     "data": {
      "text/html": [
       "<div>\n",
       "<style scoped>\n",
       "    .dataframe tbody tr th:only-of-type {\n",
       "        vertical-align: middle;\n",
       "    }\n",
       "\n",
       "    .dataframe tbody tr th {\n",
       "        vertical-align: top;\n",
       "    }\n",
       "\n",
       "    .dataframe thead th {\n",
       "        text-align: right;\n",
       "    }\n",
       "</style>\n",
       "<table border=\"1\" class=\"dataframe\">\n",
       "  <thead>\n",
       "    <tr style=\"text-align: right;\">\n",
       "      <th></th>\n",
       "      <th>sample</th>\n",
       "      <th>peak counts</th>\n",
       "    </tr>\n",
       "  </thead>\n",
       "  <tbody>\n",
       "    <tr>\n",
       "      <th>0</th>\n",
       "      <td>ANonly</td>\n",
       "      <td>2168</td>\n",
       "    </tr>\n",
       "    <tr>\n",
       "      <th>1</th>\n",
       "      <td>Enzyme Only PFA</td>\n",
       "      <td>1678</td>\n",
       "    </tr>\n",
       "    <tr>\n",
       "      <th>3</th>\n",
       "      <td>RBFOX2</td>\n",
       "      <td>5602</td>\n",
       "    </tr>\n",
       "    <tr>\n",
       "      <th>2</th>\n",
       "      <td>RBFOX2 INSCRIBE PFA</td>\n",
       "      <td>2970</td>\n",
       "    </tr>\n",
       "    <tr>\n",
       "      <th>4</th>\n",
       "      <td>TDP43 INSCRIBE PFA</td>\n",
       "      <td>2540</td>\n",
       "    </tr>\n",
       "  </tbody>\n",
       "</table>\n",
       "</div>"
      ],
      "text/plain": [
       "                sample peak counts\n",
       "0               ANonly        2168\n",
       "1      Enzyme Only PFA        1678\n",
       "3               RBFOX2        5602\n",
       "2  RBFOX2 INSCRIBE PFA        2970\n",
       "4   TDP43 INSCRIBE PFA        2540"
      ]
     },
     "execution_count": 6,
     "metadata": {},
     "output_type": "execute_result"
    }
   ],
   "source": [
    "df_peak_count_info = pd.DataFrame([all_file_ids,peak_counts_lst])\n",
    "df_peak_count_info = df_peak_count_info.transpose()\n",
    "df_peak_count_info.columns = ['sample', 'peak counts']\n",
    "df_peak_count_info = df_peak_count_info.sort_values(by = 'sample')\n",
    "df_peak_count_info"
   ]
  },
  {
   "cell_type": "code",
   "execution_count": 7,
   "id": "364cc632-2154-48a2-8ff0-ad436c36bff0",
   "metadata": {
    "scrolled": true,
    "tags": []
   },
   "outputs": [
    {
     "name": "stdout",
     "output_type": "stream",
     "text": [
      "ANonly\n",
      "\t 2168\n",
      "Enzyme Only PFA\n",
      "\t 1678\n",
      "RBFOX2 INSCRIBE PFA\n",
      "\t 2970\n",
      "RBFOX2\n",
      "\t 5602\n",
      "TDP43 INSCRIBE PFA\n"
     ]
    }
   ],
   "source": [
    "from collections import defaultdict\n",
    "\n",
    "actual_motif_fractions = defaultdict(lambda:{})\n",
    "dfs_with_motif_info = {}\n",
    "for label,df in stamp_file_dfs.items():\n",
    "    print(label)\n",
    "    if 'TDP' in label:\n",
    "        continue\n",
    "    print('\\t', len(df))\n",
    "    df['sequence(+)'] = df.apply(get_sequence, axis=1)\n",
    "    df['extended_sequence(+)'] = df.apply(get_extended_sequence, axis=1)\n",
    "    # print(df['sequence(+)'])\n",
    "\n",
    "    df[motifs[0]],df[motifs[1]],df['TGCATG_dist_from_center'], df['AGCATG_dist_from_center'] = zip(*df.apply(add_sequence_presences, axis=1))\n",
    "\n",
    "    df['any_motif'] = df[[motifs[0], motifs[1]]].any(axis=1)\n",
    "    dfs_with_motif_info[label] = df\n",
    "    \n",
    "    for motif in motifs:\n",
    "        actual_motif_fractions[label][motif] = len(df[df[motif] == True])/len(df)"
   ]
  },
  {
   "cell_type": "code",
   "execution_count": 9,
   "id": "13ffcbdf-ba6e-4a20-989d-3f79cd287151",
   "metadata": {},
   "outputs": [
    {
     "name": "stdout",
     "output_type": "stream",
     "text": [
      "['RBFOX2', 'ANonly', 'RBFOX2 INSCRIBE PFA', 'Enzyme Only PFA']\n"
     ]
    }
   ],
   "source": [
    "to_be_plotted = [ 'RBFOX2',  'ANonly', 'RBFOX2 INSCRIBE PFA','Enzyme Only PFA',]\n",
    "print(to_be_plotted)"
   ]
  },
  {
   "cell_type": "markdown",
   "id": "99dadf97-2e0d-489d-96b1-0686ecabd51a",
   "metadata": {},
   "source": [
    "### Plotting"
   ]
  },
  {
   "cell_type": "code",
   "execution_count": 14,
   "id": "2c60a698-a4c2-4000-b32a-f84eead7ef9f",
   "metadata": {},
   "outputs": [
    {
     "name": "stderr",
     "output_type": "stream",
     "text": [
      "/tscc/nfs/home/q2liang/miniconda3/envs/py3/lib/python3.6/site-packages/seaborn/distributions.py:2619: FutureWarning: `distplot` is a deprecated function and will be removed in a future version. Please adapt your code to use either `displot` (a figure-level function with similar flexibility) or `kdeplot` (an axes-level function for kernel density plots).\n",
      "  warnings.warn(msg, FutureWarning)\n",
      "/tscc/nfs/home/q2liang/miniconda3/envs/py3/lib/python3.6/site-packages/seaborn/distributions.py:2619: FutureWarning: `distplot` is a deprecated function and will be removed in a future version. Please adapt your code to use either `displot` (a figure-level function with similar flexibility) or `kdeplot` (an axes-level function for kernel density plots).\n",
      "  warnings.warn(msg, FutureWarning)\n",
      "/tscc/nfs/home/q2liang/miniconda3/envs/py3/lib/python3.6/site-packages/seaborn/distributions.py:2619: FutureWarning: `distplot` is a deprecated function and will be removed in a future version. Please adapt your code to use either `displot` (a figure-level function with similar flexibility) or `kdeplot` (an axes-level function for kernel density plots).\n",
      "  warnings.warn(msg, FutureWarning)\n",
      "/tscc/nfs/home/q2liang/miniconda3/envs/py3/lib/python3.6/site-packages/seaborn/distributions.py:2619: FutureWarning: `distplot` is a deprecated function and will be removed in a future version. Please adapt your code to use either `displot` (a figure-level function with similar flexibility) or `kdeplot` (an axes-level function for kernel density plots).\n",
      "  warnings.warn(msg, FutureWarning)\n"
     ]
    },
    {
     "data": {
      "image/png": "[encoded data removed]",
      "text/plain": [
       "<Figure size 432x288 with 1 Axes>"
      ]
     },
     "metadata": {
      "needs_background": "light"
     },
     "output_type": "display_data"
    }
   ],
   "source": [
    "# Plot a subset of experiments\n",
    "file_header = 'PFA-fix-compare-to-MeOH'\n",
    "\n",
    "from matplotlib import pyplot as plt\n",
    "import matplotlib\n",
    "import numpy as np\n",
    "import seaborn as sns\n",
    "plt.rcParams['pdf.fonttype'] = 42\n",
    "\n",
    "to_plot_together = {}\n",
    "\n",
    "to_plot_together_label = to_be_plotted\n",
    "\n",
    "\n",
    "for experiment in to_plot_together_label:\n",
    "    # print(experiment)\n",
    "    df = dfs_with_motif_info.get(experiment)\n",
    "    df_with_dists = df[~df.TGCATG_dist_from_center.isna()]\n",
    "    \n",
    "    to_plot_together[experiment] = df_with_dists\n",
    "        \n",
    "\n",
    "distance_columns = [c for c in list(df.columns[-9:]) if 'dist' in c]\n",
    "\n",
    "legend = legend = ['RBFOX2 INSCRIBE (MeOH-fixed)', 'Enzyme Only (MeOH-fixed)', 'RBFOX2 INSCRIBE (PFA-fixed)', 'Enzyme Only (PFA-fixed)']\n",
    "\n",
    "colors = [\"#ff7f0e\", \"#1f77b4\" , \"#2ca02c\", \"#8c564b\"]\n",
    "sns.set_palette(sns.color_palette(colors))\n",
    "\n",
    "for c in distance_columns:\n",
    "    if 'AGCATG' in c:\n",
    "        continue\n",
    "\n",
    "    plt.figure(figsize=(6, 4))\n",
    "    for label, df in to_plot_together.items():\n",
    "        # legend.append(label)\n",
    "        plt.xlim(-350, 350)\n",
    "        # plt.ylim(0.00075, 0.00225)\n",
    "        g = sns.distplot(df[c], hist=False, kde_kws=dict(linewidth=3.5))\n",
    "        # g.set(yticklabels=[])\n",
    "        plt.legend(legend, bbox_to_anchor=(0.5, -0.15), loc=\"upper center\", ncol=2)\n",
    "        motif_label = c.split('_')[0]\n",
    "        plt.xlabel(\"Edit cluster distance (nt) from nearest {}\".format(motif_label).replace('T', 'U'))\n",
    "        plt.ylabel(\"Density\")\n",
    "        plt.title(\"Distribution of distance to closest {} across edit clusters\".format(motif_label).replace('T', 'U'), fontsize = 12)\n",
    "#         plt.savefig(figure_dir + '/{}_distance_to_center_{}_2024.png'.format(motif_label, file_header), bbox_inches='tight', dpi = 300)\n",
    "#         plt.savefig(figure_dir + '/{}_distance_to_center_{}_2024.svg'.format(motif_label, file_header),bbox_inches='tight', dpi = 300)\n",
    "#         plt.savefig(figure_dir + '/{}_distance_to_center_{}_2024.pdf'.format(motif_label, file_header),bbox_inches='tight', dpi = 300)\n",
    "\n"
   ]
  }
 ],
 "metadata": {
  "kernelspec": {
   "display_name": "py3",
   "language": "python",
   "name": "py3"
  },
  "language_info": {
   "codemirror_mode": {
    "name": "ipython",
    "version": 3
   },
   "file_extension": ".py",
   "mimetype": "text/x-python",
   "name": "python",
   "nbconvert_exporter": "python",
   "pygments_lexer": "ipython3",
   "version": "3.6.13"
  }
 },
 "nbformat": 4,
 "nbformat_minor": 5
}
