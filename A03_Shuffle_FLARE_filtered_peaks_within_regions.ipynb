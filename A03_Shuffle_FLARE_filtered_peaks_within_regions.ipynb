{
 "cells": [
  {
   "cell_type": "markdown",
   "id": "82da41c1-3cfc-4a29-b38b-53a0e1723219",
   "metadata": {},
   "source": [
    "## This script produced 20 shuffled FLARE bed file (shuffle within the region)"
   ]
  },
  {
   "cell_type": "code",
   "execution_count": 1,
   "id": "3e36566b-f4aa-441f-abb5-fa8e26f5d416",
   "metadata": {},
   "outputs": [
    {
     "name": "stdout",
     "output_type": "stream",
     "text": [
      "/tscc/lustre/ddn/scratch/q2liang/isSTAMP_publication_scripts/example_analysis_notebooks\n"
     ]
    }
   ],
   "source": [
    "import os\n",
    "cwd = os.getcwd()\n",
    "main_dir = cwd\n",
    "print(main_dir)"
   ]
  },
  {
   "cell_type": "code",
   "execution_count": 2,
   "id": "3d93551e-16b2-4e0c-82eb-050c2c765dc1",
   "metadata": {},
   "outputs": [],
   "source": [
    "import pandas as pd\n",
    "import pybedtools\n",
    "from glob import glob\n"
   ]
  },
  {
   "cell_type": "markdown",
   "id": "88857da8-7a5b-4c2a-ad86-69eb9a42aff7",
   "metadata": {},
   "source": [
    "### Load peak files: cleaned confident peaks"
   ]
  },
  {
   "cell_type": "code",
   "execution_count": 7,
   "id": "f1d6968a-9c69-46b1-9676-9f7b83a96044",
   "metadata": {},
   "outputs": [
    {
     "name": "stdout",
     "output_type": "stream",
     "text": [
      "3\n",
      "/tscc/lustre/ddn/scratch/q2liang/isSTAMP_publication_scripts/example_analysis_notebooks/confident_clusters/Enzyme_Only_PFA_cleaned_confident_clusters.bed\n",
      "\t Enzyme_Only_PFA\n",
      "/tscc/lustre/ddn/scratch/q2liang/isSTAMP_publication_scripts/example_analysis_notebooks/confident_clusters/RBFOX2_INSCRIBE_PFA_cleaned_confident_clusters.bed\n",
      "\t RBFOX2_INSCRIBE_PFA\n",
      "/tscc/lustre/ddn/scratch/q2liang/isSTAMP_publication_scripts/example_analysis_notebooks/confident_clusters/TDP43_INSCRIBE_PFA_cleaned_confident_clusters.bed\n",
      "\t TDP43_INSCRIBE_PFA\n",
      "3\n"
     ]
    }
   ],
   "source": [
    "peak_filepaths = sorted(glob(main_dir + '/confident_clusters/*_cleaned_confident_clusters.bed'))\n",
    "\n",
    "print(len(peak_filepaths))\n",
    "\n",
    "file_id_to_df = {}\n",
    "\n",
    "for peak_filepath in peak_filepaths:    \n",
    "    print(peak_filepath)\n",
    "    file_id = peak_filepath.split('/')[-1].split('_cleaned_confident')[0]\n",
    "    print('\\t', file_id)\n",
    "    file_id_to_df[file_id] = pd.read_csv(peak_filepath, sep='\\t', header = None, names = ['chrom', 'start', 'end', 'depth', 'fractions', 'strand', 'region'])\n",
    "\n",
    "print(len(file_id_to_df))"
   ]
  },
  {
   "cell_type": "markdown",
   "id": "acaf8677-c0fe-48df-887d-2b5a7cca802b",
   "metadata": {},
   "source": [
    "### Make bedtools from peak files"
   ]
  },
  {
   "cell_type": "code",
   "execution_count": 8,
   "id": "e20122ae-2c25-4103-8987-7375d62b9af4",
   "metadata": {},
   "outputs": [
    {
     "name": "stdout",
     "output_type": "stream",
     "text": [
      "Enzyme_Only_PFA\n",
      "\t 1678\n",
      "RBFOX2_INSCRIBE_PFA\n",
      "\t 2970\n",
      "TDP43_INSCRIBE_PFA\n",
      "\t 2540\n"
     ]
    }
   ],
   "source": [
    "file_id_to_bedtool = {}\n",
    "for file_id, df in file_id_to_df.items():\n",
    "    print(file_id)\n",
    "    bedtool = pybedtools.BedTool.from_dataframe(df[['chrom', 'start', 'end', 'strand']])\n",
    "    print('\\t', len(bedtool))\n",
    "    file_id_to_bedtool[file_id] = bedtool"
   ]
  },
  {
   "cell_type": "markdown",
   "id": "f86c90d2-8dc5-4e1d-99c0-e5a6342980c0",
   "metadata": {},
   "source": [
    "### Load regions in which to shuffle STAMP peaks"
   ]
  },
  {
   "cell_type": "code",
   "execution_count": 9,
   "id": "a749ff82-e8e2-4b71-807d-f1bcd0439f99",
   "metadata": {},
   "outputs": [],
   "source": [
    "# Load regions\n",
    "region_map_bedtool = pybedtools.BedTool('/tscc/projects/ps-yeolab3/ekofman/ReferenceData/peakcalling_regions/hg38/hg38_cellranger_region_map.bed')\n",
    "len(region_map_bedtool)\n",
    "\n",
    "def add_index(r):\n",
    "    return '{}:{}-{}({})'.format(r.chrom, r.start, r.end, r.strand)\n",
    "\n",
    "names = 'chrom   start   end     edit_fraction   strand  target_bases    edited_bases    num_edited_reads        total_reads_in_region   fraction_reads_edited   mean_depth      num_substrate_bases     subregion_coverage      subregion_conversions   region_coverage region_conversions      gene_coverage   gene_conversions        score'.split()\n"
   ]
  },
  {
   "cell_type": "markdown",
   "id": "89cbb153-0602-4597-a0b4-3d792a93cfcb",
   "metadata": {},
   "source": [
    "### format conversion"
   ]
  },
  {
   "cell_type": "code",
   "execution_count": 10,
   "id": "0aa6cfde-fad8-4eb1-a274-9ef77491b96e",
   "metadata": {},
   "outputs": [
    {
     "name": "stderr",
     "output_type": "stream",
     "text": [
      "/tscc/nfs/home/q2liang/miniconda3/envs/py3/lib/python3.6/site-packages/IPython/core/interactiveshell.py:3343: DtypeWarning: Columns (0) have mixed types.Specify dtype option on import or set low_memory=False.\n",
      "  exec(code_obj, self.user_global_ns, self.user_ns)\n"
     ]
    }
   ],
   "source": [
    "conversion = {\n",
    "    'chr1' : '1', \n",
    "    'chr10': '10', \n",
    "    'chr11': '11', \n",
    "    'chr12': '12', \n",
    "    'chr13': '13', \n",
    "    'chr14': '14', \n",
    "    'chr15': '15',\n",
    "    'chr16': '16',\n",
    "    'chr17': '17', \n",
    "    'chr18': '18', \n",
    "    'chr19': '19', \n",
    "    'chr2' : '2', \n",
    "    'chr20': '20', \n",
    "    'chr21': '21',\n",
    "    'chr22': '22', \n",
    "    'chr3' : '3', \n",
    "    'chr4' : '4', \n",
    "    'chr5' : '5',\n",
    "    'chr6' : '6', \n",
    "    'chr7' : '7', \n",
    "    'chr8' : '8', \n",
    "    'chr9' : '9',\n",
    "    'chrM' : 'MT',\n",
    "    'chrX' : 'X', \n",
    "    'chrY' : 'Y'\n",
    "}\n",
    "\n",
    "conversion = {v:k for k,v in conversion.items()}\n",
    "\n",
    "\n",
    "def change(c):\n",
    "    return conversion.get(c)\n",
    "\n",
    "region_map_df = region_map_bedtool.to_dataframe()\n",
    "region_map_df['chrom'] = region_map_df.chrom.astype(str).apply(change)\n",
    "region_map_bedtool = pybedtools.BedTool.from_dataframe(region_map_df)"
   ]
  },
  {
   "cell_type": "markdown",
   "id": "c6cbfd6c-85b2-4f99-a166-622ff8d3fba9",
   "metadata": {},
   "source": [
    "### Permute the STAMP peaks within their respective region"
   ]
  },
  {
   "cell_type": "code",
   "execution_count": 11,
   "id": "2e5e63cd-8d5c-4805-8ac5-828bbb0ea537",
   "metadata": {
    "scrolled": true,
    "tags": []
   },
   "outputs": [
    {
     "name": "stdout",
     "output_type": "stream",
     "text": [
      "Enzyme_Only_PFA\n"
     ]
    },
    {
     "name": "stderr",
     "output_type": "stream",
     "text": [
      "***** WARNING: File /tmp/pybedtools.gjhvq2pu.tmp has inconsistent naming convention for record:\n",
      "\t56140\t58376\texon\tBX004987.1\t-\n",
      "\n",
      "***** WARNING: File /tmp/pybedtools.gjhvq2pu.tmp has inconsistent naming convention for record:\n",
      "\t56140\t58376\texon\tBX004987.1\t-\n",
      "\n"
     ]
    },
    {
     "name": "stdout",
     "output_type": "stream",
     "text": [
      "\t 1492 1678\n",
      "RBFOX2_INSCRIBE_PFA\n"
     ]
    },
    {
     "name": "stderr",
     "output_type": "stream",
     "text": [
      "***** WARNING: File /tmp/pybedtools.gjhvq2pu.tmp has inconsistent naming convention for record:\n",
      "\t56140\t58376\texon\tBX004987.1\t-\n",
      "\n",
      "***** WARNING: File /tmp/pybedtools.gjhvq2pu.tmp has inconsistent naming convention for record:\n",
      "\t56140\t58376\texon\tBX004987.1\t-\n",
      "\n"
     ]
    },
    {
     "name": "stdout",
     "output_type": "stream",
     "text": [
      "\t 2709 2970\n",
      "TDP43_INSCRIBE_PFA\n",
      "\t 2267 2540\n"
     ]
    },
    {
     "name": "stderr",
     "output_type": "stream",
     "text": [
      "***** WARNING: File /tmp/pybedtools.gjhvq2pu.tmp has inconsistent naming convention for record:\n",
      "\t56140\t58376\texon\tBX004987.1\t-\n",
      "\n",
      "***** WARNING: File /tmp/pybedtools.gjhvq2pu.tmp has inconsistent naming convention for record:\n",
      "\t56140\t58376\texon\tBX004987.1\t-\n",
      "\n"
     ]
    }
   ],
   "source": [
    "file_id_to_intersected = {}\n",
    "\n",
    "for file_id, bedtool in file_id_to_bedtool.items():\n",
    "    print(file_id)\n",
    "    intersected = region_map_bedtool.intersect(bedtool, wa=True, wb=True).to_dataframe(names=['chrom_region', 'start_region', 'end_region', 'symbol_region', 'label_region', 'strand_region'] +names )\n",
    "\n",
    "    intersected.index = intersected.apply(add_index, axis=1)\n",
    "    intersected = intersected[(intersected.start >= intersected.start_region) & (intersected.end <= intersected.end_region)]\n",
    "    intersected['peak_size'] = intersected['end'] - intersected['start']\n",
    "    intersected = intersected[~intersected.index.duplicated(keep='first')]\n",
    "    print('\\t', len(intersected), len(bedtool))\n",
    "    file_id_to_intersected[file_id] = intersected\n",
    "    "
   ]
  },
  {
   "cell_type": "code",
   "execution_count": 12,
   "id": "0dd21c2f-7794-4461-a3ab-e0350f276d4a",
   "metadata": {},
   "outputs": [],
   "source": [
    "import random\n",
    "\n",
    "NUM_RAND_REGIONS = 20\n",
    "\n",
    "def get_randomized_region(chrom, start, end, strand, peak_size):\n",
    "    random_regions = []\n",
    "    for n in range(NUM_RAND_REGIONS):\n",
    "        random_start = random.randint(start, end-peak_size)\n",
    "        random_end = random_start + peak_size\n",
    "        \n",
    "        random_region = '{}:{}-{}({})'.format(chrom, random_start, random_end, strand)\n",
    "        random_regions.append(random_region)\n",
    "    \n",
    "    return random_regions\n",
    "    \n",
    "def get_random_regions(chrom, start, end, peak_start, peak_end, strand):\n",
    "    peak_size = peak_end - peak_start\n",
    "    return get_randomized_region(chrom, start, end, strand, peak_size)\n",
    "    "
   ]
  },
  {
   "cell_type": "code",
   "execution_count": 13,
   "id": "2ae10143-6fac-416d-962d-1551caef4213",
   "metadata": {},
   "outputs": [
    {
     "data": {
      "text/plain": [
       "dict_keys(['Enzyme_Only_PFA', 'RBFOX2_INSCRIBE_PFA', 'TDP43_INSCRIBE_PFA'])"
      ]
     },
     "execution_count": 13,
     "metadata": {},
     "output_type": "execute_result"
    }
   ],
   "source": [
    "file_id_to_intersected.keys()"
   ]
  },
  {
   "cell_type": "code",
   "execution_count": 14,
   "id": "bae52eca-a53f-4c87-bb07-ea7b88b7d2dc",
   "metadata": {},
   "outputs": [
    {
     "name": "stdout",
     "output_type": "stream",
     "text": [
      "Enzyme_Only_PFA\n",
      "\t 1492 20\n",
      "RBFOX2_INSCRIBE_PFA\n",
      "\t 2709 20\n",
      "TDP43_INSCRIBE_PFA\n",
      "\t 2267 20\n"
     ]
    }
   ],
   "source": [
    "file_id_to_shuffle_dfs = {}\n",
    "\n",
    "for file_id, intersected in file_id_to_intersected.items():\n",
    "    print(file_id)\n",
    "    \n",
    "    all_regions = []\n",
    "    all_indices = []\n",
    "\n",
    "    for r in intersected.iterrows():\n",
    "        index = r[0]\n",
    "        r = r[1]\n",
    "        chrom = r.loc['chrom_region']\n",
    "        start = r.loc['start_region']\n",
    "        end = r.loc['end_region']\n",
    "        peak_start = r.loc['start']\n",
    "        peak_end = r.loc['end']\n",
    "        strand = r.loc['strand_region']\n",
    "\n",
    "        try:\n",
    "            n_regions = get_random_regions(chrom, start, end, peak_start, peak_end, strand)\n",
    "            all_regions.append(n_regions)\n",
    "\n",
    "            all_indices.append(index)\n",
    "        except Exception as e:\n",
    "            print(chrom, start, end, peak_start, peak_end, strand)\n",
    "            print(e)\n",
    "            \n",
    "    shuffle_df = pd.DataFrame(all_regions, index=all_indices)\n",
    "    shuffle_df = shuffle_df[~shuffle_df.index.duplicated(keep='first')]\n",
    "    \n",
    "    print('\\t', len(shuffle_df), len(shuffle_df.columns))\n",
    "    file_id_to_shuffle_dfs[file_id] = shuffle_df"
   ]
  },
  {
   "cell_type": "markdown",
   "id": "afb140e0-5c79-409f-8c57-a275cc7332ab",
   "metadata": {},
   "source": [
    "### From aggregate dfs containing shuffled information, extract each column as a random bed file and save"
   ]
  },
  {
   "cell_type": "code",
   "execution_count": 15,
   "id": "d8423dd9-0fc7-40fb-b048-9d6dedf1e2fc",
   "metadata": {
    "scrolled": true,
    "tags": []
   },
   "outputs": [
    {
     "name": "stdout",
     "output_type": "stream",
     "text": [
      "Enzyme_Only_PFA\n",
      "0/20\n",
      "1/20\n",
      "2/20\n",
      "3/20\n",
      "4/20\n",
      "5/20\n",
      "6/20\n",
      "7/20\n",
      "8/20\n",
      "9/20\n",
      "10/20\n",
      "11/20\n",
      "12/20\n",
      "13/20\n",
      "14/20\n",
      "15/20\n",
      "16/20\n",
      "17/20\n",
      "18/20\n",
      "19/20\n",
      "RBFOX2_INSCRIBE_PFA\n",
      "0/20\n",
      "1/20\n",
      "2/20\n",
      "3/20\n",
      "4/20\n",
      "5/20\n",
      "6/20\n",
      "7/20\n",
      "8/20\n",
      "9/20\n",
      "10/20\n",
      "11/20\n",
      "12/20\n",
      "13/20\n",
      "14/20\n",
      "15/20\n",
      "16/20\n",
      "17/20\n",
      "18/20\n",
      "19/20\n",
      "TDP43_INSCRIBE_PFA\n",
      "0/20\n",
      "1/20\n",
      "2/20\n",
      "3/20\n",
      "4/20\n",
      "5/20\n",
      "6/20\n",
      "7/20\n",
      "8/20\n",
      "9/20\n",
      "10/20\n",
      "11/20\n",
      "12/20\n",
      "13/20\n",
      "14/20\n",
      "15/20\n",
      "16/20\n",
      "17/20\n",
      "18/20\n",
      "19/20\n"
     ]
    }
   ],
   "source": [
    "def expand_string_to_df(label):\n",
    "    chrom = label.split(':')[0]\n",
    "    start = label.split(':')[1].split('-')[0]\n",
    "    end = label.split(':')[1].split('-')[1].split('(')[0]\n",
    "    strand = label.split('(')[1].split(')')[0]\n",
    "    return chrom, start, end, strand\n",
    "\n",
    "\n",
    "file_id_to_list_of_random_instance_dfs = {}\n",
    "\n",
    "\n",
    "for file_id, shuffle_df in file_id_to_shuffle_dfs.items():\n",
    "    print(file_id)\n",
    "    random_instance_dfs = []\n",
    "\n",
    "    for random_instance_index in shuffle_df.columns:\n",
    "        print('{}/{}'.format(random_instance_index, len(shuffle_df.columns)))\n",
    "        random_instance = shuffle_df[[random_instance_index]]\n",
    "        random_instance_df = pd.DataFrame(zip(*random_instance[random_instance_index].apply(expand_string_to_df))).T\n",
    "        random_instance_df.columns = ['chrom', 'start', 'end', 'strand']\n",
    "        random_instance_dfs.append(random_instance_df)\n",
    "\n",
    "    file_id_to_list_of_random_instance_dfs[file_id] = random_instance_dfs"
   ]
  },
  {
   "cell_type": "markdown",
   "id": "850407f2-39dc-4047-824d-f167b90dc184",
   "metadata": {},
   "source": [
    "### Make directories into which to put shuffles"
   ]
  },
  {
   "cell_type": "code",
   "execution_count": 16,
   "id": "fb75393a-af7a-4d7a-a001-3645c815341d",
   "metadata": {},
   "outputs": [
    {
     "data": {
      "text/plain": [
       "CompletedProcess(args=['mkdir', '/tscc/lustre/ddn/scratch/q2liang/isSTAMP_publication_scripts/example_analysis_notebooks/shuffled_confident_clusters/'], returncode=0)"
      ]
     },
     "execution_count": 16,
     "metadata": {},
     "output_type": "execute_result"
    }
   ],
   "source": [
    "import subprocess\n",
    "\n",
    "shuffled_dir = main_dir + '/shuffled_confident_clusters/'\n",
    "\n",
    "subprocess.run([\"mkdir\", shuffled_dir])"
   ]
  },
  {
   "cell_type": "code",
   "execution_count": 17,
   "id": "b6a56b93-60ad-4e42-91ab-09e6f1e53ac8",
   "metadata": {},
   "outputs": [
    {
     "name": "stdout",
     "output_type": "stream",
     "text": [
      "Enzyme_Only_PFA\n",
      "RBFOX2_INSCRIBE_PFA\n",
      "TDP43_INSCRIBE_PFA\n"
     ]
    }
   ],
   "source": [
    "import os\n",
    "\n",
    "for file_id, list_of_random_instance_dfs in file_id_to_list_of_random_instance_dfs.items():\n",
    "    print(file_id)\n",
    "    dir_name = (shuffled_dir + '{}').format(file_id)\n",
    "\n",
    "    try:\n",
    "        os.mkdir(dir_name)\n",
    "    except Exception as e:\n",
    "        print(e)\n",
    "        \n",
    "    # Save beds\n",
    "    \n",
    "    for i, df in enumerate(list_of_random_instance_dfs):\n",
    "        df.to_csv('{}/{}_shuffle{}.tsv'.format(dir_name, file_id, i), index=False, sep='\\t')"
   ]
  },
  {
   "cell_type": "markdown",
   "id": "600bf96a-e571-4cf2-b947-7a74e2e4ac0b",
   "metadata": {},
   "source": [
    "### Add sequences and motif presence"
   ]
  },
  {
   "cell_type": "code",
   "execution_count": 18,
   "id": "3caea92d-2059-490c-9e68-e14e9c5be690",
   "metadata": {},
   "outputs": [
    {
     "data": {
      "text/plain": [
       "['/tscc/lustre/ddn/scratch/q2liang/isSTAMP_publication_scripts/example_analysis_notebooks/shuffled_confident_clusters/TDP43_INSCRIBE_PFA/TDP43_INSCRIBE_PFA_shuffle10.tsv',\n",
       " '/tscc/lustre/ddn/scratch/q2liang/isSTAMP_publication_scripts/example_analysis_notebooks/shuffled_confident_clusters/TDP43_INSCRIBE_PFA/TDP43_INSCRIBE_PFA_shuffle14.tsv',\n",
       " '/tscc/lustre/ddn/scratch/q2liang/isSTAMP_publication_scripts/example_analysis_notebooks/shuffled_confident_clusters/TDP43_INSCRIBE_PFA/TDP43_INSCRIBE_PFA_shuffle4.tsv']"
      ]
     },
     "execution_count": 18,
     "metadata": {},
     "output_type": "execute_result"
    }
   ],
   "source": [
    "shuffled_peak_filepaths = [f for f in glob(shuffled_dir + '*/*') \\\n",
    "                           if 'with_sequence' not in f and 'motif_presence' not in f]\n",
    "len(shuffled_peak_filepaths)\n",
    "\n",
    "shuffled_peak_filepaths[0:3]"
   ]
  },
  {
   "cell_type": "code",
   "execution_count": 19,
   "id": "afc85b00-a7d4-421f-ae46-51b9b1f1908f",
   "metadata": {
    "scrolled": true,
    "tags": []
   },
   "outputs": [
    {
     "name": "stderr",
     "output_type": "stream",
     "text": [
      "/tscc/nfs/home/q2liang/miniconda3/envs/py3/lib/python3.6/site-packages/pyfaidx/__init__.py:498: RuntimeWarning: Index file /tscc/lustre/ddn/scratch/q2liang/reference/hg38.fa.fai is older than FASTA file /tscc/lustre/ddn/scratch/q2liang/reference/hg38.fa.\n",
      "  ), RuntimeWarning\n"
     ]
    },
    {
     "name": "stdout",
     "output_type": "stream",
     "text": [
      "Processing /tscc/lustre/ddn/scratch/q2liang/isSTAMP_publication_scripts/example_analysis_notebooks/shuffled_confident_clusters/Enzyme_Only_PFA/Enzyme_Only_PFA_shuffle0.tsv...\n",
      "\tfilename is Enzyme_Only_PFA_shuffle0.tsv\n",
      "\tfolder is /tscc/lustre/ddn/scratch/q2liang/isSTAMP_publication_scripts/example_analysis_notebooks/shuffled_confident_clusters/Enzyme_Only_PFA/\n",
      "/tscc/lustre/ddn/scratch/q2liang/isSTAMP_publication_scripts/example_analysis_notebooks/shuffled_confident_clusters/Enzyme_Only_PFA//Enzyme_Only_PFA_shuffle0.with_sequence.bed\n",
      "\tAssigned sequences\n",
      "\tOutput file at /tscc/lustre/ddn/scratch/q2liang/isSTAMP_publication_scripts/example_analysis_notebooks/shuffled_confident_clusters/Enzyme_Only_PFA//Enzyme_Only_PFA_shuffle0.with_sequence.bed\n",
      "Processing /tscc/lustre/ddn/scratch/q2liang/isSTAMP_publication_scripts/example_analysis_notebooks/shuffled_confident_clusters/Enzyme_Only_PFA/Enzyme_Only_PFA_shuffle1.tsv...\n",
      "\tfilename is Enzyme_Only_PFA_shuffle1.tsv\n",
      "\tfolder is /tscc/lustre/ddn/scratch/q2liang/isSTAMP_publication_scripts/example_analysis_notebooks/shuffled_confident_clusters/Enzyme_Only_PFA/\n",
      "/tscc/lustre/ddn/scratch/q2liang/isSTAMP_publication_scripts/example_analysis_notebooks/shuffled_confident_clusters/Enzyme_Only_PFA//Enzyme_Only_PFA_shuffle1.with_sequence.bed\n",
      "\tAssigned sequences\n",
      "\tOutput file at /tscc/lustre/ddn/scratch/q2liang/isSTAMP_publication_scripts/example_analysis_notebooks/shuffled_confident_clusters/Enzyme_Only_PFA//Enzyme_Only_PFA_shuffle1.with_sequence.bed\n",
      "Processing /tscc/lustre/ddn/scratch/q2liang/isSTAMP_publication_scripts/example_analysis_notebooks/shuffled_confident_clusters/Enzyme_Only_PFA/Enzyme_Only_PFA_shuffle10.tsv...\n",
      "\tfilename is Enzyme_Only_PFA_shuffle10.tsv\n",
      "\tfolder is /tscc/lustre/ddn/scratch/q2liang/isSTAMP_publication_scripts/example_analysis_notebooks/shuffled_confident_clusters/Enzyme_Only_PFA/\n",
      "/tscc/lustre/ddn/scratch/q2liang/isSTAMP_publication_scripts/example_analysis_notebooks/shuffled_confident_clusters/Enzyme_Only_PFA//Enzyme_Only_PFA_shuffle10.with_sequence.bed\n",
      "\tAssigned sequences\n",
      "\tOutput file at /tscc/lustre/ddn/scratch/q2liang/isSTAMP_publication_scripts/example_analysis_notebooks/shuffled_confident_clusters/Enzyme_Only_PFA//Enzyme_Only_PFA_shuffle10.with_sequence.bed\n",
      "Processing /tscc/lustre/ddn/scratch/q2liang/isSTAMP_publication_scripts/example_analysis_notebooks/shuffled_confident_clusters/Enzyme_Only_PFA/Enzyme_Only_PFA_shuffle11.tsv...\n",
      "\tfilename is Enzyme_Only_PFA_shuffle11.tsv\n",
      "\tfolder is /tscc/lustre/ddn/scratch/q2liang/isSTAMP_publication_scripts/example_analysis_notebooks/shuffled_confident_clusters/Enzyme_Only_PFA/\n",
      "/tscc/lustre/ddn/scratch/q2liang/isSTAMP_publication_scripts/example_analysis_notebooks/shuffled_confident_clusters/Enzyme_Only_PFA//Enzyme_Only_PFA_shuffle11.with_sequence.bed\n",
      "\tAssigned sequences\n",
      "\tOutput file at /tscc/lustre/ddn/scratch/q2liang/isSTAMP_publication_scripts/example_analysis_notebooks/shuffled_confident_clusters/Enzyme_Only_PFA//Enzyme_Only_PFA_shuffle11.with_sequence.bed\n",
      "Processing /tscc/lustre/ddn/scratch/q2liang/isSTAMP_publication_scripts/example_analysis_notebooks/shuffled_confident_clusters/Enzyme_Only_PFA/Enzyme_Only_PFA_shuffle12.tsv...\n",
      "\tfilename is Enzyme_Only_PFA_shuffle12.tsv\n",
      "\tfolder is /tscc/lustre/ddn/scratch/q2liang/isSTAMP_publication_scripts/example_analysis_notebooks/shuffled_confident_clusters/Enzyme_Only_PFA/\n",
      "/tscc/lustre/ddn/scratch/q2liang/isSTAMP_publication_scripts/example_analysis_notebooks/shuffled_confident_clusters/Enzyme_Only_PFA//Enzyme_Only_PFA_shuffle12.with_sequence.bed\n",
      "\tAssigned sequences\n",
      "\tOutput file at /tscc/lustre/ddn/scratch/q2liang/isSTAMP_publication_scripts/example_analysis_notebooks/shuffled_confident_clusters/Enzyme_Only_PFA//Enzyme_Only_PFA_shuffle12.with_sequence.bed\n",
      "Processing /tscc/lustre/ddn/scratch/q2liang/isSTAMP_publication_scripts/example_analysis_notebooks/shuffled_confident_clusters/Enzyme_Only_PFA/Enzyme_Only_PFA_shuffle13.tsv...\n",
      "\tfilename is Enzyme_Only_PFA_shuffle13.tsv\n",
      "\tfolder is /tscc/lustre/ddn/scratch/q2liang/isSTAMP_publication_scripts/example_analysis_notebooks/shuffled_confident_clusters/Enzyme_Only_PFA/\n",
      "/tscc/lustre/ddn/scratch/q2liang/isSTAMP_publication_scripts/example_analysis_notebooks/shuffled_confident_clusters/Enzyme_Only_PFA//Enzyme_Only_PFA_shuffle13.with_sequence.bed\n",
      "\tAssigned sequences\n",
      "\tOutput file at /tscc/lustre/ddn/scratch/q2liang/isSTAMP_publication_scripts/example_analysis_notebooks/shuffled_confident_clusters/Enzyme_Only_PFA//Enzyme_Only_PFA_shuffle13.with_sequence.bed\n",
      "Processing /tscc/lustre/ddn/scratch/q2liang/isSTAMP_publication_scripts/example_analysis_notebooks/shuffled_confident_clusters/Enzyme_Only_PFA/Enzyme_Only_PFA_shuffle14.tsv...\n",
      "\tfilename is Enzyme_Only_PFA_shuffle14.tsv\n",
      "\tfolder is /tscc/lustre/ddn/scratch/q2liang/isSTAMP_publication_scripts/example_analysis_notebooks/shuffled_confident_clusters/Enzyme_Only_PFA/\n",
      "/tscc/lustre/ddn/scratch/q2liang/isSTAMP_publication_scripts/example_analysis_notebooks/shuffled_confident_clusters/Enzyme_Only_PFA//Enzyme_Only_PFA_shuffle14.with_sequence.bed\n",
      "\tAssigned sequences\n",
      "\tOutput file at /tscc/lustre/ddn/scratch/q2liang/isSTAMP_publication_scripts/example_analysis_notebooks/shuffled_confident_clusters/Enzyme_Only_PFA//Enzyme_Only_PFA_shuffle14.with_sequence.bed\n",
      "Processing /tscc/lustre/ddn/scratch/q2liang/isSTAMP_publication_scripts/example_analysis_notebooks/shuffled_confident_clusters/Enzyme_Only_PFA/Enzyme_Only_PFA_shuffle15.tsv...\n",
      "\tfilename is Enzyme_Only_PFA_shuffle15.tsv\n",
      "\tfolder is /tscc/lustre/ddn/scratch/q2liang/isSTAMP_publication_scripts/example_analysis_notebooks/shuffled_confident_clusters/Enzyme_Only_PFA/\n",
      "/tscc/lustre/ddn/scratch/q2liang/isSTAMP_publication_scripts/example_analysis_notebooks/shuffled_confident_clusters/Enzyme_Only_PFA//Enzyme_Only_PFA_shuffle15.with_sequence.bed\n",
      "\tAssigned sequences\n",
      "\tOutput file at /tscc/lustre/ddn/scratch/q2liang/isSTAMP_publication_scripts/example_analysis_notebooks/shuffled_confident_clusters/Enzyme_Only_PFA//Enzyme_Only_PFA_shuffle15.with_sequence.bed\n",
      "Processing /tscc/lustre/ddn/scratch/q2liang/isSTAMP_publication_scripts/example_analysis_notebooks/shuffled_confident_clusters/Enzyme_Only_PFA/Enzyme_Only_PFA_shuffle16.tsv...\n",
      "\tfilename is Enzyme_Only_PFA_shuffle16.tsv\n",
      "\tfolder is /tscc/lustre/ddn/scratch/q2liang/isSTAMP_publication_scripts/example_analysis_notebooks/shuffled_confident_clusters/Enzyme_Only_PFA/\n",
      "/tscc/lustre/ddn/scratch/q2liang/isSTAMP_publication_scripts/example_analysis_notebooks/shuffled_confident_clusters/Enzyme_Only_PFA//Enzyme_Only_PFA_shuffle16.with_sequence.bed\n",
      "\tAssigned sequences\n",
      "\tOutput file at /tscc/lustre/ddn/scratch/q2liang/isSTAMP_publication_scripts/example_analysis_notebooks/shuffled_confident_clusters/Enzyme_Only_PFA//Enzyme_Only_PFA_shuffle16.with_sequence.bed\n",
      "Processing /tscc/lustre/ddn/scratch/q2liang/isSTAMP_publication_scripts/example_analysis_notebooks/shuffled_confident_clusters/Enzyme_Only_PFA/Enzyme_Only_PFA_shuffle17.tsv...\n",
      "\tfilename is Enzyme_Only_PFA_shuffle17.tsv\n",
      "\tfolder is /tscc/lustre/ddn/scratch/q2liang/isSTAMP_publication_scripts/example_analysis_notebooks/shuffled_confident_clusters/Enzyme_Only_PFA/\n",
      "/tscc/lustre/ddn/scratch/q2liang/isSTAMP_publication_scripts/example_analysis_notebooks/shuffled_confident_clusters/Enzyme_Only_PFA//Enzyme_Only_PFA_shuffle17.with_sequence.bed\n",
      "\tAssigned sequences\n",
      "\tOutput file at /tscc/lustre/ddn/scratch/q2liang/isSTAMP_publication_scripts/example_analysis_notebooks/shuffled_confident_clusters/Enzyme_Only_PFA//Enzyme_Only_PFA_shuffle17.with_sequence.bed\n",
      "Processing /tscc/lustre/ddn/scratch/q2liang/isSTAMP_publication_scripts/example_analysis_notebooks/shuffled_confident_clusters/Enzyme_Only_PFA/Enzyme_Only_PFA_shuffle18.tsv...\n",
      "\tfilename is Enzyme_Only_PFA_shuffle18.tsv\n",
      "\tfolder is /tscc/lustre/ddn/scratch/q2liang/isSTAMP_publication_scripts/example_analysis_notebooks/shuffled_confident_clusters/Enzyme_Only_PFA/\n",
      "/tscc/lustre/ddn/scratch/q2liang/isSTAMP_publication_scripts/example_analysis_notebooks/shuffled_confident_clusters/Enzyme_Only_PFA//Enzyme_Only_PFA_shuffle18.with_sequence.bed\n",
      "\tAssigned sequences\n",
      "\tOutput file at /tscc/lustre/ddn/scratch/q2liang/isSTAMP_publication_scripts/example_analysis_notebooks/shuffled_confident_clusters/Enzyme_Only_PFA//Enzyme_Only_PFA_shuffle18.with_sequence.bed\n",
      "Processing /tscc/lustre/ddn/scratch/q2liang/isSTAMP_publication_scripts/example_analysis_notebooks/shuffled_confident_clusters/Enzyme_Only_PFA/Enzyme_Only_PFA_shuffle19.tsv...\n",
      "\tfilename is Enzyme_Only_PFA_shuffle19.tsv\n",
      "\tfolder is /tscc/lustre/ddn/scratch/q2liang/isSTAMP_publication_scripts/example_analysis_notebooks/shuffled_confident_clusters/Enzyme_Only_PFA/\n",
      "/tscc/lustre/ddn/scratch/q2liang/isSTAMP_publication_scripts/example_analysis_notebooks/shuffled_confident_clusters/Enzyme_Only_PFA//Enzyme_Only_PFA_shuffle19.with_sequence.bed\n",
      "\tAssigned sequences\n",
      "\tOutput file at /tscc/lustre/ddn/scratch/q2liang/isSTAMP_publication_scripts/example_analysis_notebooks/shuffled_confident_clusters/Enzyme_Only_PFA//Enzyme_Only_PFA_shuffle19.with_sequence.bed\n",
      "Processing /tscc/lustre/ddn/scratch/q2liang/isSTAMP_publication_scripts/example_analysis_notebooks/shuffled_confident_clusters/Enzyme_Only_PFA/Enzyme_Only_PFA_shuffle2.tsv...\n",
      "\tfilename is Enzyme_Only_PFA_shuffle2.tsv\n",
      "\tfolder is /tscc/lustre/ddn/scratch/q2liang/isSTAMP_publication_scripts/example_analysis_notebooks/shuffled_confident_clusters/Enzyme_Only_PFA/\n",
      "/tscc/lustre/ddn/scratch/q2liang/isSTAMP_publication_scripts/example_analysis_notebooks/shuffled_confident_clusters/Enzyme_Only_PFA//Enzyme_Only_PFA_shuffle2.with_sequence.bed\n",
      "\tAssigned sequences\n",
      "\tOutput file at /tscc/lustre/ddn/scratch/q2liang/isSTAMP_publication_scripts/example_analysis_notebooks/shuffled_confident_clusters/Enzyme_Only_PFA//Enzyme_Only_PFA_shuffle2.with_sequence.bed\n",
      "Processing /tscc/lustre/ddn/scratch/q2liang/isSTAMP_publication_scripts/example_analysis_notebooks/shuffled_confident_clusters/Enzyme_Only_PFA/Enzyme_Only_PFA_shuffle3.tsv...\n",
      "\tfilename is Enzyme_Only_PFA_shuffle3.tsv\n",
      "\tfolder is /tscc/lustre/ddn/scratch/q2liang/isSTAMP_publication_scripts/example_analysis_notebooks/shuffled_confident_clusters/Enzyme_Only_PFA/\n",
      "/tscc/lustre/ddn/scratch/q2liang/isSTAMP_publication_scripts/example_analysis_notebooks/shuffled_confident_clusters/Enzyme_Only_PFA//Enzyme_Only_PFA_shuffle3.with_sequence.bed\n",
      "\tAssigned sequences\n",
      "\tOutput file at /tscc/lustre/ddn/scratch/q2liang/isSTAMP_publication_scripts/example_analysis_notebooks/shuffled_confident_clusters/Enzyme_Only_PFA//Enzyme_Only_PFA_shuffle3.with_sequence.bed\n",
      "Processing /tscc/lustre/ddn/scratch/q2liang/isSTAMP_publication_scripts/example_analysis_notebooks/shuffled_confident_clusters/Enzyme_Only_PFA/Enzyme_Only_PFA_shuffle4.tsv...\n",
      "\tfilename is Enzyme_Only_PFA_shuffle4.tsv\n",
      "\tfolder is /tscc/lustre/ddn/scratch/q2liang/isSTAMP_publication_scripts/example_analysis_notebooks/shuffled_confident_clusters/Enzyme_Only_PFA/\n",
      "/tscc/lustre/ddn/scratch/q2liang/isSTAMP_publication_scripts/example_analysis_notebooks/shuffled_confident_clusters/Enzyme_Only_PFA//Enzyme_Only_PFA_shuffle4.with_sequence.bed\n",
      "\tAssigned sequences\n",
      "\tOutput file at /tscc/lustre/ddn/scratch/q2liang/isSTAMP_publication_scripts/example_analysis_notebooks/shuffled_confident_clusters/Enzyme_Only_PFA//Enzyme_Only_PFA_shuffle4.with_sequence.bed\n",
      "Processing /tscc/lustre/ddn/scratch/q2liang/isSTAMP_publication_scripts/example_analysis_notebooks/shuffled_confident_clusters/Enzyme_Only_PFA/Enzyme_Only_PFA_shuffle5.tsv...\n",
      "\tfilename is Enzyme_Only_PFA_shuffle5.tsv\n",
      "\tfolder is /tscc/lustre/ddn/scratch/q2liang/isSTAMP_publication_scripts/example_analysis_notebooks/shuffled_confident_clusters/Enzyme_Only_PFA/\n",
      "/tscc/lustre/ddn/scratch/q2liang/isSTAMP_publication_scripts/example_analysis_notebooks/shuffled_confident_clusters/Enzyme_Only_PFA//Enzyme_Only_PFA_shuffle5.with_sequence.bed\n",
      "\tAssigned sequences\n",
      "\tOutput file at /tscc/lustre/ddn/scratch/q2liang/isSTAMP_publication_scripts/example_analysis_notebooks/shuffled_confident_clusters/Enzyme_Only_PFA//Enzyme_Only_PFA_shuffle5.with_sequence.bed\n",
      "Processing /tscc/lustre/ddn/scratch/q2liang/isSTAMP_publication_scripts/example_analysis_notebooks/shuffled_confident_clusters/Enzyme_Only_PFA/Enzyme_Only_PFA_shuffle6.tsv...\n",
      "\tfilename is Enzyme_Only_PFA_shuffle6.tsv\n",
      "\tfolder is /tscc/lustre/ddn/scratch/q2liang/isSTAMP_publication_scripts/example_analysis_notebooks/shuffled_confident_clusters/Enzyme_Only_PFA/\n",
      "/tscc/lustre/ddn/scratch/q2liang/isSTAMP_publication_scripts/example_analysis_notebooks/shuffled_confident_clusters/Enzyme_Only_PFA//Enzyme_Only_PFA_shuffle6.with_sequence.bed\n",
      "\tAssigned sequences\n",
      "\tOutput file at /tscc/lustre/ddn/scratch/q2liang/isSTAMP_publication_scripts/example_analysis_notebooks/shuffled_confident_clusters/Enzyme_Only_PFA//Enzyme_Only_PFA_shuffle6.with_sequence.bed\n",
      "Processing /tscc/lustre/ddn/scratch/q2liang/isSTAMP_publication_scripts/example_analysis_notebooks/shuffled_confident_clusters/Enzyme_Only_PFA/Enzyme_Only_PFA_shuffle7.tsv...\n",
      "\tfilename is Enzyme_Only_PFA_shuffle7.tsv\n",
      "\tfolder is /tscc/lustre/ddn/scratch/q2liang/isSTAMP_publication_scripts/example_analysis_notebooks/shuffled_confident_clusters/Enzyme_Only_PFA/\n",
      "/tscc/lustre/ddn/scratch/q2liang/isSTAMP_publication_scripts/example_analysis_notebooks/shuffled_confident_clusters/Enzyme_Only_PFA//Enzyme_Only_PFA_shuffle7.with_sequence.bed\n",
      "\tAssigned sequences\n",
      "\tOutput file at /tscc/lustre/ddn/scratch/q2liang/isSTAMP_publication_scripts/example_analysis_notebooks/shuffled_confident_clusters/Enzyme_Only_PFA//Enzyme_Only_PFA_shuffle7.with_sequence.bed\n",
      "Processing /tscc/lustre/ddn/scratch/q2liang/isSTAMP_publication_scripts/example_analysis_notebooks/shuffled_confident_clusters/Enzyme_Only_PFA/Enzyme_Only_PFA_shuffle8.tsv...\n",
      "\tfilename is Enzyme_Only_PFA_shuffle8.tsv\n",
      "\tfolder is /tscc/lustre/ddn/scratch/q2liang/isSTAMP_publication_scripts/example_analysis_notebooks/shuffled_confident_clusters/Enzyme_Only_PFA/\n",
      "/tscc/lustre/ddn/scratch/q2liang/isSTAMP_publication_scripts/example_analysis_notebooks/shuffled_confident_clusters/Enzyme_Only_PFA//Enzyme_Only_PFA_shuffle8.with_sequence.bed\n",
      "\tAssigned sequences\n",
      "\tOutput file at /tscc/lustre/ddn/scratch/q2liang/isSTAMP_publication_scripts/example_analysis_notebooks/shuffled_confident_clusters/Enzyme_Only_PFA//Enzyme_Only_PFA_shuffle8.with_sequence.bed\n",
      "Processing /tscc/lustre/ddn/scratch/q2liang/isSTAMP_publication_scripts/example_analysis_notebooks/shuffled_confident_clusters/Enzyme_Only_PFA/Enzyme_Only_PFA_shuffle9.tsv...\n",
      "\tfilename is Enzyme_Only_PFA_shuffle9.tsv\n",
      "\tfolder is /tscc/lustre/ddn/scratch/q2liang/isSTAMP_publication_scripts/example_analysis_notebooks/shuffled_confident_clusters/Enzyme_Only_PFA/\n",
      "/tscc/lustre/ddn/scratch/q2liang/isSTAMP_publication_scripts/example_analysis_notebooks/shuffled_confident_clusters/Enzyme_Only_PFA//Enzyme_Only_PFA_shuffle9.with_sequence.bed\n",
      "\tAssigned sequences\n",
      "\tOutput file at /tscc/lustre/ddn/scratch/q2liang/isSTAMP_publication_scripts/example_analysis_notebooks/shuffled_confident_clusters/Enzyme_Only_PFA//Enzyme_Only_PFA_shuffle9.with_sequence.bed\n",
      "Processing /tscc/lustre/ddn/scratch/q2liang/isSTAMP_publication_scripts/example_analysis_notebooks/shuffled_confident_clusters/RBFOX2_INSCRIBE_PFA/RBFOX2_INSCRIBE_PFA_shuffle0.tsv...\n",
      "\tfilename is RBFOX2_INSCRIBE_PFA_shuffle0.tsv\n",
      "\tfolder is /tscc/lustre/ddn/scratch/q2liang/isSTAMP_publication_scripts/example_analysis_notebooks/shuffled_confident_clusters/RBFOX2_INSCRIBE_PFA/\n",
      "/tscc/lustre/ddn/scratch/q2liang/isSTAMP_publication_scripts/example_analysis_notebooks/shuffled_confident_clusters/RBFOX2_INSCRIBE_PFA//RBFOX2_INSCRIBE_PFA_shuffle0.with_sequence.bed\n",
      "\tAssigned sequences\n",
      "\tOutput file at /tscc/lustre/ddn/scratch/q2liang/isSTAMP_publication_scripts/example_analysis_notebooks/shuffled_confident_clusters/RBFOX2_INSCRIBE_PFA//RBFOX2_INSCRIBE_PFA_shuffle0.with_sequence.bed\n",
      "Processing /tscc/lustre/ddn/scratch/q2liang/isSTAMP_publication_scripts/example_analysis_notebooks/shuffled_confident_clusters/RBFOX2_INSCRIBE_PFA/RBFOX2_INSCRIBE_PFA_shuffle1.tsv...\n",
      "\tfilename is RBFOX2_INSCRIBE_PFA_shuffle1.tsv\n",
      "\tfolder is /tscc/lustre/ddn/scratch/q2liang/isSTAMP_publication_scripts/example_analysis_notebooks/shuffled_confident_clusters/RBFOX2_INSCRIBE_PFA/\n",
      "/tscc/lustre/ddn/scratch/q2liang/isSTAMP_publication_scripts/example_analysis_notebooks/shuffled_confident_clusters/RBFOX2_INSCRIBE_PFA//RBFOX2_INSCRIBE_PFA_shuffle1.with_sequence.bed\n",
      "\tAssigned sequences\n",
      "\tOutput file at /tscc/lustre/ddn/scratch/q2liang/isSTAMP_publication_scripts/example_analysis_notebooks/shuffled_confident_clusters/RBFOX2_INSCRIBE_PFA//RBFOX2_INSCRIBE_PFA_shuffle1.with_sequence.bed\n",
      "Processing /tscc/lustre/ddn/scratch/q2liang/isSTAMP_publication_scripts/example_analysis_notebooks/shuffled_confident_clusters/RBFOX2_INSCRIBE_PFA/RBFOX2_INSCRIBE_PFA_shuffle10.tsv...\n",
      "\tfilename is RBFOX2_INSCRIBE_PFA_shuffle10.tsv\n",
      "\tfolder is /tscc/lustre/ddn/scratch/q2liang/isSTAMP_publication_scripts/example_analysis_notebooks/shuffled_confident_clusters/RBFOX2_INSCRIBE_PFA/\n",
      "/tscc/lustre/ddn/scratch/q2liang/isSTAMP_publication_scripts/example_analysis_notebooks/shuffled_confident_clusters/RBFOX2_INSCRIBE_PFA//RBFOX2_INSCRIBE_PFA_shuffle10.with_sequence.bed\n",
      "\tAssigned sequences\n",
      "\tOutput file at /tscc/lustre/ddn/scratch/q2liang/isSTAMP_publication_scripts/example_analysis_notebooks/shuffled_confident_clusters/RBFOX2_INSCRIBE_PFA//RBFOX2_INSCRIBE_PFA_shuffle10.with_sequence.bed\n",
      "Processing /tscc/lustre/ddn/scratch/q2liang/isSTAMP_publication_scripts/example_analysis_notebooks/shuffled_confident_clusters/RBFOX2_INSCRIBE_PFA/RBFOX2_INSCRIBE_PFA_shuffle11.tsv...\n",
      "\tfilename is RBFOX2_INSCRIBE_PFA_shuffle11.tsv\n",
      "\tfolder is /tscc/lustre/ddn/scratch/q2liang/isSTAMP_publication_scripts/example_analysis_notebooks/shuffled_confident_clusters/RBFOX2_INSCRIBE_PFA/\n",
      "/tscc/lustre/ddn/scratch/q2liang/isSTAMP_publication_scripts/example_analysis_notebooks/shuffled_confident_clusters/RBFOX2_INSCRIBE_PFA//RBFOX2_INSCRIBE_PFA_shuffle11.with_sequence.bed\n",
      "\tAssigned sequences\n",
      "\tOutput file at /tscc/lustre/ddn/scratch/q2liang/isSTAMP_publication_scripts/example_analysis_notebooks/shuffled_confident_clusters/RBFOX2_INSCRIBE_PFA//RBFOX2_INSCRIBE_PFA_shuffle11.with_sequence.bed\n",
      "Processing /tscc/lustre/ddn/scratch/q2liang/isSTAMP_publication_scripts/example_analysis_notebooks/shuffled_confident_clusters/RBFOX2_INSCRIBE_PFA/RBFOX2_INSCRIBE_PFA_shuffle12.tsv...\n",
      "\tfilename is RBFOX2_INSCRIBE_PFA_shuffle12.tsv\n",
      "\tfolder is /tscc/lustre/ddn/scratch/q2liang/isSTAMP_publication_scripts/example_analysis_notebooks/shuffled_confident_clusters/RBFOX2_INSCRIBE_PFA/\n",
      "/tscc/lustre/ddn/scratch/q2liang/isSTAMP_publication_scripts/example_analysis_notebooks/shuffled_confident_clusters/RBFOX2_INSCRIBE_PFA//RBFOX2_INSCRIBE_PFA_shuffle12.with_sequence.bed\n",
      "\tAssigned sequences\n",
      "\tOutput file at /tscc/lustre/ddn/scratch/q2liang/isSTAMP_publication_scripts/example_analysis_notebooks/shuffled_confident_clusters/RBFOX2_INSCRIBE_PFA//RBFOX2_INSCRIBE_PFA_shuffle12.with_sequence.bed\n",
      "Processing /tscc/lustre/ddn/scratch/q2liang/isSTAMP_publication_scripts/example_analysis_notebooks/shuffled_confident_clusters/RBFOX2_INSCRIBE_PFA/RBFOX2_INSCRIBE_PFA_shuffle13.tsv...\n",
      "\tfilename is RBFOX2_INSCRIBE_PFA_shuffle13.tsv\n",
      "\tfolder is /tscc/lustre/ddn/scratch/q2liang/isSTAMP_publication_scripts/example_analysis_notebooks/shuffled_confident_clusters/RBFOX2_INSCRIBE_PFA/\n",
      "/tscc/lustre/ddn/scratch/q2liang/isSTAMP_publication_scripts/example_analysis_notebooks/shuffled_confident_clusters/RBFOX2_INSCRIBE_PFA//RBFOX2_INSCRIBE_PFA_shuffle13.with_sequence.bed\n",
      "\tAssigned sequences\n",
      "\tOutput file at /tscc/lustre/ddn/scratch/q2liang/isSTAMP_publication_scripts/example_analysis_notebooks/shuffled_confident_clusters/RBFOX2_INSCRIBE_PFA//RBFOX2_INSCRIBE_PFA_shuffle13.with_sequence.bed\n",
      "Processing /tscc/lustre/ddn/scratch/q2liang/isSTAMP_publication_scripts/example_analysis_notebooks/shuffled_confident_clusters/RBFOX2_INSCRIBE_PFA/RBFOX2_INSCRIBE_PFA_shuffle14.tsv...\n",
      "\tfilename is RBFOX2_INSCRIBE_PFA_shuffle14.tsv\n",
      "\tfolder is /tscc/lustre/ddn/scratch/q2liang/isSTAMP_publication_scripts/example_analysis_notebooks/shuffled_confident_clusters/RBFOX2_INSCRIBE_PFA/\n",
      "/tscc/lustre/ddn/scratch/q2liang/isSTAMP_publication_scripts/example_analysis_notebooks/shuffled_confident_clusters/RBFOX2_INSCRIBE_PFA//RBFOX2_INSCRIBE_PFA_shuffle14.with_sequence.bed\n",
      "\tAssigned sequences\n",
      "\tOutput file at /tscc/lustre/ddn/scratch/q2liang/isSTAMP_publication_scripts/example_analysis_notebooks/shuffled_confident_clusters/RBFOX2_INSCRIBE_PFA//RBFOX2_INSCRIBE_PFA_shuffle14.with_sequence.bed\n",
      "Processing /tscc/lustre/ddn/scratch/q2liang/isSTAMP_publication_scripts/example_analysis_notebooks/shuffled_confident_clusters/RBFOX2_INSCRIBE_PFA/RBFOX2_INSCRIBE_PFA_shuffle15.tsv...\n",
      "\tfilename is RBFOX2_INSCRIBE_PFA_shuffle15.tsv\n",
      "\tfolder is /tscc/lustre/ddn/scratch/q2liang/isSTAMP_publication_scripts/example_analysis_notebooks/shuffled_confident_clusters/RBFOX2_INSCRIBE_PFA/\n",
      "/tscc/lustre/ddn/scratch/q2liang/isSTAMP_publication_scripts/example_analysis_notebooks/shuffled_confident_clusters/RBFOX2_INSCRIBE_PFA//RBFOX2_INSCRIBE_PFA_shuffle15.with_sequence.bed\n",
      "\tAssigned sequences\n",
      "\tOutput file at /tscc/lustre/ddn/scratch/q2liang/isSTAMP_publication_scripts/example_analysis_notebooks/shuffled_confident_clusters/RBFOX2_INSCRIBE_PFA//RBFOX2_INSCRIBE_PFA_shuffle15.with_sequence.bed\n",
      "Processing /tscc/lustre/ddn/scratch/q2liang/isSTAMP_publication_scripts/example_analysis_notebooks/shuffled_confident_clusters/RBFOX2_INSCRIBE_PFA/RBFOX2_INSCRIBE_PFA_shuffle16.tsv...\n",
      "\tfilename is RBFOX2_INSCRIBE_PFA_shuffle16.tsv\n",
      "\tfolder is /tscc/lustre/ddn/scratch/q2liang/isSTAMP_publication_scripts/example_analysis_notebooks/shuffled_confident_clusters/RBFOX2_INSCRIBE_PFA/\n",
      "/tscc/lustre/ddn/scratch/q2liang/isSTAMP_publication_scripts/example_analysis_notebooks/shuffled_confident_clusters/RBFOX2_INSCRIBE_PFA//RBFOX2_INSCRIBE_PFA_shuffle16.with_sequence.bed\n",
      "\tAssigned sequences\n",
      "\tOutput file at /tscc/lustre/ddn/scratch/q2liang/isSTAMP_publication_scripts/example_analysis_notebooks/shuffled_confident_clusters/RBFOX2_INSCRIBE_PFA//RBFOX2_INSCRIBE_PFA_shuffle16.with_sequence.bed\n",
      "Processing /tscc/lustre/ddn/scratch/q2liang/isSTAMP_publication_scripts/example_analysis_notebooks/shuffled_confident_clusters/RBFOX2_INSCRIBE_PFA/RBFOX2_INSCRIBE_PFA_shuffle17.tsv...\n",
      "\tfilename is RBFOX2_INSCRIBE_PFA_shuffle17.tsv\n",
      "\tfolder is /tscc/lustre/ddn/scratch/q2liang/isSTAMP_publication_scripts/example_analysis_notebooks/shuffled_confident_clusters/RBFOX2_INSCRIBE_PFA/\n",
      "/tscc/lustre/ddn/scratch/q2liang/isSTAMP_publication_scripts/example_analysis_notebooks/shuffled_confident_clusters/RBFOX2_INSCRIBE_PFA//RBFOX2_INSCRIBE_PFA_shuffle17.with_sequence.bed\n",
      "\tAssigned sequences\n",
      "\tOutput file at /tscc/lustre/ddn/scratch/q2liang/isSTAMP_publication_scripts/example_analysis_notebooks/shuffled_confident_clusters/RBFOX2_INSCRIBE_PFA//RBFOX2_INSCRIBE_PFA_shuffle17.with_sequence.bed\n",
      "Processing /tscc/lustre/ddn/scratch/q2liang/isSTAMP_publication_scripts/example_analysis_notebooks/shuffled_confident_clusters/RBFOX2_INSCRIBE_PFA/RBFOX2_INSCRIBE_PFA_shuffle18.tsv...\n",
      "\tfilename is RBFOX2_INSCRIBE_PFA_shuffle18.tsv\n",
      "\tfolder is /tscc/lustre/ddn/scratch/q2liang/isSTAMP_publication_scripts/example_analysis_notebooks/shuffled_confident_clusters/RBFOX2_INSCRIBE_PFA/\n",
      "/tscc/lustre/ddn/scratch/q2liang/isSTAMP_publication_scripts/example_analysis_notebooks/shuffled_confident_clusters/RBFOX2_INSCRIBE_PFA//RBFOX2_INSCRIBE_PFA_shuffle18.with_sequence.bed\n",
      "\tAssigned sequences\n",
      "\tOutput file at /tscc/lustre/ddn/scratch/q2liang/isSTAMP_publication_scripts/example_analysis_notebooks/shuffled_confident_clusters/RBFOX2_INSCRIBE_PFA//RBFOX2_INSCRIBE_PFA_shuffle18.with_sequence.bed\n",
      "Processing /tscc/lustre/ddn/scratch/q2liang/isSTAMP_publication_scripts/example_analysis_notebooks/shuffled_confident_clusters/RBFOX2_INSCRIBE_PFA/RBFOX2_INSCRIBE_PFA_shuffle19.tsv...\n",
      "\tfilename is RBFOX2_INSCRIBE_PFA_shuffle19.tsv\n",
      "\tfolder is /tscc/lustre/ddn/scratch/q2liang/isSTAMP_publication_scripts/example_analysis_notebooks/shuffled_confident_clusters/RBFOX2_INSCRIBE_PFA/\n",
      "/tscc/lustre/ddn/scratch/q2liang/isSTAMP_publication_scripts/example_analysis_notebooks/shuffled_confident_clusters/RBFOX2_INSCRIBE_PFA//RBFOX2_INSCRIBE_PFA_shuffle19.with_sequence.bed\n",
      "\tAssigned sequences\n",
      "\tOutput file at /tscc/lustre/ddn/scratch/q2liang/isSTAMP_publication_scripts/example_analysis_notebooks/shuffled_confident_clusters/RBFOX2_INSCRIBE_PFA//RBFOX2_INSCRIBE_PFA_shuffle19.with_sequence.bed\n",
      "Processing /tscc/lustre/ddn/scratch/q2liang/isSTAMP_publication_scripts/example_analysis_notebooks/shuffled_confident_clusters/RBFOX2_INSCRIBE_PFA/RBFOX2_INSCRIBE_PFA_shuffle2.tsv...\n",
      "\tfilename is RBFOX2_INSCRIBE_PFA_shuffle2.tsv\n",
      "\tfolder is /tscc/lustre/ddn/scratch/q2liang/isSTAMP_publication_scripts/example_analysis_notebooks/shuffled_confident_clusters/RBFOX2_INSCRIBE_PFA/\n",
      "/tscc/lustre/ddn/scratch/q2liang/isSTAMP_publication_scripts/example_analysis_notebooks/shuffled_confident_clusters/RBFOX2_INSCRIBE_PFA//RBFOX2_INSCRIBE_PFA_shuffle2.with_sequence.bed\n",
      "\tAssigned sequences\n",
      "\tOutput file at /tscc/lustre/ddn/scratch/q2liang/isSTAMP_publication_scripts/example_analysis_notebooks/shuffled_confident_clusters/RBFOX2_INSCRIBE_PFA//RBFOX2_INSCRIBE_PFA_shuffle2.with_sequence.bed\n",
      "Processing /tscc/lustre/ddn/scratch/q2liang/isSTAMP_publication_scripts/example_analysis_notebooks/shuffled_confident_clusters/RBFOX2_INSCRIBE_PFA/RBFOX2_INSCRIBE_PFA_shuffle3.tsv...\n",
      "\tfilename is RBFOX2_INSCRIBE_PFA_shuffle3.tsv\n",
      "\tfolder is /tscc/lustre/ddn/scratch/q2liang/isSTAMP_publication_scripts/example_analysis_notebooks/shuffled_confident_clusters/RBFOX2_INSCRIBE_PFA/\n",
      "/tscc/lustre/ddn/scratch/q2liang/isSTAMP_publication_scripts/example_analysis_notebooks/shuffled_confident_clusters/RBFOX2_INSCRIBE_PFA//RBFOX2_INSCRIBE_PFA_shuffle3.with_sequence.bed\n",
      "\tAssigned sequences\n",
      "\tOutput file at /tscc/lustre/ddn/scratch/q2liang/isSTAMP_publication_scripts/example_analysis_notebooks/shuffled_confident_clusters/RBFOX2_INSCRIBE_PFA//RBFOX2_INSCRIBE_PFA_shuffle3.with_sequence.bed\n",
      "Processing /tscc/lustre/ddn/scratch/q2liang/isSTAMP_publication_scripts/example_analysis_notebooks/shuffled_confident_clusters/RBFOX2_INSCRIBE_PFA/RBFOX2_INSCRIBE_PFA_shuffle4.tsv...\n",
      "\tfilename is RBFOX2_INSCRIBE_PFA_shuffle4.tsv\n",
      "\tfolder is /tscc/lustre/ddn/scratch/q2liang/isSTAMP_publication_scripts/example_analysis_notebooks/shuffled_confident_clusters/RBFOX2_INSCRIBE_PFA/\n",
      "/tscc/lustre/ddn/scratch/q2liang/isSTAMP_publication_scripts/example_analysis_notebooks/shuffled_confident_clusters/RBFOX2_INSCRIBE_PFA//RBFOX2_INSCRIBE_PFA_shuffle4.with_sequence.bed\n",
      "\tAssigned sequences\n",
      "\tOutput file at /tscc/lustre/ddn/scratch/q2liang/isSTAMP_publication_scripts/example_analysis_notebooks/shuffled_confident_clusters/RBFOX2_INSCRIBE_PFA//RBFOX2_INSCRIBE_PFA_shuffle4.with_sequence.bed\n",
      "Processing /tscc/lustre/ddn/scratch/q2liang/isSTAMP_publication_scripts/example_analysis_notebooks/shuffled_confident_clusters/RBFOX2_INSCRIBE_PFA/RBFOX2_INSCRIBE_PFA_shuffle5.tsv...\n",
      "\tfilename is RBFOX2_INSCRIBE_PFA_shuffle5.tsv\n",
      "\tfolder is /tscc/lustre/ddn/scratch/q2liang/isSTAMP_publication_scripts/example_analysis_notebooks/shuffled_confident_clusters/RBFOX2_INSCRIBE_PFA/\n",
      "/tscc/lustre/ddn/scratch/q2liang/isSTAMP_publication_scripts/example_analysis_notebooks/shuffled_confident_clusters/RBFOX2_INSCRIBE_PFA//RBFOX2_INSCRIBE_PFA_shuffle5.with_sequence.bed\n",
      "\tAssigned sequences\n",
      "\tOutput file at /tscc/lustre/ddn/scratch/q2liang/isSTAMP_publication_scripts/example_analysis_notebooks/shuffled_confident_clusters/RBFOX2_INSCRIBE_PFA//RBFOX2_INSCRIBE_PFA_shuffle5.with_sequence.bed\n",
      "Processing /tscc/lustre/ddn/scratch/q2liang/isSTAMP_publication_scripts/example_analysis_notebooks/shuffled_confident_clusters/RBFOX2_INSCRIBE_PFA/RBFOX2_INSCRIBE_PFA_shuffle6.tsv...\n",
      "\tfilename is RBFOX2_INSCRIBE_PFA_shuffle6.tsv\n",
      "\tfolder is /tscc/lustre/ddn/scratch/q2liang/isSTAMP_publication_scripts/example_analysis_notebooks/shuffled_confident_clusters/RBFOX2_INSCRIBE_PFA/\n",
      "/tscc/lustre/ddn/scratch/q2liang/isSTAMP_publication_scripts/example_analysis_notebooks/shuffled_confident_clusters/RBFOX2_INSCRIBE_PFA//RBFOX2_INSCRIBE_PFA_shuffle6.with_sequence.bed\n",
      "\tAssigned sequences\n",
      "\tOutput file at /tscc/lustre/ddn/scratch/q2liang/isSTAMP_publication_scripts/example_analysis_notebooks/shuffled_confident_clusters/RBFOX2_INSCRIBE_PFA//RBFOX2_INSCRIBE_PFA_shuffle6.with_sequence.bed\n",
      "Processing /tscc/lustre/ddn/scratch/q2liang/isSTAMP_publication_scripts/example_analysis_notebooks/shuffled_confident_clusters/RBFOX2_INSCRIBE_PFA/RBFOX2_INSCRIBE_PFA_shuffle7.tsv...\n",
      "\tfilename is RBFOX2_INSCRIBE_PFA_shuffle7.tsv\n",
      "\tfolder is /tscc/lustre/ddn/scratch/q2liang/isSTAMP_publication_scripts/example_analysis_notebooks/shuffled_confident_clusters/RBFOX2_INSCRIBE_PFA/\n",
      "/tscc/lustre/ddn/scratch/q2liang/isSTAMP_publication_scripts/example_analysis_notebooks/shuffled_confident_clusters/RBFOX2_INSCRIBE_PFA//RBFOX2_INSCRIBE_PFA_shuffle7.with_sequence.bed\n",
      "\tAssigned sequences\n",
      "\tOutput file at /tscc/lustre/ddn/scratch/q2liang/isSTAMP_publication_scripts/example_analysis_notebooks/shuffled_confident_clusters/RBFOX2_INSCRIBE_PFA//RBFOX2_INSCRIBE_PFA_shuffle7.with_sequence.bed\n",
      "Processing /tscc/lustre/ddn/scratch/q2liang/isSTAMP_publication_scripts/example_analysis_notebooks/shuffled_confident_clusters/RBFOX2_INSCRIBE_PFA/RBFOX2_INSCRIBE_PFA_shuffle8.tsv...\n",
      "\tfilename is RBFOX2_INSCRIBE_PFA_shuffle8.tsv\n",
      "\tfolder is /tscc/lustre/ddn/scratch/q2liang/isSTAMP_publication_scripts/example_analysis_notebooks/shuffled_confident_clusters/RBFOX2_INSCRIBE_PFA/\n",
      "/tscc/lustre/ddn/scratch/q2liang/isSTAMP_publication_scripts/example_analysis_notebooks/shuffled_confident_clusters/RBFOX2_INSCRIBE_PFA//RBFOX2_INSCRIBE_PFA_shuffle8.with_sequence.bed\n",
      "\tAssigned sequences\n",
      "\tOutput file at /tscc/lustre/ddn/scratch/q2liang/isSTAMP_publication_scripts/example_analysis_notebooks/shuffled_confident_clusters/RBFOX2_INSCRIBE_PFA//RBFOX2_INSCRIBE_PFA_shuffle8.with_sequence.bed\n",
      "Processing /tscc/lustre/ddn/scratch/q2liang/isSTAMP_publication_scripts/example_analysis_notebooks/shuffled_confident_clusters/RBFOX2_INSCRIBE_PFA/RBFOX2_INSCRIBE_PFA_shuffle9.tsv...\n",
      "\tfilename is RBFOX2_INSCRIBE_PFA_shuffle9.tsv\n",
      "\tfolder is /tscc/lustre/ddn/scratch/q2liang/isSTAMP_publication_scripts/example_analysis_notebooks/shuffled_confident_clusters/RBFOX2_INSCRIBE_PFA/\n",
      "/tscc/lustre/ddn/scratch/q2liang/isSTAMP_publication_scripts/example_analysis_notebooks/shuffled_confident_clusters/RBFOX2_INSCRIBE_PFA//RBFOX2_INSCRIBE_PFA_shuffle9.with_sequence.bed\n",
      "\tAssigned sequences\n",
      "\tOutput file at /tscc/lustre/ddn/scratch/q2liang/isSTAMP_publication_scripts/example_analysis_notebooks/shuffled_confident_clusters/RBFOX2_INSCRIBE_PFA//RBFOX2_INSCRIBE_PFA_shuffle9.with_sequence.bed\n",
      "Processing /tscc/lustre/ddn/scratch/q2liang/isSTAMP_publication_scripts/example_analysis_notebooks/shuffled_confident_clusters/TDP43_INSCRIBE_PFA/TDP43_INSCRIBE_PFA_shuffle0.tsv...\n",
      "\tfilename is TDP43_INSCRIBE_PFA_shuffle0.tsv\n",
      "\tfolder is /tscc/lustre/ddn/scratch/q2liang/isSTAMP_publication_scripts/example_analysis_notebooks/shuffled_confident_clusters/TDP43_INSCRIBE_PFA/\n",
      "/tscc/lustre/ddn/scratch/q2liang/isSTAMP_publication_scripts/example_analysis_notebooks/shuffled_confident_clusters/TDP43_INSCRIBE_PFA//TDP43_INSCRIBE_PFA_shuffle0.with_sequence.bed\n",
      "\tAssigned sequences\n",
      "\tOutput file at /tscc/lustre/ddn/scratch/q2liang/isSTAMP_publication_scripts/example_analysis_notebooks/shuffled_confident_clusters/TDP43_INSCRIBE_PFA//TDP43_INSCRIBE_PFA_shuffle0.with_sequence.bed\n",
      "Processing /tscc/lustre/ddn/scratch/q2liang/isSTAMP_publication_scripts/example_analysis_notebooks/shuffled_confident_clusters/TDP43_INSCRIBE_PFA/TDP43_INSCRIBE_PFA_shuffle1.tsv...\n",
      "\tfilename is TDP43_INSCRIBE_PFA_shuffle1.tsv\n",
      "\tfolder is /tscc/lustre/ddn/scratch/q2liang/isSTAMP_publication_scripts/example_analysis_notebooks/shuffled_confident_clusters/TDP43_INSCRIBE_PFA/\n",
      "/tscc/lustre/ddn/scratch/q2liang/isSTAMP_publication_scripts/example_analysis_notebooks/shuffled_confident_clusters/TDP43_INSCRIBE_PFA//TDP43_INSCRIBE_PFA_shuffle1.with_sequence.bed\n",
      "\tAssigned sequences\n",
      "\tOutput file at /tscc/lustre/ddn/scratch/q2liang/isSTAMP_publication_scripts/example_analysis_notebooks/shuffled_confident_clusters/TDP43_INSCRIBE_PFA//TDP43_INSCRIBE_PFA_shuffle1.with_sequence.bed\n",
      "Processing /tscc/lustre/ddn/scratch/q2liang/isSTAMP_publication_scripts/example_analysis_notebooks/shuffled_confident_clusters/TDP43_INSCRIBE_PFA/TDP43_INSCRIBE_PFA_shuffle10.tsv...\n",
      "\tfilename is TDP43_INSCRIBE_PFA_shuffle10.tsv\n",
      "\tfolder is /tscc/lustre/ddn/scratch/q2liang/isSTAMP_publication_scripts/example_analysis_notebooks/shuffled_confident_clusters/TDP43_INSCRIBE_PFA/\n",
      "/tscc/lustre/ddn/scratch/q2liang/isSTAMP_publication_scripts/example_analysis_notebooks/shuffled_confident_clusters/TDP43_INSCRIBE_PFA//TDP43_INSCRIBE_PFA_shuffle10.with_sequence.bed\n",
      "\tAssigned sequences\n",
      "\tOutput file at /tscc/lustre/ddn/scratch/q2liang/isSTAMP_publication_scripts/example_analysis_notebooks/shuffled_confident_clusters/TDP43_INSCRIBE_PFA//TDP43_INSCRIBE_PFA_shuffle10.with_sequence.bed\n",
      "Processing /tscc/lustre/ddn/scratch/q2liang/isSTAMP_publication_scripts/example_analysis_notebooks/shuffled_confident_clusters/TDP43_INSCRIBE_PFA/TDP43_INSCRIBE_PFA_shuffle11.tsv...\n",
      "\tfilename is TDP43_INSCRIBE_PFA_shuffle11.tsv\n",
      "\tfolder is /tscc/lustre/ddn/scratch/q2liang/isSTAMP_publication_scripts/example_analysis_notebooks/shuffled_confident_clusters/TDP43_INSCRIBE_PFA/\n",
      "/tscc/lustre/ddn/scratch/q2liang/isSTAMP_publication_scripts/example_analysis_notebooks/shuffled_confident_clusters/TDP43_INSCRIBE_PFA//TDP43_INSCRIBE_PFA_shuffle11.with_sequence.bed\n",
      "\tAssigned sequences\n",
      "\tOutput file at /tscc/lustre/ddn/scratch/q2liang/isSTAMP_publication_scripts/example_analysis_notebooks/shuffled_confident_clusters/TDP43_INSCRIBE_PFA//TDP43_INSCRIBE_PFA_shuffle11.with_sequence.bed\n",
      "Processing /tscc/lustre/ddn/scratch/q2liang/isSTAMP_publication_scripts/example_analysis_notebooks/shuffled_confident_clusters/TDP43_INSCRIBE_PFA/TDP43_INSCRIBE_PFA_shuffle12.tsv...\n",
      "\tfilename is TDP43_INSCRIBE_PFA_shuffle12.tsv\n",
      "\tfolder is /tscc/lustre/ddn/scratch/q2liang/isSTAMP_publication_scripts/example_analysis_notebooks/shuffled_confident_clusters/TDP43_INSCRIBE_PFA/\n",
      "/tscc/lustre/ddn/scratch/q2liang/isSTAMP_publication_scripts/example_analysis_notebooks/shuffled_confident_clusters/TDP43_INSCRIBE_PFA//TDP43_INSCRIBE_PFA_shuffle12.with_sequence.bed\n",
      "\tAssigned sequences\n",
      "\tOutput file at /tscc/lustre/ddn/scratch/q2liang/isSTAMP_publication_scripts/example_analysis_notebooks/shuffled_confident_clusters/TDP43_INSCRIBE_PFA//TDP43_INSCRIBE_PFA_shuffle12.with_sequence.bed\n",
      "Processing /tscc/lustre/ddn/scratch/q2liang/isSTAMP_publication_scripts/example_analysis_notebooks/shuffled_confident_clusters/TDP43_INSCRIBE_PFA/TDP43_INSCRIBE_PFA_shuffle13.tsv...\n",
      "\tfilename is TDP43_INSCRIBE_PFA_shuffle13.tsv\n",
      "\tfolder is /tscc/lustre/ddn/scratch/q2liang/isSTAMP_publication_scripts/example_analysis_notebooks/shuffled_confident_clusters/TDP43_INSCRIBE_PFA/\n",
      "/tscc/lustre/ddn/scratch/q2liang/isSTAMP_publication_scripts/example_analysis_notebooks/shuffled_confident_clusters/TDP43_INSCRIBE_PFA//TDP43_INSCRIBE_PFA_shuffle13.with_sequence.bed\n",
      "\tAssigned sequences\n",
      "\tOutput file at /tscc/lustre/ddn/scratch/q2liang/isSTAMP_publication_scripts/example_analysis_notebooks/shuffled_confident_clusters/TDP43_INSCRIBE_PFA//TDP43_INSCRIBE_PFA_shuffle13.with_sequence.bed\n",
      "Processing /tscc/lustre/ddn/scratch/q2liang/isSTAMP_publication_scripts/example_analysis_notebooks/shuffled_confident_clusters/TDP43_INSCRIBE_PFA/TDP43_INSCRIBE_PFA_shuffle14.tsv...\n",
      "\tfilename is TDP43_INSCRIBE_PFA_shuffle14.tsv\n",
      "\tfolder is /tscc/lustre/ddn/scratch/q2liang/isSTAMP_publication_scripts/example_analysis_notebooks/shuffled_confident_clusters/TDP43_INSCRIBE_PFA/\n",
      "/tscc/lustre/ddn/scratch/q2liang/isSTAMP_publication_scripts/example_analysis_notebooks/shuffled_confident_clusters/TDP43_INSCRIBE_PFA//TDP43_INSCRIBE_PFA_shuffle14.with_sequence.bed\n",
      "\tAssigned sequences\n",
      "\tOutput file at /tscc/lustre/ddn/scratch/q2liang/isSTAMP_publication_scripts/example_analysis_notebooks/shuffled_confident_clusters/TDP43_INSCRIBE_PFA//TDP43_INSCRIBE_PFA_shuffle14.with_sequence.bed\n",
      "Processing /tscc/lustre/ddn/scratch/q2liang/isSTAMP_publication_scripts/example_analysis_notebooks/shuffled_confident_clusters/TDP43_INSCRIBE_PFA/TDP43_INSCRIBE_PFA_shuffle15.tsv...\n",
      "\tfilename is TDP43_INSCRIBE_PFA_shuffle15.tsv\n",
      "\tfolder is /tscc/lustre/ddn/scratch/q2liang/isSTAMP_publication_scripts/example_analysis_notebooks/shuffled_confident_clusters/TDP43_INSCRIBE_PFA/\n",
      "/tscc/lustre/ddn/scratch/q2liang/isSTAMP_publication_scripts/example_analysis_notebooks/shuffled_confident_clusters/TDP43_INSCRIBE_PFA//TDP43_INSCRIBE_PFA_shuffle15.with_sequence.bed\n",
      "\tAssigned sequences\n",
      "\tOutput file at /tscc/lustre/ddn/scratch/q2liang/isSTAMP_publication_scripts/example_analysis_notebooks/shuffled_confident_clusters/TDP43_INSCRIBE_PFA//TDP43_INSCRIBE_PFA_shuffle15.with_sequence.bed\n",
      "Processing /tscc/lustre/ddn/scratch/q2liang/isSTAMP_publication_scripts/example_analysis_notebooks/shuffled_confident_clusters/TDP43_INSCRIBE_PFA/TDP43_INSCRIBE_PFA_shuffle16.tsv...\n",
      "\tfilename is TDP43_INSCRIBE_PFA_shuffle16.tsv\n",
      "\tfolder is /tscc/lustre/ddn/scratch/q2liang/isSTAMP_publication_scripts/example_analysis_notebooks/shuffled_confident_clusters/TDP43_INSCRIBE_PFA/\n",
      "/tscc/lustre/ddn/scratch/q2liang/isSTAMP_publication_scripts/example_analysis_notebooks/shuffled_confident_clusters/TDP43_INSCRIBE_PFA//TDP43_INSCRIBE_PFA_shuffle16.with_sequence.bed\n",
      "\tAssigned sequences\n",
      "\tOutput file at /tscc/lustre/ddn/scratch/q2liang/isSTAMP_publication_scripts/example_analysis_notebooks/shuffled_confident_clusters/TDP43_INSCRIBE_PFA//TDP43_INSCRIBE_PFA_shuffle16.with_sequence.bed\n",
      "Processing /tscc/lustre/ddn/scratch/q2liang/isSTAMP_publication_scripts/example_analysis_notebooks/shuffled_confident_clusters/TDP43_INSCRIBE_PFA/TDP43_INSCRIBE_PFA_shuffle17.tsv...\n",
      "\tfilename is TDP43_INSCRIBE_PFA_shuffle17.tsv\n",
      "\tfolder is /tscc/lustre/ddn/scratch/q2liang/isSTAMP_publication_scripts/example_analysis_notebooks/shuffled_confident_clusters/TDP43_INSCRIBE_PFA/\n",
      "/tscc/lustre/ddn/scratch/q2liang/isSTAMP_publication_scripts/example_analysis_notebooks/shuffled_confident_clusters/TDP43_INSCRIBE_PFA//TDP43_INSCRIBE_PFA_shuffle17.with_sequence.bed\n",
      "\tAssigned sequences\n",
      "\tOutput file at /tscc/lustre/ddn/scratch/q2liang/isSTAMP_publication_scripts/example_analysis_notebooks/shuffled_confident_clusters/TDP43_INSCRIBE_PFA//TDP43_INSCRIBE_PFA_shuffle17.with_sequence.bed\n",
      "Processing /tscc/lustre/ddn/scratch/q2liang/isSTAMP_publication_scripts/example_analysis_notebooks/shuffled_confident_clusters/TDP43_INSCRIBE_PFA/TDP43_INSCRIBE_PFA_shuffle18.tsv...\n",
      "\tfilename is TDP43_INSCRIBE_PFA_shuffle18.tsv\n",
      "\tfolder is /tscc/lustre/ddn/scratch/q2liang/isSTAMP_publication_scripts/example_analysis_notebooks/shuffled_confident_clusters/TDP43_INSCRIBE_PFA/\n",
      "/tscc/lustre/ddn/scratch/q2liang/isSTAMP_publication_scripts/example_analysis_notebooks/shuffled_confident_clusters/TDP43_INSCRIBE_PFA//TDP43_INSCRIBE_PFA_shuffle18.with_sequence.bed\n",
      "\tAssigned sequences\n",
      "\tOutput file at /tscc/lustre/ddn/scratch/q2liang/isSTAMP_publication_scripts/example_analysis_notebooks/shuffled_confident_clusters/TDP43_INSCRIBE_PFA//TDP43_INSCRIBE_PFA_shuffle18.with_sequence.bed\n",
      "Processing /tscc/lustre/ddn/scratch/q2liang/isSTAMP_publication_scripts/example_analysis_notebooks/shuffled_confident_clusters/TDP43_INSCRIBE_PFA/TDP43_INSCRIBE_PFA_shuffle19.tsv...\n",
      "\tfilename is TDP43_INSCRIBE_PFA_shuffle19.tsv\n",
      "\tfolder is /tscc/lustre/ddn/scratch/q2liang/isSTAMP_publication_scripts/example_analysis_notebooks/shuffled_confident_clusters/TDP43_INSCRIBE_PFA/\n",
      "/tscc/lustre/ddn/scratch/q2liang/isSTAMP_publication_scripts/example_analysis_notebooks/shuffled_confident_clusters/TDP43_INSCRIBE_PFA//TDP43_INSCRIBE_PFA_shuffle19.with_sequence.bed\n",
      "\tAssigned sequences\n",
      "\tOutput file at /tscc/lustre/ddn/scratch/q2liang/isSTAMP_publication_scripts/example_analysis_notebooks/shuffled_confident_clusters/TDP43_INSCRIBE_PFA//TDP43_INSCRIBE_PFA_shuffle19.with_sequence.bed\n",
      "Processing /tscc/lustre/ddn/scratch/q2liang/isSTAMP_publication_scripts/example_analysis_notebooks/shuffled_confident_clusters/TDP43_INSCRIBE_PFA/TDP43_INSCRIBE_PFA_shuffle2.tsv...\n",
      "\tfilename is TDP43_INSCRIBE_PFA_shuffle2.tsv\n",
      "\tfolder is /tscc/lustre/ddn/scratch/q2liang/isSTAMP_publication_scripts/example_analysis_notebooks/shuffled_confident_clusters/TDP43_INSCRIBE_PFA/\n",
      "/tscc/lustre/ddn/scratch/q2liang/isSTAMP_publication_scripts/example_analysis_notebooks/shuffled_confident_clusters/TDP43_INSCRIBE_PFA//TDP43_INSCRIBE_PFA_shuffle2.with_sequence.bed\n",
      "\tAssigned sequences\n",
      "\tOutput file at /tscc/lustre/ddn/scratch/q2liang/isSTAMP_publication_scripts/example_analysis_notebooks/shuffled_confident_clusters/TDP43_INSCRIBE_PFA//TDP43_INSCRIBE_PFA_shuffle2.with_sequence.bed\n",
      "Processing /tscc/lustre/ddn/scratch/q2liang/isSTAMP_publication_scripts/example_analysis_notebooks/shuffled_confident_clusters/TDP43_INSCRIBE_PFA/TDP43_INSCRIBE_PFA_shuffle3.tsv...\n",
      "\tfilename is TDP43_INSCRIBE_PFA_shuffle3.tsv\n",
      "\tfolder is /tscc/lustre/ddn/scratch/q2liang/isSTAMP_publication_scripts/example_analysis_notebooks/shuffled_confident_clusters/TDP43_INSCRIBE_PFA/\n",
      "/tscc/lustre/ddn/scratch/q2liang/isSTAMP_publication_scripts/example_analysis_notebooks/shuffled_confident_clusters/TDP43_INSCRIBE_PFA//TDP43_INSCRIBE_PFA_shuffle3.with_sequence.bed\n",
      "\tAssigned sequences\n",
      "\tOutput file at /tscc/lustre/ddn/scratch/q2liang/isSTAMP_publication_scripts/example_analysis_notebooks/shuffled_confident_clusters/TDP43_INSCRIBE_PFA//TDP43_INSCRIBE_PFA_shuffle3.with_sequence.bed\n",
      "Processing /tscc/lustre/ddn/scratch/q2liang/isSTAMP_publication_scripts/example_analysis_notebooks/shuffled_confident_clusters/TDP43_INSCRIBE_PFA/TDP43_INSCRIBE_PFA_shuffle4.tsv...\n",
      "\tfilename is TDP43_INSCRIBE_PFA_shuffle4.tsv\n",
      "\tfolder is /tscc/lustre/ddn/scratch/q2liang/isSTAMP_publication_scripts/example_analysis_notebooks/shuffled_confident_clusters/TDP43_INSCRIBE_PFA/\n",
      "/tscc/lustre/ddn/scratch/q2liang/isSTAMP_publication_scripts/example_analysis_notebooks/shuffled_confident_clusters/TDP43_INSCRIBE_PFA//TDP43_INSCRIBE_PFA_shuffle4.with_sequence.bed\n",
      "\tAssigned sequences\n",
      "\tOutput file at /tscc/lustre/ddn/scratch/q2liang/isSTAMP_publication_scripts/example_analysis_notebooks/shuffled_confident_clusters/TDP43_INSCRIBE_PFA//TDP43_INSCRIBE_PFA_shuffle4.with_sequence.bed\n",
      "Processing /tscc/lustre/ddn/scratch/q2liang/isSTAMP_publication_scripts/example_analysis_notebooks/shuffled_confident_clusters/TDP43_INSCRIBE_PFA/TDP43_INSCRIBE_PFA_shuffle5.tsv...\n",
      "\tfilename is TDP43_INSCRIBE_PFA_shuffle5.tsv\n",
      "\tfolder is /tscc/lustre/ddn/scratch/q2liang/isSTAMP_publication_scripts/example_analysis_notebooks/shuffled_confident_clusters/TDP43_INSCRIBE_PFA/\n",
      "/tscc/lustre/ddn/scratch/q2liang/isSTAMP_publication_scripts/example_analysis_notebooks/shuffled_confident_clusters/TDP43_INSCRIBE_PFA//TDP43_INSCRIBE_PFA_shuffle5.with_sequence.bed\n",
      "\tAssigned sequences\n",
      "\tOutput file at /tscc/lustre/ddn/scratch/q2liang/isSTAMP_publication_scripts/example_analysis_notebooks/shuffled_confident_clusters/TDP43_INSCRIBE_PFA//TDP43_INSCRIBE_PFA_shuffle5.with_sequence.bed\n",
      "Processing /tscc/lustre/ddn/scratch/q2liang/isSTAMP_publication_scripts/example_analysis_notebooks/shuffled_confident_clusters/TDP43_INSCRIBE_PFA/TDP43_INSCRIBE_PFA_shuffle6.tsv...\n",
      "\tfilename is TDP43_INSCRIBE_PFA_shuffle6.tsv\n",
      "\tfolder is /tscc/lustre/ddn/scratch/q2liang/isSTAMP_publication_scripts/example_analysis_notebooks/shuffled_confident_clusters/TDP43_INSCRIBE_PFA/\n",
      "/tscc/lustre/ddn/scratch/q2liang/isSTAMP_publication_scripts/example_analysis_notebooks/shuffled_confident_clusters/TDP43_INSCRIBE_PFA//TDP43_INSCRIBE_PFA_shuffle6.with_sequence.bed\n",
      "\tAssigned sequences\n",
      "\tOutput file at /tscc/lustre/ddn/scratch/q2liang/isSTAMP_publication_scripts/example_analysis_notebooks/shuffled_confident_clusters/TDP43_INSCRIBE_PFA//TDP43_INSCRIBE_PFA_shuffle6.with_sequence.bed\n",
      "Processing /tscc/lustre/ddn/scratch/q2liang/isSTAMP_publication_scripts/example_analysis_notebooks/shuffled_confident_clusters/TDP43_INSCRIBE_PFA/TDP43_INSCRIBE_PFA_shuffle7.tsv...\n",
      "\tfilename is TDP43_INSCRIBE_PFA_shuffle7.tsv\n",
      "\tfolder is /tscc/lustre/ddn/scratch/q2liang/isSTAMP_publication_scripts/example_analysis_notebooks/shuffled_confident_clusters/TDP43_INSCRIBE_PFA/\n",
      "/tscc/lustre/ddn/scratch/q2liang/isSTAMP_publication_scripts/example_analysis_notebooks/shuffled_confident_clusters/TDP43_INSCRIBE_PFA//TDP43_INSCRIBE_PFA_shuffle7.with_sequence.bed\n",
      "\tAssigned sequences\n",
      "\tOutput file at /tscc/lustre/ddn/scratch/q2liang/isSTAMP_publication_scripts/example_analysis_notebooks/shuffled_confident_clusters/TDP43_INSCRIBE_PFA//TDP43_INSCRIBE_PFA_shuffle7.with_sequence.bed\n",
      "Processing /tscc/lustre/ddn/scratch/q2liang/isSTAMP_publication_scripts/example_analysis_notebooks/shuffled_confident_clusters/TDP43_INSCRIBE_PFA/TDP43_INSCRIBE_PFA_shuffle8.tsv...\n",
      "\tfilename is TDP43_INSCRIBE_PFA_shuffle8.tsv\n",
      "\tfolder is /tscc/lustre/ddn/scratch/q2liang/isSTAMP_publication_scripts/example_analysis_notebooks/shuffled_confident_clusters/TDP43_INSCRIBE_PFA/\n",
      "/tscc/lustre/ddn/scratch/q2liang/isSTAMP_publication_scripts/example_analysis_notebooks/shuffled_confident_clusters/TDP43_INSCRIBE_PFA//TDP43_INSCRIBE_PFA_shuffle8.with_sequence.bed\n",
      "\tAssigned sequences\n",
      "\tOutput file at /tscc/lustre/ddn/scratch/q2liang/isSTAMP_publication_scripts/example_analysis_notebooks/shuffled_confident_clusters/TDP43_INSCRIBE_PFA//TDP43_INSCRIBE_PFA_shuffle8.with_sequence.bed\n",
      "Processing /tscc/lustre/ddn/scratch/q2liang/isSTAMP_publication_scripts/example_analysis_notebooks/shuffled_confident_clusters/TDP43_INSCRIBE_PFA/TDP43_INSCRIBE_PFA_shuffle9.tsv...\n",
      "\tfilename is TDP43_INSCRIBE_PFA_shuffle9.tsv\n",
      "\tfolder is /tscc/lustre/ddn/scratch/q2liang/isSTAMP_publication_scripts/example_analysis_notebooks/shuffled_confident_clusters/TDP43_INSCRIBE_PFA/\n",
      "/tscc/lustre/ddn/scratch/q2liang/isSTAMP_publication_scripts/example_analysis_notebooks/shuffled_confident_clusters/TDP43_INSCRIBE_PFA//TDP43_INSCRIBE_PFA_shuffle9.with_sequence.bed\n",
      "\tAssigned sequences\n",
      "\tOutput file at /tscc/lustre/ddn/scratch/q2liang/isSTAMP_publication_scripts/example_analysis_notebooks/shuffled_confident_clusters/TDP43_INSCRIBE_PFA//TDP43_INSCRIBE_PFA_shuffle9.with_sequence.bed\n"
     ]
    }
   ],
   "source": [
    "from pyfaidx import Fasta\n",
    "import re\n",
    "fasta = '/tscc/lustre/ddn/scratch/q2liang/reference/hg38.fa'\n",
    "FA = Fasta(fasta, rebuild=False)\n",
    "import math\n",
    "\n",
    "def get_sequence(r): \n",
    "    chrom = str(r.chrom)\n",
    "    start = r.start\n",
    "    end = r.end\n",
    "    strand = r.strand\n",
    "    \n",
    "    sequence = FA[chrom][start:end].seq\n",
    "    sequence = sequence.upper()\n",
    "        \n",
    "    return sequence\n",
    "\n",
    "def get_extended_sequence(r): \n",
    "    chrom = str(r.chrom)\n",
    "    \n",
    "    midpoint = r.start + (int((r.end - r.start)/2))\n",
    "    start = midpoint - 150\n",
    "    end = midpoint + 150\n",
    "    strand = r.strand\n",
    "    \n",
    "    sequence = FA[chrom][start:end].seq\n",
    "    sequence = sequence.upper()\n",
    "        \n",
    "    return sequence\n",
    "\n",
    "\n",
    "for peak_filepath in sorted(shuffled_peak_filepaths):\n",
    "    print('Processing {}...'.format(peak_filepath))\n",
    "    peak_df = pd.read_csv(peak_filepath, sep='\\t')\n",
    "    filename = peak_filepath.split('/')[-1]\n",
    "    \n",
    "    print('\\tfilename is {}'.format(filename))\n",
    "    \n",
    "    folder = peak_filepath.split(filename)[0]\n",
    "    print('\\tfolder is {}'.format(folder))\n",
    "    output_filepath = '{}/{}.with_sequence.bed'.format(folder, filename[0:-4])\n",
    "    print(output_filepath)\n",
    "    \n",
    "    peak_df['sequence(+)'] = peak_df.apply(get_sequence, axis=1)\n",
    "    peak_df['extended_sequence(+)'] = peak_df.apply(get_extended_sequence, axis=1)\n",
    "\n",
    "    print('\\tAssigned sequences')\n",
    "    peak_df.to_csv(output_filepath, sep='\\t', index=False)\n",
    "    print('\\tOutput file at {}'.format(output_filepath))"
   ]
  }
 ],
 "metadata": {
  "kernelspec": {
   "display_name": "py3",
   "language": "python",
   "name": "py3"
  },
  "language_info": {
   "codemirror_mode": {
    "name": "ipython",
    "version": 3
   },
   "file_extension": ".py",
   "mimetype": "text/x-python",
   "name": "python",
   "nbconvert_exporter": "python",
   "pygments_lexer": "ipython3",
   "version": "3.6.13"
  }
 },
 "nbformat": 4,
 "nbformat_minor": 5
}
