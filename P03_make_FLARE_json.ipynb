{
 "cells": [
  {
   "cell_type": "markdown",
   "id": "76730039-ca4a-48fc-ace7-b0089ee29a36",
   "metadata": {},
   "source": [
    "## This script makes the FLARE input files and configuration files for sailor output results (after filtering), using default parameters"
   ]
  },
  {
   "cell_type": "code",
   "execution_count": 1,
   "id": "75ecc6a0",
   "metadata": {},
   "outputs": [
    {
     "name": "stdout",
     "output_type": "stream",
     "text": [
      "/tscc/lustre/ddn/scratch/q2liang/isSTAMP_publication_scripts/example_analysis_notebooks\n"
     ]
    }
   ],
   "source": [
    "from glob import glob\n",
    "import os\n",
    "import json\n",
    "import yaml\n",
    "import subprocess\n",
    "\n",
    "cwd = os.getcwd()\n",
    "main_directory = cwd\n",
    "\n",
    "print(main_directory)"
   ]
  },
  {
   "cell_type": "code",
   "execution_count": 2,
   "id": "25f65e88",
   "metadata": {},
   "outputs": [
    {
     "data": {
      "text/plain": [
       "CompletedProcess(args=['mkdir', '/tscc/lustre/ddn/scratch/q2liang/isSTAMP_publication_scripts/example_analysis_notebooks/flare_filtered/flare_inputs/'], returncode=1)"
      ]
     },
     "execution_count": 2,
     "metadata": {},
     "output_type": "execute_result"
    }
   ],
   "source": [
    "input_dir = main_directory + '/sailor_output/filtered_sailor_bed'\n",
    "output_dir = main_directory + '/flare_filtered'\n",
    "jsons_dir = main_directory + '/flare_filtered/flare_inputs/'\n",
    "fasta = '/tscc/projects/ps-yeolab3/bay001/annotations/hg38/hg38.fa'\n",
    "regions = '/tscc/projects/ps-yeolab3/ekofman/ReferenceData/peakcalling_regions/hg38/hg38_exons_and_introns_new'\n",
    "edit_type = 'ct'\n",
    "fdr_threshold = 0.1\n",
    "max_merge_dist = 15\n",
    "cluster_config = '/tscc/nfs/home/q2liang/FLARE_profile'\n",
    "snakemake_dir_path = '/tscc/projects/ps-yeolab4/software/stamp/0.99.0/bin/stamp/'\n",
    "\n",
    "subprocess.run([\"mkdir\", output_dir])\n",
    "subprocess.run([\"mkdir\", jsons_dir])"
   ]
  },
  {
   "cell_type": "code",
   "execution_count": 3,
   "id": "37a48e80-f0cb-4cb9-81eb-f2f3b6f3fb22",
   "metadata": {},
   "outputs": [],
   "source": [
    "samples = sorted(glob(os.path.join(input_dir, '*.bed')))\n",
    "samples = [i.split('/')[-1].split('.0.5')[0] for i in samples] "
   ]
  },
  {
   "cell_type": "code",
   "execution_count": 4,
   "id": "4b1a18a9",
   "metadata": {},
   "outputs": [
    {
     "name": "stdout",
     "output_type": "stream",
     "text": [
      "12\n",
      "module load snakemake; snakemake --profile /tscc/nfs/home/q2liang/FLARE_profile --configfile /tscc/lustre/ddn/scratch/q2liang/isSTAMP_publication_scripts/example_analysis_notebooks/flare_filtered/flare_inputs/isSTAMP10_01_flare_inputs_filtered.json  -j 30 \n"
     ]
    }
   ],
   "source": [
    "og_sailor_output_dir = '/tscc/lustre/ddn/scratch/q2liang/isSTAMP_publication_scripts/FM_fix_rbfox2_tdp43_HEK_cells/sailor_output'\n",
    "stamp_sites = sorted(glob(os.path.join(input_dir, '*.bed')))\n",
    "fwd_bw = sorted(glob(os.path.join(og_sailor_output_dir, '8_bw_and_bam/*.fwd.sorted.bw')))\n",
    "rev_bw = sorted(glob(os.path.join(og_sailor_output_dir, '8_bw_and_bam/*.rev.sorted.bw')))\n",
    "bam = sorted(glob(os.path.join(og_sailor_output_dir, '8_bw_and_bam/*.bam_filtered_merged.sorted.bam')))\n",
    "\n",
    "commands = []\n",
    "\n",
    "for s in samples:\n",
    "    sample_dict = {}\n",
    "    sample_dict['label'] = s\n",
    "    sample_dict['output_folder'] = output_dir\n",
    "    sample_dict['stamp_sites_file'] = [i for i in stamp_sites if s in i][0]\n",
    "    sample_dict['forward_bw'] = [i for i in fwd_bw if s in i][0]\n",
    "    sample_dict['reverse_bw'] = [i for i in rev_bw if s in i][0]\n",
    "    sample_dict['fasta'] = fasta\n",
    "    sample_dict['regions'] = regions\n",
    "    sample_dict['edit_type'] = edit_type\n",
    "    sample_dict['fdr_threshold'] = fdr_threshold\n",
    "    sample_dict['max_merge_dist'] = max_merge_dist\n",
    "    sample_dict['bam'] = [i for i in bam if s in i][0]\n",
    "    sample_dict['snakemake_dir_path'] = snakemake_dir_path\n",
    "    \n",
    "    with open(os.path.join(jsons_dir, '{}_flare_inputs_filtered.json'.format(s)), 'w') as file:\n",
    "        json.dump(sample_dict, file)\n",
    "        \n",
    "    command = 'module load snakemake; snakemake '\n",
    "    command += '--profile {} '.format(cluster_config)\n",
    "    command += '--configfile {} '.format(os.path.join(jsons_dir, '{}_flare_inputs_filtered.json'.format(s)))\n",
    "    command += ' -j 30 '\n",
    "    commands.append(command)\n",
    "print(len(commands))\n",
    "print(commands[0])"
   ]
  },
  {
   "cell_type": "code",
   "execution_count": 5,
   "id": "5ac7cd26",
   "metadata": {},
   "outputs": [],
   "source": [
    "with open('flare_filtered.qsub', 'w') as file:\n",
    "    file.write('#!/bin/bash\\n#PBS -V\\n#PBS -l walltime=48:00:00\\n#PBS -l nodes=1:ppn=1\\n#PBS -q home-yeo\\n#PBS -t 1-'+str(len(commands))+'\\ncd $PBS_O_WORKDIR\\n\\n')\n",
    "    for i in range(len(commands)):\n",
    "        file.write('cmd[{0}]=\"{1}\"\\n'.format(i+1, commands[i]))\n",
    "    file.write('eval ${cmd[$PBS_ARRAYID]}')"
   ]
  }
 ],
 "metadata": {
  "kernelspec": {
   "display_name": "py3",
   "language": "python",
   "name": "py3"
  },
  "language_info": {
   "codemirror_mode": {
    "name": "ipython",
    "version": 3
   },
   "file_extension": ".py",
   "mimetype": "text/x-python",
   "name": "python",
   "nbconvert_exporter": "python",
   "pygments_lexer": "ipython3",
   "version": "3.6.13"
  }
 },
 "nbformat": 4,
 "nbformat_minor": 5
}
