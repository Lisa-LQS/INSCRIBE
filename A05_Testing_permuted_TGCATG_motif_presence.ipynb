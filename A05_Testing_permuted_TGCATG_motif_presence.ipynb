{
 "cells": [
  {
   "cell_type": "markdown",
   "id": "64f9eff6-ede3-43b6-9109-8af9c77d392c",
   "metadata": {},
   "source": [
    "## This script compares the fraction of sequences with the RBP motif among the actual vs permuted edit clusters"
   ]
  },
  {
   "cell_type": "code",
   "execution_count": 1,
   "id": "0b275775-b652-47be-8f8d-c2426d7150af",
   "metadata": {},
   "outputs": [
    {
     "name": "stdout",
     "output_type": "stream",
     "text": [
      "/tscc/lustre/ddn/scratch/q2liang/isSTAMP_publication_scripts/example_analysis_notebooks\n"
     ]
    }
   ],
   "source": [
    "import os\n",
    "cwd = os.getcwd()\n",
    "\n",
    "main_dir = cwd\n",
    "print(main_dir)"
   ]
  },
  {
   "cell_type": "code",
   "execution_count": 2,
   "id": "ab1c9c07-af07-4332-b91a-275d70c1cf6c",
   "metadata": {},
   "outputs": [
    {
     "data": {
      "text/plain": [
       "CompletedProcess(args=['mkdir', '/tscc/lustre/ddn/scratch/q2liang/isSTAMP_publication_scripts/example_analysis_notebooks/figures_actual_vs_shuffule/'], returncode=1)"
      ]
     },
     "execution_count": 2,
     "metadata": {},
     "output_type": "execute_result"
    }
   ],
   "source": [
    "import pandas as pd\n",
    "from glob import glob\n",
    "import pybedtools\n",
    "from collections import defaultdict\n",
    "import subprocess\n",
    "\n",
    "figures_directory = main_dir + '/figures_actual_vs_shuffule/'\n",
    "\n",
    "subprocess.run([\"mkdir\",figures_directory])\n"
   ]
  },
  {
   "cell_type": "markdown",
   "id": "be375684-9656-4166-955e-e2e82eb8aaac",
   "metadata": {},
   "source": [
    "### load shuffled stamp peaks"
   ]
  },
  {
   "cell_type": "code",
   "execution_count": 3,
   "id": "1e0db65e-d013-41c6-a3fd-545343794889",
   "metadata": {},
   "outputs": [
    {
     "data": {
      "text/plain": [
       "120"
      ]
     },
     "execution_count": 3,
     "metadata": {},
     "output_type": "execute_result"
    }
   ],
   "source": [
    "shuffled_dir = main_dir + '/shuffled_confident_clusters/'\n",
    "shuffled_dir_invivo = main_dir + '/../in_vivo_shuffled_confident_peaks/'\n",
    "shuffled_peak_with_sequence_filepaths = glob( shuffled_dir + '*/*with_sequence.bed') + glob(shuffled_dir_invivo + '*/*with_sequence.bed')\n",
    "len(shuffled_peak_with_sequence_filepaths)"
   ]
  },
  {
   "cell_type": "markdown",
   "id": "2f00bca5-aeeb-4bc1-bd8c-b784ed745585",
   "metadata": {},
   "source": [
    "### Compare permuted fraction for motif"
   ]
  },
  {
   "cell_type": "code",
   "execution_count": 4,
   "id": "6a9c6bbd-2ddf-4859-8fbb-750b1cda256a",
   "metadata": {},
   "outputs": [],
   "source": [
    "permuted_fractions = pd.read_csv( shuffled_dir + 'RBFOX_cleaned_motif_presence_in_shuffles.tsv', sep='\\t', index_col=0)\n",
    "\n",
    "peak_set_to_motif_presence = defaultdict(lambda:[])\n",
    "for l, v in permuted_fractions.loc['TGCATG'].items():\n",
    "    #print(l, v)\n",
    "    main_category = l.split('_shuffle')[0]\n",
    "    peak_set_to_motif_presence[main_category].append(v)\n",
    "    \n",
    "# load the in vivo experiment data\n",
    "permuted_fractions_invivo = pd.read_csv( shuffled_dir_invivo + 'RBFOX_cleaned_motif_presence_in_shuffles.tsv', sep='\\t', index_col=0)\n",
    "for l, v in permuted_fractions_invivo.loc['TGCATG'].items():\n",
    "    #print(l, v)\n",
    "    main_category = l.split('_shuffle')[0]\n",
    "    peak_set_to_motif_presence[main_category].append(v)\n"
   ]
  },
  {
   "cell_type": "markdown",
   "id": "d43d7f7f-775b-49e9-8d61-67c5bd7431ed",
   "metadata": {},
   "source": [
    "### Find actual fraction with motif"
   ]
  },
  {
   "cell_type": "code",
   "execution_count": 5,
   "id": "cd717429-951a-4ee3-ad17-0c9fab722c22",
   "metadata": {},
   "outputs": [
    {
     "name": "stderr",
     "output_type": "stream",
     "text": [
      "/tscc/nfs/home/q2liang/miniconda3/envs/py3/lib/python3.6/site-packages/pyfaidx/__init__.py:498: RuntimeWarning: Index file /tscc/lustre/ddn/scratch/q2liang/reference/hg38.fa.fai is older than FASTA file /tscc/lustre/ddn/scratch/q2liang/reference/hg38.fa.\n",
      "  ), RuntimeWarning\n"
     ]
    }
   ],
   "source": [
    "from pyfaidx import Fasta\n",
    "import re\n",
    "fasta = '/tscc/lustre/ddn/scratch/q2liang/reference/hg38.fa'\n",
    "FA = Fasta(fasta, rebuild=False)\n",
    "import math\n",
    "\n",
    "def get_sequence(r): \n",
    "    chrom = str(r.chrom)\n",
    "    start = r.start\n",
    "    end = r.end\n",
    "    strand = r.strand\n",
    "    \n",
    "    sequence = FA[chrom][start:end].seq\n",
    "    sequence = sequence.upper()\n",
    "        \n",
    "    return sequence\n",
    "\n",
    "def get_extended_sequence(r): \n",
    "    chrom = str(r.chrom)\n",
    "    \n",
    "    midpoint = r.start + (int((r.end - r.start)/2))\n",
    "    start = midpoint - 400\n",
    "    end = midpoint + 400\n",
    "    strand = r.strand\n",
    "    \n",
    "    sequence = FA[chrom][start:end].seq\n",
    "    sequence = sequence.upper()\n",
    "        \n",
    "    return sequence\n",
    "\n",
    "complement = {'A': 'T', 'C': 'G', 'G': 'C', 'T': 'A'}\n",
    "def reverse_complement(seq):\n",
    "    return \"\".join(complement.get(base, base) for base in reversed(seq))\n",
    "\n",
    "def reverse(seq):\n",
    "    return seq[::-1]\n",
    "\n",
    "def motif_present(sequence, motif, strand):\n",
    "    if strand == '+':\n",
    "        return motif in sequence\n",
    "    elif strand == '-':\n",
    "        return reverse_complement(motif) in sequence\n",
    "\n",
    "def motif_distance_from_center(sequence, motif, strand):\n",
    "    #print(sequence)\n",
    "    if strand == '+':\n",
    "        search_term = motif\n",
    "    elif strand == '-':\n",
    "        search_term = reverse_complement(motif)\n",
    "    else:\n",
    "        search_term = motif\n",
    "        \n",
    "    if search_term in sequence:\n",
    "        closest_position_in_first_half = 1000\n",
    "        closest_position_in_second_half = 1000\n",
    "        \n",
    "        midpoint = math.ceil(len(sequence)/2)\n",
    "        #print('\\tmidpoint is {}'.format(midpoint))\n",
    "        start_of_second_half = midpoint-len(motif)\n",
    "\n",
    "        sequence_first_half = sequence[0:midpoint]\n",
    "        sequence_second_half = sequence[start_of_second_half:]\n",
    "\n",
    "        #print('\\tSplit:', sequence_first_half, sequence_second_half)\n",
    "        if search_term in sequence_first_half:\n",
    "            flipped_sequence = reverse(sequence_first_half)\n",
    "            flipped_search_term = reverse(search_term)\n",
    "            \n",
    "            #print('searching for {} in {}'.format(flipped_search_term, flipped_sequence))\n",
    "            closest_position_in_first_half = - flipped_sequence.index(flipped_search_term) - math.floor(len(motif)/2)\n",
    "            \n",
    "        if search_term in sequence_second_half:\n",
    "            closest_position_in_second_half = sequence_second_half.index(search_term) - math.floor(len(motif)/2)\n",
    "\n",
    "        #print([closest_position_in_first_half, closest_position_in_second_half])\n",
    "        if min(abs(closest_position_in_second_half), abs(closest_position_in_first_half)) == abs(closest_position_in_second_half):\n",
    "            return closest_position_in_second_half\n",
    "        else:\n",
    "            return closest_position_in_first_half\n",
    "    else:\n",
    "        return None\n",
    "    \n",
    "motifs = ['TGCATG']\n",
    "\n",
    "def add_sequence_presences(r, window_size=70):\n",
    "    extended_sequence = r['extended_sequence(+)']\n",
    "    strand = r.strand\n",
    "\n",
    "    distance_tgcatg = motif_distance_from_center(extended_sequence, 'TGCATG', strand)\n",
    "\n",
    "    sequence = r['sequence(+)']\n",
    "\n",
    "    presence_map = {motif: motif_present(sequence, motif, strand) for motif in motifs}\n",
    "    return presence_map.get(motifs[0]), distance_tgcatg\n",
    "\n",
    "\n",
    "def calculate_fractions(p_df):\n",
    "    fractions_dict = {}\n",
    "    counts_dict = {}\n",
    "    \n",
    "    for motif in motifs:\n",
    "        motif_present_count = p_df[motif].sum()\n",
    "        motif_present_fraction = motif_present_count/len(p_df)\n",
    "        fractions_dict[motif] = motif_present_fraction\n",
    "        counts_dict[motif] = motif_present_count\n",
    "    \n",
    "    return fractions_dict, counts_dict"
   ]
  },
  {
   "cell_type": "code",
   "execution_count": 7,
   "id": "b710e803-38dd-4e12-a9f7-5b2ce84e038a",
   "metadata": {},
   "outputs": [
    {
     "name": "stdout",
     "output_type": "stream",
     "text": [
      "\t Enzyme_Only_PFA\n",
      "\t RBFOX2_INSCRIBE_PFA\n",
      "\t RBFOX2_ct_APOBEC1_alone\n",
      "\t RBFOX2_ct_FOX2-APOBEC1\n",
      "\t RBFOX2_ct_FOX2-APOBEC1_cleaned\n"
     ]
    }
   ],
   "source": [
    "peak_filepaths = sorted(glob(main_dir + '/confident_clusters/*_cleaned_confident_clusters.bed')) \n",
    "\n",
    "stamp_file_dfs = {}\n",
    "all_sample = []\n",
    "\n",
    "for peak_filepath in peak_filepaths:    \n",
    "    file_id = peak_filepath.split('/')[-1].split('_cleaned_confident')[0]\n",
    "    if 'TDP43' in file_id:\n",
    "        continue\n",
    "    print('\\t', file_id)\n",
    "    all_sample.append(file_id)\n",
    "    stamp_file_dfs[file_id] = pd.read_csv(peak_filepath, sep='\\t', header=None, names = ['chrom', 'start', 'end', 'depth', 'fractions', 'strand', 'region'])\n",
    "\n",
    "# load the in vivo stamp data\n",
    "peak_filepaths_invivo = sorted(glob(main_dir + '/../in_vivo_confident_peaks/*.bed')) \n",
    "for peak_filepath in peak_filepaths_invivo:    \n",
    "    file_id = peak_filepath.split('/')[-1].split('.bed')[0]\n",
    "    print('\\t', file_id)\n",
    "    all_sample.append(file_id)\n",
    "    stamp_file_dfs[file_id] = pd.read_csv(peak_filepath, sep='\\t', header=None, names = ['chrom', 'start', 'end', 'depth', 'fractions', 'strand', 'region'])\n"
   ]
  },
  {
   "cell_type": "code",
   "execution_count": 8,
   "id": "20e1412d-861a-4ba4-8ebd-1af2c07cfa8c",
   "metadata": {
    "scrolled": true,
    "tags": []
   },
   "outputs": [
    {
     "name": "stdout",
     "output_type": "stream",
     "text": [
      "Enzyme_Only_PFA\n",
      "\t 1678\n",
      "Checking TGCATG\n",
      "RBFOX2_INSCRIBE_PFA\n",
      "\t 2970\n",
      "Checking TGCATG\n",
      "RBFOX2_ct_APOBEC1_alone\n",
      "\t 2044\n",
      "Checking TGCATG\n",
      "RBFOX2_ct_FOX2-APOBEC1\n",
      "\t 2252\n",
      "Checking TGCATG\n",
      "RBFOX2_ct_FOX2-APOBEC1_cleaned\n",
      "\t 1893\n",
      "Checking TGCATG\n"
     ]
    }
   ],
   "source": [
    "from collections import defaultdict\n",
    "\n",
    "actual_motif_fractions = defaultdict(lambda:{})\n",
    "dfs_with_motif_info = {}\n",
    "\n",
    "for label,df in stamp_file_dfs.items():\n",
    "    print(label)\n",
    "    print('\\t', len(df))\n",
    "    df['sequence(+)'] = df.apply(get_sequence, axis=1)\n",
    "    df['extended_sequence(+)'] = df.apply(get_extended_sequence, axis=1)\n",
    "\n",
    "    df[motifs[0]],df['TGCATG_dist_from_center'] = zip(*df.apply(add_sequence_presences, axis=1))\n",
    "    \n",
    "    dfs_with_motif_info[label] = df\n",
    "    \n",
    "    for motif in motifs:\n",
    "        print('Checking {}'.format(motif))\n",
    "        actual_motif_fractions[label][motif] = len(df[df[motif] == True])/len(df)"
   ]
  },
  {
   "cell_type": "markdown",
   "id": "46e46e7d-fde0-4469-a816-c084c11f8661",
   "metadata": {},
   "source": [
    "### plot the cleaned confident clusters"
   ]
  },
  {
   "cell_type": "code",
   "execution_count": 9,
   "id": "ea0ea9c2-a7bb-412c-8196-e136eaf61312",
   "metadata": {},
   "outputs": [
    {
     "name": "stdout",
     "output_type": "stream",
     "text": [
      "['RBFOX2_ct_FOX2-APOBEC1_cleaned', 'Enzyme_Only_PFA', 'RBFOX2_INSCRIBE_PFA']\n",
      "['RBFOX2 in cell STAMP', 'INSCRIBE Enzyme-Only\\n(PFA-fixed)', 'RBFOX2 INSCRIBE\\n(PFA-fixed)']\n",
      "for-pub-rbfox2\n",
      "\t /tscc/lustre/ddn/scratch/q2liang/isSTAMP_publication_scripts/example_analysis_notebooks/figures_actual_vs_shuffule//stamp_peak_tgcatg_motif_permutation-for-pub-rbfox2\n",
      "Enzyme_Only_PFA 0.2\n",
      "RBFOX2_INSCRIBE_PFA 0.0\n",
      "RBFOX2_ct_APOBEC1_alone 0.75\n",
      "RBFOX2_ct_FOX2-APOBEC1_cleaned 0.0\n",
      "RBFOX2_ct_FOX2-APOBEC1 0.0\n"
     ]
    },
    {
     "data": {
      "image/png": "[encoded data removed]",
      "text/plain": [
       "<Figure size 432x216 with 1 Axes>"
      ]
     },
     "metadata": {},
     "output_type": "display_data"
    },
    {
     "data": {
      "image/png": "[encoded data removed]",
      "text/plain": [
       "<Figure size 288x216 with 1 Axes>"
      ]
     },
     "metadata": {},
     "output_type": "display_data"
    }
   ],
   "source": [
    "to_plot_together_label = ['RBFOX2_ct_FOX2-APOBEC1_cleaned','Enzyme_Only_PFA','RBFOX2_INSCRIBE_PFA']\n",
    "print(to_plot_together_label)\n",
    "\n",
    "label_to_legend_dict = {\n",
    "'RBFOX2_INSCRIBE_PFA':'RBFOX2 INSCRIBE\\n(PFA-fixed)',\n",
    "'Enzyme_Only_PFA':'INSCRIBE Enzyme-Only\\n(PFA-fixed)',\n",
    "'RBFOX2_ct_FOX2-APOBEC1_cleaned': 'RBFOX2 in cell STAMP'\n",
    "}\n",
    "\n",
    "legends = [label_to_legend_dict.get(i) for i in to_plot_together_label]\n",
    "print(legends)\n",
    "\n",
    "from matplotlib import pyplot as plt\n",
    "import matplotlib\n",
    "import numpy as np\n",
    "import seaborn as sns\n",
    "plt.rcParams['pdf.fonttype'] = 42\n",
    "\n",
    "custom_params = {\"axes.spines.right\": False, \"axes.spines.top\": False}\n",
    "sns.set_theme(style=\"whitegrid\", rc=custom_params, font_scale=1.3)\n",
    "\n",
    "label_options = [to_plot_together_label]\n",
    "\n",
    "title_base = 'stamp_peak_tgcatg_motif_permutation-'\n",
    "title_options = ['for-pub-rbfox2']\n",
    "\n",
    "\n",
    "\n",
    "for labels_subset, title_suffix in zip(label_options, title_options):\n",
    "\n",
    "    print(title_suffix)\n",
    "    \n",
    "    for l in labels_subset:\n",
    "        assert(l in peak_set_to_motif_presence.keys())\n",
    "\n",
    "\n",
    "    # Plot boxplots\n",
    "    plt.figure(figsize=(6, 3))\n",
    "\n",
    "    a = plt.boxplot([peak_set_to_motif_presence.get(l) for l in labels_subset]\n",
    "                    , vert=False, showfliers=False, patch_artist=True,  widths= 0.6,\n",
    "            boxprops=dict(facecolor='royalblue', color='black',  alpha=0.7))\n",
    "\n",
    "    range_array= [i+1 for i in range(len(labels_subset))]\n",
    "\n",
    "    b = plt.scatter([actual_motif_fractions.get(l).get('TGCATG') for l in labels_subset], range_array, color='k')\n",
    "    plt.xlabel(\"Fraction\", labelpad = 10,  fontsize = 15)\n",
    "    plt.title(\"Fraction of INSCRIBE edit clusters with UGCAUG motif\\n(actual vs permuted)\", pad=20,  fontsize = 18)\n",
    "    c = plt.yticks(range_array, legends)\n",
    "    plt.xlim(left=0)\n",
    "\n",
    "\n",
    "    filename = '{}/{}{}'.format(figures_directory, title_base, title_suffix)\n",
    "    print('\\t', filename)\n",
    "    # plt.savefig('{}-box-color.png'.format(filename), bbox_inches='tight', dpi = 300)\n",
    "    # plt.savefig('{}-box-color.svg'.format(filename), bbox_inches='tight', dpi = 300)\n",
    "    # plt.savefig('{}-box-color.pdf'.format(filename), bbox_inches='tight', dpi = 300)\n",
    "\n",
    "\n",
    "    # Plot enrichment\n",
    "\n",
    "    tick_list = legends\n",
    "\n",
    "    motif_odds_ratios = {}\n",
    "    for k in peak_set_to_motif_presence.keys():\n",
    "\n",
    "        permuted_val = np.mean(peak_set_to_motif_presence.get(k))\n",
    "        actual_val = actual_motif_fractions.get(k).get('TGCATG')\n",
    "        \n",
    "        num_exceeding_actual = [v for v in peak_set_to_motif_presence.get(k) if v > actual_val]\n",
    "        pval = len(num_exceeding_actual)/len(peak_set_to_motif_presence.get(k))\n",
    "        print(k, pval)\n",
    "        motif_odds_ratios[k] = actual_val/permuted_val\n",
    "    \n",
    "        \n",
    "    ordered_motif_ors = []\n",
    "    for o in labels_subset:\n",
    "        ordered_motif_ors.append(motif_odds_ratios.get(o))\n",
    "\n",
    "    min_odds_ratio = np.min(ordered_motif_ors)\n",
    "    max_odds_ratio = np.max(ordered_motif_ors)\n",
    "    \n",
    "    plt.figure(figsize=(4, 3))\n",
    "    plt.barh(tick_list, ordered_motif_ors, color='royalblue', edgecolor = 'black',  alpha=0.7, height = 0.75)\n",
    "    plt.xlim(1,max_odds_ratio+0.1)\n",
    "    plt.title(\"Enrichment\\n\", pad=20, fontsize = 18)\n",
    "    plt.xlabel(\"Enrichment\", labelpad = 10, fontsize = 15)\n",
    "\n",
    "    \n",
    "    # plt.savefig('{}-enrich-color.png'.format(filename), bbox_inches='tight', dpi = 300)\n",
    "    # plt.savefig('{}-enrich-color.svg'.format(filename), bbox_inches='tight', dpi = 300)\n",
    "    # plt.savefig('{}-enrich-color.pdf'.format(filename), bbox_inches='tight', dpi = 300)"
   ]
  },
  {
   "cell_type": "code",
   "execution_count": 10,
   "id": "c1926330-70de-4ca6-91c6-a7dda12b1001",
   "metadata": {},
   "outputs": [
    {
     "data": {
      "text/plain": [
       "{'Enzyme_Only_PFA': 1.0843338469141546,\n",
       " 'RBFOX2_INSCRIBE_PFA': 3.4479511888373358,\n",
       " 'RBFOX2_ct_APOBEC1_alone': 0.8998875140607424,\n",
       " 'RBFOX2_ct_FOX2-APOBEC1_cleaned': 2.530357858800897,\n",
       " 'RBFOX2_ct_FOX2-APOBEC1': 2.303850623862465}"
      ]
     },
     "execution_count": 10,
     "metadata": {},
     "output_type": "execute_result"
    }
   ],
   "source": [
    "motif_odds_ratios"
   ]
  },
  {
   "cell_type": "code",
   "execution_count": 11,
   "id": "98ad17b8-ceb0-4dde-a1a4-90ba4c7b023f",
   "metadata": {},
   "outputs": [
    {
     "name": "stdout",
     "output_type": "stream",
     "text": [
      "RBFOX2_ct_FOX2-APOBEC1_cleaned\n",
      "23.084811161868075\n",
      "Enzyme_Only_PFA\n",
      "0.5653924006038678\n",
      "RBFOX2_INSCRIBE_PFA\n",
      "25.78601344357309\n"
     ]
    }
   ],
   "source": [
    "import numpy as np\n",
    "from scipy import stats\n",
    "\n",
    "\n",
    "for l in labels_subset:\n",
    "    print(l)\n",
    "    actual_value = actual_motif_fractions.get(l).get('TGCATG') \n",
    "    shuffle_values = peak_set_to_motif_presence.get(l)\n",
    "    mean = np.mean(shuffle_values)\n",
    "    std = np.std(shuffle_values)\n",
    "    zscore = (actual_value - mean) / std \n",
    "    print(zscore)\n"
   ]
  }
 ],
 "metadata": {
  "kernelspec": {
   "display_name": "py3",
   "language": "python",
   "name": "py3"
  },
  "language_info": {
   "codemirror_mode": {
    "name": "ipython",
    "version": 3
   },
   "file_extension": ".py",
   "mimetype": "text/x-python",
   "name": "python",
   "nbconvert_exporter": "python",
   "pygments_lexer": "ipython3",
   "version": "3.6.13"
  }
 },
 "nbformat": 4,
 "nbformat_minor": 5
}
