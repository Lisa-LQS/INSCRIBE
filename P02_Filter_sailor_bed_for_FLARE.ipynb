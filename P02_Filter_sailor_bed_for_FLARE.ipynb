{
 "cells": [
  {
   "cell_type": "markdown",
   "id": "e7146ea0-176a-4c91-868d-f2d63ef47a89",
   "metadata": {},
   "source": [
    "## This script filtered edit sites from SAILOR; Only keeping Sailor score > 0.5 sites + <80% editing fraction as peakcaller input"
   ]
  },
  {
   "cell_type": "code",
   "execution_count": 1,
   "id": "f53ce16c-625b-42ff-9e09-af8e34ada6a4",
   "metadata": {},
   "outputs": [
    {
     "name": "stdout",
     "output_type": "stream",
     "text": [
      "/tscc/lustre/ddn/scratch/q2liang/isSTAMP_publication_scripts/example_analysis_notebooks\n"
     ]
    }
   ],
   "source": [
    "import os\n",
    "cwd = os.getcwd()\n",
    "\n",
    "main_dir = cwd\n",
    "print(main_dir)"
   ]
  },
  {
   "cell_type": "code",
   "execution_count": 2,
   "id": "911617b5-63c6-45a0-b8f2-150448cb9b36",
   "metadata": {},
   "outputs": [
    {
     "name": "stdout",
     "output_type": "stream",
     "text": [
      "12\n"
     ]
    }
   ],
   "source": [
    "from glob import glob\n",
    "import pandas as pd\n",
    "import os\n",
    "import subprocess\n",
    "\n",
    "input_dir = main_dir + '/sailor_output/'\n",
    "filtered_sailor_bed_dir = input_dir + '/filtered_sailor_bed/'\n",
    "file_paths = sorted(glob('{}*.fastqTr.sorted.STARUnmapped.out.sorted.STARAligned.out.sorted.bam.combined.readfiltered.formatted.varfiltered.snpfiltered.ranked.bed'.format(input_dir)))\n",
    "\n",
    "subprocess.run([\"mkdir\", filtered_sailor_bed_dir])\n",
    "print(len(file_paths))"
   ]
  },
  {
   "cell_type": "code",
   "execution_count": 3,
   "id": "e263686a-7f06-4903-8a9f-635103dc0f20",
   "metadata": {},
   "outputs": [
    {
     "name": "stdout",
     "output_type": "stream",
     "text": [
      "{'isSTAMP10_01': 'RBFOX2 INSCRIBE PFA rep1', 'isSTAMP10_02': 'RBFOX2 INSCRIBE PFA rep2', 'isSTAMP10_03': 'RBFOX2 INSCRIBE PFA rep3', 'isSTAMP10_07': 'TDP43 INSCRIBE PFA rep1', 'isSTAMP10_08': 'TDP43 INSCRIBE PFA rep2', 'isSTAMP10_09': 'TDP43 INSCRIBE PFA rep3', 'isSTAMP10_13': 'Enzyme Only PFA rep1', 'isSTAMP10_14': 'Enzyme Only PFA rep2', 'isSTAMP10_15': 'Enzyme Only PFA rep3', 'isSTAMP10_16': 'Buffer Only PFA rep1', 'isSTAMP10_17': 'Buffer Only PFA rep2', 'isSTAMP10_18': 'Buffer Only PFA rep3'}\n"
     ]
    }
   ],
   "source": [
    "import pandas as pd\n",
    "sample_id_to_label = pd.read_csv(main_dir + '/sample_id_to_label-pub.txt', sep = '\\t', header = None, index_col = 0).to_dict().get(1)\n",
    "\n",
    "print(sample_id_to_label)"
   ]
  },
  {
   "cell_type": "code",
   "execution_count": 4,
   "id": "433efa95",
   "metadata": {
    "scrolled": true,
    "tags": []
   },
   "outputs": [
    {
     "name": "stdout",
     "output_type": "stream",
     "text": [
      "RBFOX2 INSCRIBE PFA rep1\n",
      "\tOriginal edit site count:\n",
      "\t\t212986\n",
      "\tEdit site count after only keeping >0.5 Sailor score:\n",
      "\t\t177375\n",
      "\tEdit site count after only keeping <80% edit fraction:\n",
      "\t\t177116\n",
      "RBFOX2 INSCRIBE PFA rep2\n",
      "\tOriginal edit site count:\n",
      "\t\t214155\n",
      "\tEdit site count after only keeping >0.5 Sailor score:\n",
      "\t\t179019\n",
      "\tEdit site count after only keeping <80% edit fraction:\n",
      "\t\t178797\n",
      "RBFOX2 INSCRIBE PFA rep3\n",
      "\tOriginal edit site count:\n",
      "\t\t272449\n",
      "\tEdit site count after only keeping >0.5 Sailor score:\n",
      "\t\t225851\n",
      "\tEdit site count after only keeping <80% edit fraction:\n",
      "\t\t225551\n",
      "TDP43 INSCRIBE PFA rep1\n",
      "\tOriginal edit site count:\n",
      "\t\t227746\n",
      "\tEdit site count after only keeping >0.5 Sailor score:\n",
      "\t\t184571\n",
      "\tEdit site count after only keeping <80% edit fraction:\n",
      "\t\t184316\n",
      "TDP43 INSCRIBE PFA rep2\n",
      "\tOriginal edit site count:\n",
      "\t\t187040\n",
      "\tEdit site count after only keeping >0.5 Sailor score:\n",
      "\t\t154506\n",
      "\tEdit site count after only keeping <80% edit fraction:\n",
      "\t\t154276\n",
      "TDP43 INSCRIBE PFA rep3\n",
      "\tOriginal edit site count:\n",
      "\t\t242803\n",
      "\tEdit site count after only keeping >0.5 Sailor score:\n",
      "\t\t199198\n",
      "\tEdit site count after only keeping <80% edit fraction:\n",
      "\t\t198896\n",
      "Enzyme Only PFA rep1\n",
      "\tOriginal edit site count:\n",
      "\t\t173068\n",
      "\tEdit site count after only keeping >0.5 Sailor score:\n",
      "\t\t142137\n",
      "\tEdit site count after only keeping <80% edit fraction:\n",
      "\t\t141923\n",
      "Enzyme Only PFA rep2\n",
      "\tOriginal edit site count:\n",
      "\t\t190170\n",
      "\tEdit site count after only keeping >0.5 Sailor score:\n",
      "\t\t156236\n",
      "\tEdit site count after only keeping <80% edit fraction:\n",
      "\t\t155985\n",
      "Enzyme Only PFA rep3\n",
      "\tOriginal edit site count:\n",
      "\t\t137311\n",
      "\tEdit site count after only keeping >0.5 Sailor score:\n",
      "\t\t114184\n",
      "\tEdit site count after only keeping <80% edit fraction:\n",
      "\t\t113969\n",
      "Buffer Only PFA rep1\n",
      "\tOriginal edit site count:\n",
      "\t\t183606\n",
      "\tEdit site count after only keeping >0.5 Sailor score:\n",
      "\t\t146967\n",
      "\tEdit site count after only keeping <80% edit fraction:\n",
      "\t\t146733\n",
      "Buffer Only PFA rep2\n",
      "\tOriginal edit site count:\n",
      "\t\t152173\n",
      "\tEdit site count after only keeping >0.5 Sailor score:\n",
      "\t\t125844\n",
      "\tEdit site count after only keeping <80% edit fraction:\n",
      "\t\t125613\n",
      "Buffer Only PFA rep3\n",
      "\tOriginal edit site count:\n",
      "\t\t172411\n",
      "\tEdit site count after only keeping >0.5 Sailor score:\n",
      "\t\t141362\n",
      "\tEdit site count after only keeping <80% edit fraction:\n",
      "\t\t141127\n"
     ]
    }
   ],
   "source": [
    "import pandas as pd\n",
    "from collections import defaultdict\n",
    "import numpy as np\n",
    "\n",
    "def edit_percentage(column_edit_counts):\n",
    "    return int(column_edit_counts.split(',')[0])/int(column_edit_counts.split(',')[1])\n",
    "\n",
    "edit_info_df_dict = {}\n",
    "sample_names = []\n",
    "\n",
    "\n",
    "for file_path in file_paths:\n",
    "    \n",
    "    sample_name = file_path.split('/')[-1].split('_S')[0]\n",
    "    sample_names.append(sample_name)\n",
    "    print(sample_id_to_label.get(sample_name))\n",
    "\n",
    "    file_df = pd.read_csv(file_path, sep='\\t')\n",
    "    print('\\tOriginal edit site count:')\n",
    "    print('\\t\\t' + str(len(file_df)))\n",
    "\n",
    "    file_df.columns = ['chrom','start','end','score','editing','strand']\n",
    "\n",
    "    file_df = file_df[file_df.iloc[:,3]>0.5]\n",
    "    print('\\tEdit site count after only keeping >0.5 Sailor score:')\n",
    "    print('\\t\\t' + str(len(file_df)))\n",
    "\n",
    "    file_df['edit_percentage'] = file_df.iloc[:,4].apply(edit_percentage)\n",
    "    file_df = file_df[file_df['edit_percentage']<0.8]\n",
    "    file_df = file_df.iloc[:, 0:6]\n",
    "    print('\\tEdit site count after only keeping <80% edit fraction:')\n",
    "    print('\\t\\t' + str(len(file_df)))\n",
    "\n",
    "    file_df.to_csv(filtered_sailor_bed_dir + sample_name + \".0.5Score0.8Fraction.fastqTr.sorted.STARUnmapped.out.sorted.STARAligned.out.sorted.bam.combined.readfiltered.formatted.varfiltered.snpfiltered.ranked.bed\", index = False, header=None, sep='\\t')\n"
   ]
  }
 ],
 "metadata": {
  "kernelspec": {
   "display_name": "py3",
   "language": "python",
   "name": "py3"
  },
  "language_info": {
   "codemirror_mode": {
    "name": "ipython",
    "version": 3
   },
   "file_extension": ".py",
   "mimetype": "text/x-python",
   "name": "python",
   "nbconvert_exporter": "python",
   "pygments_lexer": "ipython3",
   "version": "3.6.13"
  }
 },
 "nbformat": 4,
 "nbformat_minor": 5
}
