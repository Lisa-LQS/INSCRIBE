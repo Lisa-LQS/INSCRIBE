{
 "cells": [
  {
   "cell_type": "markdown",
   "id": "c90155d9",
   "metadata": {},
   "source": [
    "# Generate config files for new SAILOR pipeline (snakemake), hg38, with default settings"
   ]
  },
  {
   "cell_type": "markdown",
   "id": "0f635281",
   "metadata": {},
   "source": [
    "### This script will make sailor.qsub, sailor_snakemake.sh and hg38_sailor_config_ct.json"
   ]
  },
  {
   "cell_type": "code",
   "execution_count": 1,
   "id": "6055c7c0-3f62-4669-a5db-9865047a8dca",
   "metadata": {},
   "outputs": [
    {
     "name": "stdout",
     "output_type": "stream",
     "text": [
      "/tscc/lustre/ddn/scratch/q2liang/isSTAMP_publication_scripts/example_analysis_notebooks\n"
     ]
    }
   ],
   "source": [
    "import os\n",
    "cwd = os.getcwd()\n",
    "\n",
    "main_directory = cwd\n",
    "print(main_directory)"
   ]
  },
  {
   "cell_type": "code",
   "execution_count": 2,
   "id": "4264e5e2",
   "metadata": {},
   "outputs": [
    {
     "name": "stdout",
     "output_type": "stream",
     "text": [
      "/tscc/lustre/ddn/scratch/q2liang/isSTAMP_publication_scripts/example_analysis_notebooks \n",
      " /tscc/lustre/ddn/scratch/q2liang/isSTAMP_publication_scripts/example_analysis_notebooks/sailor.qsub \n",
      " /tscc/lustre/ddn/scratch/q2liang/isSTAMP_publication_scripts/example_analysis_notebooks/sailor_snakemake.sh \n",
      " /tscc/lustre/ddn/scratch/q2liang/isSTAMP_publication_scripts/example_analysis_notebooks/hg38_sailor_config_ct.json \n",
      " /tscc/lustre/ddn/scratch/q2liang/isSTAMP_publication_scripts/example_analysis_notebooks/genome_align_se/results \n",
      " /tscc/lustre/ddn/scratch/q2liang/isSTAMP_publication_scripts/example_analysis_notebooks/sailor_output/\n"
     ]
    }
   ],
   "source": [
    "import subprocess\n",
    "\n",
    "config_path = main_directory\n",
    "qsub_file = main_directory + \"/sailor.qsub\"\n",
    "sh_file = main_directory + \"/sailor_snakemake.sh\"\n",
    "json_file = main_directory + \"/hg38_sailor_config_ct.json\"\n",
    "samples_path = main_directory + \"/genome_align_se/results\"\n",
    "output_dir = main_directory + \"/sailor_output/\"\n",
    "\n",
    "subprocess.run([\"mkdir\", output_dir])\n",
    "print(config_path, '\\n', qsub_file, '\\n', sh_file, '\\n', json_file, '\\n', samples_path, '\\n', output_dir)"
   ]
  },
  {
   "cell_type": "code",
   "execution_count": 3,
   "id": "101e173a-e1c9-4fd4-b37f-24e0df034c9f",
   "metadata": {},
   "outputs": [
    {
     "name": "stdout",
     "output_type": "stream",
     "text": [
      "18\n",
      "['isSTAMP10_07_S7_L004_R1_001.fastqTr.sorted.STARUnmapped.out.sorted.STARAligned.out.sorted.bam', 'isSTAMP10_13_S13_L004_R1_001.fastqTr.sorted.STARUnmapped.out.sorted.STARAligned.out.sorted.bam', 'isSTAMP10_06_S6_L004_R1_001.fastqTr.sorted.STARUnmapped.out.sorted.STARAligned.out.sorted.bam', 'isSTAMP10_10_S10_L004_R1_001.fastqTr.sorted.STARUnmapped.out.sorted.STARAligned.out.sorted.bam', 'isSTAMP10_05_S5_L004_R1_001.fastqTr.sorted.STARUnmapped.out.sorted.STARAligned.out.sorted.bam', 'isSTAMP10_04_S4_L004_R1_001.fastqTr.sorted.STARUnmapped.out.sorted.STARAligned.out.sorted.bam', 'isSTAMP10_15_S15_L004_R1_001.fastqTr.sorted.STARUnmapped.out.sorted.STARAligned.out.sorted.bam', 'isSTAMP10_02_S2_L004_R1_001.fastqTr.sorted.STARUnmapped.out.sorted.STARAligned.out.sorted.bam', 'isSTAMP10_18_S18_L004_R1_001.fastqTr.sorted.STARUnmapped.out.sorted.STARAligned.out.sorted.bam', 'isSTAMP10_03_S3_L004_R1_001.fastqTr.sorted.STARUnmapped.out.sorted.STARAligned.out.sorted.bam', 'isSTAMP10_16_S16_L004_R1_001.fastqTr.sorted.STARUnmapped.out.sorted.STARAligned.out.sorted.bam', 'isSTAMP10_01_S1_L004_R1_001.fastqTr.sorted.STARUnmapped.out.sorted.STARAligned.out.sorted.bam', 'isSTAMP10_12_S12_L004_R1_001.fastqTr.sorted.STARUnmapped.out.sorted.STARAligned.out.sorted.bam', 'isSTAMP10_11_S11_L004_R1_001.fastqTr.sorted.STARUnmapped.out.sorted.STARAligned.out.sorted.bam', 'isSTAMP10_09_S9_L004_R1_001.fastqTr.sorted.STARUnmapped.out.sorted.STARAligned.out.sorted.bam', 'isSTAMP10_14_S14_L004_R1_001.fastqTr.sorted.STARUnmapped.out.sorted.STARAligned.out.sorted.bam', 'isSTAMP10_08_S8_L004_R1_001.fastqTr.sorted.STARUnmapped.out.sorted.STARAligned.out.sorted.bam', 'isSTAMP10_17_S17_L004_R1_001.fastqTr.sorted.STARUnmapped.out.sorted.STARAligned.out.sorted.bam']\n"
     ]
    }
   ],
   "source": [
    "import os\n",
    "from glob import glob\n",
    "\n",
    "samples_to_keep = [f.split('/')[-1] for f in glob(samples_path + '/*fastqTr.sorted.STARUnmapped.out.sorted.STARAligned.out.sorted.bam')]\n",
    "\n",
    "print(len(samples_to_keep))\n",
    "print(samples_to_keep)\n"
   ]
  },
  {
   "cell_type": "code",
   "execution_count": 4,
   "id": "01b452de",
   "metadata": {},
   "outputs": [],
   "source": [
    "qsub_header = [\n",
    "    '#!/bin/bash',\n",
    "    '#PBS -N sailor',\n",
    "    '#PBS -o sailor.sh.out',\n",
    "    '#PBS -e sailor.sh.err',\n",
    "    '#PBS -V',\n",
    "    '#PBS -l walltime=48:00:00', \n",
    "    '#PBS -l nodes=1:ppn=8',\n",
    "    '#PBS -A yeo-group',\n",
    "    '#PBS -q home',\n",
    "    ''\n",
    "    '# USE FULL PATHS TO YOUR CONFIG FILE AND LOG'\n",
    "]"
   ]
  },
  {
   "cell_type": "code",
   "execution_count": 5,
   "id": "4f20e779",
   "metadata": {},
   "outputs": [],
   "source": [
    "\n",
    "cmd_line = 'source .bashrc\\n' + 'module load snakemake\\n' + 'cd ' + config_path + '\\n' + 'chmod +x ' + sh_file + '\\n' + 'sh ' + sh_file\n",
    "\n",
    "\n",
    "with open(qsub_file, 'w') as f:\n",
    "    for l in qsub_header:\n",
    "        f.write('{}\\n'.format(l))\n",
    "    f.write('\\n')\n",
    "    f.write(cmd_line)\n",
    "    f.write('\\n')\n"
   ]
  },
  {
   "cell_type": "code",
   "execution_count": 6,
   "id": "d36bdff3",
   "metadata": {},
   "outputs": [],
   "source": [
    "sailor_sh_lines = [\n",
    "'snakemake \\\\',\n",
    "'--profile /tscc/projects/ps-yeolab4/software/stamp/0.99.0/bin/stamp/profiles/tscc_sailor \\\\',\n",
    "'--configfile ' + json_file + ' \\\\',\n",
    "'--rerun-incomplete \\\\',\n",
    "'-j 30'\n",
    "]\n",
    "\n",
    "with open(sh_file, 'w') as f:\n",
    "    for h in sailor_sh_lines:\n",
    "        f.write('{}\\n'.format(h))\n",
    "\n"
   ]
  },
  {
   "cell_type": "code",
   "execution_count": 7,
   "id": "b4aefbb2-944f-4447-b091-f3ff7f4ba637",
   "metadata": {},
   "outputs": [],
   "source": [
    "import json \n",
    "\n",
    "input_json_ct = {\n",
    "    'samples_path': samples_path,\n",
    "    'samples': samples_to_keep,\n",
    "    'remove_duplicates':False,\n",
    "    'junction_overhang':10,\n",
    "    'edge_mutation':5,\n",
    "    'non_ag':1,\n",
    "    'reverse_stranded':True,\n",
    "    'reference_fasta':\"/tscc/projects/ps-yeolab3/bay001/annotations/hg38/hg38.fa\",\n",
    "    'dp':\"DP4\",\n",
    "    'min_variant_coverage':5,\n",
    "    'known_snps':\"/tscc/projects/ps-yeolab3/ekofman/ReferenceData/hg38/human_9606_b151_GRCh38p7_dbsnp/b151_GRCh38p7_common.with_chr.bed3\",\n",
    "    'edit_type':\"ct\",\n",
    "    'edit_fraction':0.01,\n",
    "    'alpha':0,\n",
    "    'beta':0,\n",
    "    'keep_all_edited':False,\n",
    "    'output_dir':output_dir,\n",
    "    'snakemake_dir_path':\"/tscc/projects/ps-yeolab4/software/stamp/0.99.0/bin/stamp/\"\n",
    "}\n",
    "\n",
    "with open(json_file, 'w') as f:\n",
    "    json.dump(input_json_ct, f)\n"
   ]
  }
 ],
 "metadata": {
  "kernelspec": {
   "display_name": "py3",
   "language": "python",
   "name": "py3"
  },
  "language_info": {
   "codemirror_mode": {
    "name": "ipython",
    "version": 3
   },
   "file_extension": ".py",
   "mimetype": "text/x-python",
   "name": "python",
   "nbconvert_exporter": "python",
   "pygments_lexer": "ipython3",
   "version": "3.6.13"
  }
 },
 "nbformat": 4,
 "nbformat_minor": 5
}
